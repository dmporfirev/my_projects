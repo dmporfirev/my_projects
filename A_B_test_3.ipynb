{
 "cells": [
  {
   "cell_type": "markdown",
   "id": "8b2b3c8a",
   "metadata": {},
   "source": [
    "## Анализ результатов A-A-B теста"
   ]
  },
  {
   "cell_type": "code",
   "execution_count": 1,
   "id": "bf349512",
   "metadata": {},
   "outputs": [],
   "source": [
    "import pandas as pd\n",
    "import numpy as np\n",
    "import requests\n",
    "from urllib.parse import urlencode\n",
    "import seaborn as sns\n",
    "import matplotlib.pyplot as plt\n",
    "\n",
    "import pingouin as pg\n",
    "import scipy.stats as st \n",
    "from tqdm.auto import tqdm"
   ]
  },
  {
   "cell_type": "markdown",
   "id": "c5acf3a9",
   "metadata": {},
   "source": [
    "### Задача\n",
    "Представьте, что вы работаете в крупном дейтинговом приложении.\n",
    "\n",
    "Помимо базовых функций, в приложении также имеется премиум-подписка, которая дает доступ к ряду важных дополнительных возможностей. Был проведен A/B тест, в рамках которого для новых пользователей из нескольких стран была изменена стоимость премиум-подписки* при покупке через две новые платежные системы. При этом стоимость пробного периода оставалась прежней.\n",
    "\n",
    "Проверьте:\n",
    "\n",
    "1. Был ли эксперимент успешен в целом.\n",
    "2. Проанализируйте, имеет ли нововведение смысл среди каких-либо конкретных групп пользователей.\n",
    "*Деньги за подписку списываются ежемесячно до тех пор, пока пользователь её не отменит."
   ]
  },
  {
   "cell_type": "markdown",
   "id": "357c3d10",
   "metadata": {},
   "source": [
    "### Данные\n",
    "Всего есть три группы: тестовая (test), контрольная 1 (control_1) и контрольная 2 (control_2). Для каждой из них:\n",
    "\n",
    "#### users_*.csv – информация о пользователях:\n",
    "\n",
    "+ uid – идентификатор пользователя\n",
    "+ age – возраст\n",
    "+ attraction_coeff – коэффициент привлекательности (от 0 до 1000, 1000*{лайки}/{просмотры}\n",
    "+ coins – число монеток (внутренняя валюта)\n",
    "+ country – страна  \n",
    "+ visit_days – в какие дни после регистрации пользователь посещал приложение (напр. в 1, затем в 7)\n",
    "+ gender – пол\n",
    "+ age_filter_start  – фильтр поиска, мин. значение \n",
    "+ age_filter_end  – фильтр поиска, макс. значение \n",
    "+ views_count – число полученных оценок \n",
    "+ was_premium – был ли когда-либо премиум (либо пробный период премиум-статуса, либо купленный за деньги)\n",
    "+ is_premium –  является ли премиум\n",
    "+ total_revenue – нормированная выручка\n",
    " \n",
    "#### transactions_*.csv – информация о платежах пользователей:\n",
    "\n",
    "+ uid – идентификатор пользователя\n",
    "+ country – страна\n",
    "+ joined_at – дата и время регистрации\n",
    "+ paid_at – дата и время покупки\n",
    "+ revenue – нормированная выручка\n",
    "+ payment_id – идентификатор платежа\n",
    "+ from_page – откуда пользователь перешел на страницу оплаты\n",
    "+ product_type – тип продукта (trial_premium – пробная премиум-подписка, premium_no_trial – премиум-подписка без пробной, coins – подписка за внутреннюю валюту, other_type – другое)"
   ]
  },
  {
   "cell_type": "markdown",
   "id": "8dbdc86b",
   "metadata": {},
   "source": [
    "### Загрузим данные"
   ]
  },
  {
   "cell_type": "code",
   "execution_count": 2,
   "id": "5305247c",
   "metadata": {},
   "outputs": [],
   "source": [
    "# создадим функцию для получения url загрузки и загрузим данные"
   ]
  },
  {
   "cell_type": "code",
   "execution_count": 3,
   "id": "cd514ef3",
   "metadata": {},
   "outputs": [],
   "source": [
    "def get_url (public_key):\n",
    "    \"\"\"\"Чтобы получить URL для непосредственной загрузки файла, необходимо передать путь на Яндекс Диске,\n",
    "    по которому загруженный файл должен быть доступен\"\"\"\n",
    "    base_url = 'https://cloud-api.yandex.net/v1/disk/public/resources/download?'\n",
    "    final_url = base_url + urlencode(dict(public_key=public_key))\n",
    "    response = requests.get(final_url)\n",
    "    download_url = response.json()['href']\n",
    "    return download_url"
   ]
  },
  {
   "cell_type": "code",
   "execution_count": 4,
   "id": "adbb966d",
   "metadata": {},
   "outputs": [],
   "source": [
    "users_test             = pd.read_csv(get_url('https://disk.yandex.ru/d/L8HxRYDn2l4h9A'), sep = ';')\n",
    "users_control_1        = pd.read_csv(get_url('https://disk.yandex.ru/d/TxOD_JxnkMd4mA'), sep = ';')\n",
    "users_control_2        = pd.read_csv(get_url('https://disk.yandex.ru/d/YT6OWRK2cTWfLg'), sep = ';')\n",
    "transactions_test      = pd.read_csv(get_url('https://disk.yandex.ru/d/3viYBnm7cyihkQ'), sep = ';',\n",
    "                                    parse_dates = ['joined_at','paid_at'])\n",
    "transactions_control_1 = pd.read_csv(get_url('https://disk.yandex.ru/d/84jzzJeQ4tqVyg'), sep = ';',\n",
    "                                    parse_dates = ['joined_at','paid_at'])\n",
    "transactions_control_2 = pd.read_csv(get_url('https://disk.yandex.ru/d/_pOo7mrDCZZMyA'), sep = ';',\n",
    "                                    parse_dates = ['joined_at','paid_at'])"
   ]
  },
  {
   "cell_type": "code",
   "execution_count": 5,
   "id": "e09bfeb3",
   "metadata": {},
   "outputs": [
    {
     "data": {
      "text/html": [
       "<div>\n",
       "<style scoped>\n",
       "    .dataframe tbody tr th:only-of-type {\n",
       "        vertical-align: middle;\n",
       "    }\n",
       "\n",
       "    .dataframe tbody tr th {\n",
       "        vertical-align: top;\n",
       "    }\n",
       "\n",
       "    .dataframe thead th {\n",
       "        text-align: right;\n",
       "    }\n",
       "</style>\n",
       "<table border=\"1\" class=\"dataframe\">\n",
       "  <thead>\n",
       "    <tr style=\"text-align: right;\">\n",
       "      <th></th>\n",
       "      <th>uid</th>\n",
       "      <th>age</th>\n",
       "      <th>attraction_coeff</th>\n",
       "      <th>coins</th>\n",
       "      <th>country</th>\n",
       "      <th>visit_days</th>\n",
       "      <th>gender</th>\n",
       "      <th>age_filter_start</th>\n",
       "      <th>age_filter_end</th>\n",
       "      <th>views_count</th>\n",
       "      <th>was_premium</th>\n",
       "      <th>is_premium</th>\n",
       "      <th>total_revenue</th>\n",
       "    </tr>\n",
       "  </thead>\n",
       "  <tbody>\n",
       "    <tr>\n",
       "      <th>0</th>\n",
       "      <td>892309896</td>\n",
       "      <td>27</td>\n",
       "      <td>685</td>\n",
       "      <td>NaN</td>\n",
       "      <td>United States of America</td>\n",
       "      <td>1,2,3,4,5,6,7,8,9,10,11,12,16,17</td>\n",
       "      <td>1</td>\n",
       "      <td>24</td>\n",
       "      <td>30</td>\n",
       "      <td>89</td>\n",
       "      <td>NaN</td>\n",
       "      <td>NaN</td>\n",
       "      <td>0</td>\n",
       "    </tr>\n",
       "    <tr>\n",
       "      <th>1</th>\n",
       "      <td>892044516</td>\n",
       "      <td>27</td>\n",
       "      <td>0</td>\n",
       "      <td>NaN</td>\n",
       "      <td>Germany</td>\n",
       "      <td>NaN</td>\n",
       "      <td>1</td>\n",
       "      <td>24</td>\n",
       "      <td>30</td>\n",
       "      <td>0</td>\n",
       "      <td>NaN</td>\n",
       "      <td>NaN</td>\n",
       "      <td>0</td>\n",
       "    </tr>\n",
       "    <tr>\n",
       "      <th>2</th>\n",
       "      <td>892185708</td>\n",
       "      <td>45</td>\n",
       "      <td>44</td>\n",
       "      <td>NaN</td>\n",
       "      <td>Israel</td>\n",
       "      <td>1,3,4,6,7,8,10,11,12,13,14,15,16,17,18,19,20,2...</td>\n",
       "      <td>1</td>\n",
       "      <td>42</td>\n",
       "      <td>48</td>\n",
       "      <td>68</td>\n",
       "      <td>NaN</td>\n",
       "      <td>NaN</td>\n",
       "      <td>0</td>\n",
       "    </tr>\n",
       "    <tr>\n",
       "      <th>3</th>\n",
       "      <td>892130292</td>\n",
       "      <td>32</td>\n",
       "      <td>0</td>\n",
       "      <td>NaN</td>\n",
       "      <td>United States of America</td>\n",
       "      <td>1,2,3,4,5,6,7,8,9,10,11,12</td>\n",
       "      <td>1</td>\n",
       "      <td>29</td>\n",
       "      <td>35</td>\n",
       "      <td>0</td>\n",
       "      <td>NaN</td>\n",
       "      <td>NaN</td>\n",
       "      <td>0</td>\n",
       "    </tr>\n",
       "    <tr>\n",
       "      <th>4</th>\n",
       "      <td>891406035</td>\n",
       "      <td>27</td>\n",
       "      <td>1000</td>\n",
       "      <td>NaN</td>\n",
       "      <td>France</td>\n",
       "      <td>NaN</td>\n",
       "      <td>1</td>\n",
       "      <td>24</td>\n",
       "      <td>30</td>\n",
       "      <td>1</td>\n",
       "      <td>1.0</td>\n",
       "      <td>NaN</td>\n",
       "      <td>0</td>\n",
       "    </tr>\n",
       "  </tbody>\n",
       "</table>\n",
       "</div>"
      ],
      "text/plain": [
       "         uid  age  attraction_coeff  coins                   country  \\\n",
       "0  892309896   27               685    NaN  United States of America   \n",
       "1  892044516   27                 0    NaN                   Germany   \n",
       "2  892185708   45                44    NaN                    Israel   \n",
       "3  892130292   32                 0    NaN  United States of America   \n",
       "4  891406035   27              1000    NaN                    France   \n",
       "\n",
       "                                          visit_days  gender  \\\n",
       "0                   1,2,3,4,5,6,7,8,9,10,11,12,16,17       1   \n",
       "1                                                NaN       1   \n",
       "2  1,3,4,6,7,8,10,11,12,13,14,15,16,17,18,19,20,2...       1   \n",
       "3                         1,2,3,4,5,6,7,8,9,10,11,12       1   \n",
       "4                                                NaN       1   \n",
       "\n",
       "   age_filter_start  age_filter_end  views_count  was_premium  is_premium  \\\n",
       "0                24              30           89          NaN         NaN   \n",
       "1                24              30            0          NaN         NaN   \n",
       "2                42              48           68          NaN         NaN   \n",
       "3                29              35            0          NaN         NaN   \n",
       "4                24              30            1          1.0         NaN   \n",
       "\n",
       "   total_revenue  \n",
       "0              0  \n",
       "1              0  \n",
       "2              0  \n",
       "3              0  \n",
       "4              0  "
      ]
     },
     "execution_count": 5,
     "metadata": {},
     "output_type": "execute_result"
    }
   ],
   "source": [
    "users_test.head()"
   ]
  },
  {
   "cell_type": "code",
   "execution_count": 6,
   "id": "5c664ba7",
   "metadata": {},
   "outputs": [
    {
     "data": {
      "text/html": [
       "<div>\n",
       "<style scoped>\n",
       "    .dataframe tbody tr th:only-of-type {\n",
       "        vertical-align: middle;\n",
       "    }\n",
       "\n",
       "    .dataframe tbody tr th {\n",
       "        vertical-align: top;\n",
       "    }\n",
       "\n",
       "    .dataframe thead th {\n",
       "        text-align: right;\n",
       "    }\n",
       "</style>\n",
       "<table border=\"1\" class=\"dataframe\">\n",
       "  <thead>\n",
       "    <tr style=\"text-align: right;\">\n",
       "      <th></th>\n",
       "      <th>uid</th>\n",
       "      <th>country</th>\n",
       "      <th>joined_at</th>\n",
       "      <th>paid_at</th>\n",
       "      <th>revenue</th>\n",
       "      <th>payment_id</th>\n",
       "      <th>from_page</th>\n",
       "      <th>product_type</th>\n",
       "    </tr>\n",
       "  </thead>\n",
       "  <tbody>\n",
       "    <tr>\n",
       "      <th>0</th>\n",
       "      <td>891345942</td>\n",
       "      <td>Italy</td>\n",
       "      <td>2017-05-11 13:00:00</td>\n",
       "      <td>2017-11-13 15:04:00</td>\n",
       "      <td>12909</td>\n",
       "      <td>147</td>\n",
       "      <td>trial_vip_popup</td>\n",
       "      <td>trial_premium</td>\n",
       "    </tr>\n",
       "    <tr>\n",
       "      <th>1</th>\n",
       "      <td>892054251</td>\n",
       "      <td>United States of America</td>\n",
       "      <td>2017-10-22 00:33:00</td>\n",
       "      <td>2017-10-30 01:37:00</td>\n",
       "      <td>13923</td>\n",
       "      <td>147</td>\n",
       "      <td>trial_vip_popup</td>\n",
       "      <td>trial_premium</td>\n",
       "    </tr>\n",
       "    <tr>\n",
       "      <th>2</th>\n",
       "      <td>892236423</td>\n",
       "      <td>United States of America</td>\n",
       "      <td>2017-10-18 01:09:00</td>\n",
       "      <td>2017-10-23 00:15:00</td>\n",
       "      <td>3783</td>\n",
       "      <td>67</td>\n",
       "      <td>menu</td>\n",
       "      <td>other_type</td>\n",
       "    </tr>\n",
       "    <tr>\n",
       "      <th>3</th>\n",
       "      <td>892236423</td>\n",
       "      <td>United States of America</td>\n",
       "      <td>2017-10-18 01:09:00</td>\n",
       "      <td>2017-10-27 22:38:00</td>\n",
       "      <td>3783</td>\n",
       "      <td>67</td>\n",
       "      <td>menu</td>\n",
       "      <td>other_type</td>\n",
       "    </tr>\n",
       "    <tr>\n",
       "      <th>4</th>\n",
       "      <td>892168170</td>\n",
       "      <td>United States of America</td>\n",
       "      <td>2017-10-19 17:10:00</td>\n",
       "      <td>2017-10-27 19:10:00</td>\n",
       "      <td>9087</td>\n",
       "      <td>147</td>\n",
       "      <td>trial_vip_popup</td>\n",
       "      <td>trial_premium</td>\n",
       "    </tr>\n",
       "  </tbody>\n",
       "</table>\n",
       "</div>"
      ],
      "text/plain": [
       "         uid                   country           joined_at  \\\n",
       "0  891345942                     Italy 2017-05-11 13:00:00   \n",
       "1  892054251  United States of America 2017-10-22 00:33:00   \n",
       "2  892236423  United States of America 2017-10-18 01:09:00   \n",
       "3  892236423  United States of America 2017-10-18 01:09:00   \n",
       "4  892168170  United States of America 2017-10-19 17:10:00   \n",
       "\n",
       "              paid_at  revenue  payment_id        from_page   product_type  \n",
       "0 2017-11-13 15:04:00    12909         147  trial_vip_popup  trial_premium  \n",
       "1 2017-10-30 01:37:00    13923         147  trial_vip_popup  trial_premium  \n",
       "2 2017-10-23 00:15:00     3783          67             menu     other_type  \n",
       "3 2017-10-27 22:38:00     3783          67             menu     other_type  \n",
       "4 2017-10-27 19:10:00     9087         147  trial_vip_popup  trial_premium  "
      ]
     },
     "execution_count": 6,
     "metadata": {},
     "output_type": "execute_result"
    }
   ],
   "source": [
    "transactions_test.head()"
   ]
  },
  {
   "cell_type": "markdown",
   "id": "7345075e",
   "metadata": {},
   "source": [
    "### Предварительный анализ данных"
   ]
  },
  {
   "cell_type": "code",
   "execution_count": 7,
   "id": "305018c2",
   "metadata": {},
   "outputs": [],
   "source": [
    "# объеденим датасеты для более удобного предварительного анализа\n",
    "# для этого создадим в датасетах стоблцы с информацией о группе"
   ]
  },
  {
   "cell_type": "code",
   "execution_count": 8,
   "id": "d96cf139",
   "metadata": {},
   "outputs": [],
   "source": [
    "users_test['group']      = 'test'\n",
    "users_control_1['group'] = 'control_1'\n",
    "users_control_2['group'] = 'control_2'"
   ]
  },
  {
   "cell_type": "code",
   "execution_count": 9,
   "id": "206534c2",
   "metadata": {},
   "outputs": [],
   "source": [
    "users = pd.concat([users_test, users_control_1, users_control_2], axis = 0)"
   ]
  },
  {
   "cell_type": "code",
   "execution_count": 10,
   "id": "90da3690",
   "metadata": {},
   "outputs": [],
   "source": [
    "transactions_test['group']      = 'test'\n",
    "transactions_control_1['group'] = 'control_1'\n",
    "transactions_control_2['group'] = 'control_2'"
   ]
  },
  {
   "cell_type": "code",
   "execution_count": 11,
   "id": "a09eb1ac",
   "metadata": {},
   "outputs": [],
   "source": [
    "transactions = pd.concat([transactions_test, transactions_control_1, transactions_control_2], axis = 0)"
   ]
  },
  {
   "cell_type": "code",
   "execution_count": 12,
   "id": "4f0cadec",
   "metadata": {},
   "outputs": [],
   "source": [
    "# проверим уникальны ли все пользователи"
   ]
  },
  {
   "cell_type": "code",
   "execution_count": 13,
   "id": "e2cb8b2f",
   "metadata": {},
   "outputs": [
    {
     "data": {
      "text/plain": [
       "(12912, 14)"
      ]
     },
     "execution_count": 13,
     "metadata": {},
     "output_type": "execute_result"
    }
   ],
   "source": [
    "users.shape"
   ]
  },
  {
   "cell_type": "code",
   "execution_count": 14,
   "id": "df217cf9",
   "metadata": {},
   "outputs": [
    {
     "data": {
      "text/plain": [
       "12912"
      ]
     },
     "execution_count": 14,
     "metadata": {},
     "output_type": "execute_result"
    }
   ],
   "source": [
    "users.uid.nunique()"
   ]
  },
  {
   "cell_type": "code",
   "execution_count": 15,
   "id": "4696a6d5",
   "metadata": {},
   "outputs": [],
   "source": [
    "# проверим пропущенные значения"
   ]
  },
  {
   "cell_type": "code",
   "execution_count": 16,
   "id": "bafdfc30",
   "metadata": {},
   "outputs": [
    {
     "name": "stdout",
     "output_type": "stream",
     "text": [
      "<class 'pandas.core.frame.DataFrame'>\n",
      "Int64Index: 12912 entries, 0 to 4263\n",
      "Data columns (total 14 columns):\n",
      " #   Column            Non-Null Count  Dtype  \n",
      "---  ------            --------------  -----  \n",
      " 0   uid               12912 non-null  int64  \n",
      " 1   age               12912 non-null  int64  \n",
      " 2   attraction_coeff  12912 non-null  int64  \n",
      " 3   coins             170 non-null    float64\n",
      " 4   country           12912 non-null  object \n",
      " 5   visit_days        8894 non-null   object \n",
      " 6   gender            12912 non-null  int64  \n",
      " 7   age_filter_start  12912 non-null  int64  \n",
      " 8   age_filter_end    12912 non-null  int64  \n",
      " 9   views_count       12912 non-null  int64  \n",
      " 10  was_premium       1255 non-null   float64\n",
      " 11  is_premium        540 non-null    float64\n",
      " 12  total_revenue     12912 non-null  int64  \n",
      " 13  group             12912 non-null  object \n",
      "dtypes: float64(3), int64(8), object(3)\n",
      "memory usage: 1.5+ MB\n"
     ]
    }
   ],
   "source": [
    "users.info()"
   ]
  },
  {
   "cell_type": "markdown",
   "id": "3f8011b0",
   "metadata": {},
   "source": [
    "Есть пропущенные значения в колонках coins,visit_days, was_premium, is_premium. \n",
    "1. coins - количество монет - пропущенные значения можно заменить на ноль\n",
    "2. visit_days - дни в которые пользователь вернулся,значения объект, заменим на 'no'\n",
    "3. was_premium, is_premium - пропущенные значения заменим на ноль - наличие премиема будет 1 отсуствие 0"
   ]
  },
  {
   "cell_type": "code",
   "execution_count": 17,
   "id": "d1c9091a",
   "metadata": {
    "scrolled": true
   },
   "outputs": [],
   "source": [
    "users[['coins','was_premium','is_premium']] = users[['coins','was_premium','is_premium']].fillna(0)\n",
    "users['visit_days'] = users['visit_days'].fillna('no')"
   ]
  },
  {
   "cell_type": "code",
   "execution_count": 18,
   "id": "ce27fbb4",
   "metadata": {},
   "outputs": [],
   "source": [
    "# посмотрим бегло статистику"
   ]
  },
  {
   "cell_type": "code",
   "execution_count": 19,
   "id": "e035d328",
   "metadata": {
    "scrolled": true
   },
   "outputs": [
    {
     "data": {
      "text/html": [
       "<div>\n",
       "<style scoped>\n",
       "    .dataframe tbody tr th:only-of-type {\n",
       "        vertical-align: middle;\n",
       "    }\n",
       "\n",
       "    .dataframe tbody tr th {\n",
       "        vertical-align: top;\n",
       "    }\n",
       "\n",
       "    .dataframe thead th {\n",
       "        text-align: right;\n",
       "    }\n",
       "</style>\n",
       "<table border=\"1\" class=\"dataframe\">\n",
       "  <thead>\n",
       "    <tr style=\"text-align: right;\">\n",
       "      <th></th>\n",
       "      <th>uid</th>\n",
       "      <th>age</th>\n",
       "      <th>attraction_coeff</th>\n",
       "      <th>coins</th>\n",
       "      <th>gender</th>\n",
       "      <th>age_filter_start</th>\n",
       "      <th>age_filter_end</th>\n",
       "      <th>views_count</th>\n",
       "      <th>was_premium</th>\n",
       "      <th>is_premium</th>\n",
       "      <th>total_revenue</th>\n",
       "    </tr>\n",
       "  </thead>\n",
       "  <tbody>\n",
       "    <tr>\n",
       "      <th>count</th>\n",
       "      <td>1.291200e+04</td>\n",
       "      <td>12912.000000</td>\n",
       "      <td>12912.000000</td>\n",
       "      <td>12912.000000</td>\n",
       "      <td>12912.000000</td>\n",
       "      <td>12912.000000</td>\n",
       "      <td>12912.000000</td>\n",
       "      <td>12912.000000</td>\n",
       "      <td>12912.000000</td>\n",
       "      <td>12912.000000</td>\n",
       "      <td>12912.000000</td>\n",
       "    </tr>\n",
       "    <tr>\n",
       "      <th>mean</th>\n",
       "      <td>8.917569e+08</td>\n",
       "      <td>32.010378</td>\n",
       "      <td>315.455545</td>\n",
       "      <td>9.070864</td>\n",
       "      <td>0.955158</td>\n",
       "      <td>26.815985</td>\n",
       "      <td>38.568463</td>\n",
       "      <td>46.641032</td>\n",
       "      <td>0.097196</td>\n",
       "      <td>0.041822</td>\n",
       "      <td>526.837283</td>\n",
       "    </tr>\n",
       "    <tr>\n",
       "      <th>std</th>\n",
       "      <td>1.610285e+06</td>\n",
       "      <td>10.224415</td>\n",
       "      <td>323.488766</td>\n",
       "      <td>883.417344</td>\n",
       "      <td>0.206965</td>\n",
       "      <td>9.447197</td>\n",
       "      <td>15.511204</td>\n",
       "      <td>285.324194</td>\n",
       "      <td>0.296236</td>\n",
       "      <td>0.200189</td>\n",
       "      <td>5524.662716</td>\n",
       "    </tr>\n",
       "    <tr>\n",
       "      <th>min</th>\n",
       "      <td>8.910509e+08</td>\n",
       "      <td>16.000000</td>\n",
       "      <td>0.000000</td>\n",
       "      <td>0.000000</td>\n",
       "      <td>0.000000</td>\n",
       "      <td>13.000000</td>\n",
       "      <td>19.000000</td>\n",
       "      <td>0.000000</td>\n",
       "      <td>0.000000</td>\n",
       "      <td>0.000000</td>\n",
       "      <td>0.000000</td>\n",
       "    </tr>\n",
       "    <tr>\n",
       "      <th>25%</th>\n",
       "      <td>8.913565e+08</td>\n",
       "      <td>25.000000</td>\n",
       "      <td>0.000000</td>\n",
       "      <td>0.000000</td>\n",
       "      <td>1.000000</td>\n",
       "      <td>19.000000</td>\n",
       "      <td>28.000000</td>\n",
       "      <td>1.000000</td>\n",
       "      <td>0.000000</td>\n",
       "      <td>0.000000</td>\n",
       "      <td>0.000000</td>\n",
       "    </tr>\n",
       "    <tr>\n",
       "      <th>50%</th>\n",
       "      <td>8.917255e+08</td>\n",
       "      <td>30.000000</td>\n",
       "      <td>250.000000</td>\n",
       "      <td>0.000000</td>\n",
       "      <td>1.000000</td>\n",
       "      <td>25.000000</td>\n",
       "      <td>35.000000</td>\n",
       "      <td>6.000000</td>\n",
       "      <td>0.000000</td>\n",
       "      <td>0.000000</td>\n",
       "      <td>0.000000</td>\n",
       "    </tr>\n",
       "    <tr>\n",
       "      <th>75%</th>\n",
       "      <td>8.920860e+08</td>\n",
       "      <td>38.000000</td>\n",
       "      <td>529.000000</td>\n",
       "      <td>0.000000</td>\n",
       "      <td>1.000000</td>\n",
       "      <td>32.000000</td>\n",
       "      <td>45.000000</td>\n",
       "      <td>21.000000</td>\n",
       "      <td>0.000000</td>\n",
       "      <td>0.000000</td>\n",
       "      <td>0.000000</td>\n",
       "    </tr>\n",
       "    <tr>\n",
       "      <th>max</th>\n",
       "      <td>1.053059e+09</td>\n",
       "      <td>99.000000</td>\n",
       "      <td>1000.000000</td>\n",
       "      <td>99958.000000</td>\n",
       "      <td>1.000000</td>\n",
       "      <td>96.000000</td>\n",
       "      <td>102.000000</td>\n",
       "      <td>16157.000000</td>\n",
       "      <td>1.000000</td>\n",
       "      <td>1.000000</td>\n",
       "      <td>486330.000000</td>\n",
       "    </tr>\n",
       "  </tbody>\n",
       "</table>\n",
       "</div>"
      ],
      "text/plain": [
       "                uid           age  attraction_coeff         coins  \\\n",
       "count  1.291200e+04  12912.000000      12912.000000  12912.000000   \n",
       "mean   8.917569e+08     32.010378        315.455545      9.070864   \n",
       "std    1.610285e+06     10.224415        323.488766    883.417344   \n",
       "min    8.910509e+08     16.000000          0.000000      0.000000   \n",
       "25%    8.913565e+08     25.000000          0.000000      0.000000   \n",
       "50%    8.917255e+08     30.000000        250.000000      0.000000   \n",
       "75%    8.920860e+08     38.000000        529.000000      0.000000   \n",
       "max    1.053059e+09     99.000000       1000.000000  99958.000000   \n",
       "\n",
       "             gender  age_filter_start  age_filter_end   views_count  \\\n",
       "count  12912.000000      12912.000000    12912.000000  12912.000000   \n",
       "mean       0.955158         26.815985       38.568463     46.641032   \n",
       "std        0.206965          9.447197       15.511204    285.324194   \n",
       "min        0.000000         13.000000       19.000000      0.000000   \n",
       "25%        1.000000         19.000000       28.000000      1.000000   \n",
       "50%        1.000000         25.000000       35.000000      6.000000   \n",
       "75%        1.000000         32.000000       45.000000     21.000000   \n",
       "max        1.000000         96.000000      102.000000  16157.000000   \n",
       "\n",
       "        was_premium    is_premium  total_revenue  \n",
       "count  12912.000000  12912.000000   12912.000000  \n",
       "mean       0.097196      0.041822     526.837283  \n",
       "std        0.296236      0.200189    5524.662716  \n",
       "min        0.000000      0.000000       0.000000  \n",
       "25%        0.000000      0.000000       0.000000  \n",
       "50%        0.000000      0.000000       0.000000  \n",
       "75%        0.000000      0.000000       0.000000  \n",
       "max        1.000000      1.000000  486330.000000  "
      ]
     },
     "execution_count": 19,
     "metadata": {},
     "output_type": "execute_result"
    }
   ],
   "source": [
    "users.describe()"
   ]
  },
  {
   "cell_type": "markdown",
   "id": "604531e0",
   "metadata": {},
   "source": [
    "Очень большой процент пользователей одного пола, что в принципе довольно распространенно среди дейтеринговых приложений (основные пользователи мужчины)"
   ]
  },
  {
   "cell_type": "code",
   "execution_count": 20,
   "id": "bb2ef9de",
   "metadata": {},
   "outputs": [],
   "source": [
    "# очень большое максимальное total revenue при среднем 500 - посмотрим выбросы"
   ]
  },
  {
   "cell_type": "code",
   "execution_count": 21,
   "id": "fe3a8099",
   "metadata": {},
   "outputs": [
    {
     "data": {
      "image/png": "[encoded data removed]",
      "text/plain": [
       "<Figure size 432x288 with 1 Axes>"
      ]
     },
     "metadata": {
      "needs_background": "light"
     },
     "output_type": "display_data"
    }
   ],
   "source": [
    "sns.boxplot( x = 'group', y = 'total_revenue', data = users)\n",
    "sns.despine()"
   ]
  },
  {
   "cell_type": "code",
   "execution_count": 22,
   "id": "6c344d48",
   "metadata": {},
   "outputs": [],
   "source": [
    "# посмотрим этот явный выброс более подробно"
   ]
  },
  {
   "cell_type": "code",
   "execution_count": 23,
   "id": "0ad1c7f5",
   "metadata": {},
   "outputs": [
    {
     "data": {
      "text/html": [
       "<div>\n",
       "<style scoped>\n",
       "    .dataframe tbody tr th:only-of-type {\n",
       "        vertical-align: middle;\n",
       "    }\n",
       "\n",
       "    .dataframe tbody tr th {\n",
       "        vertical-align: top;\n",
       "    }\n",
       "\n",
       "    .dataframe thead th {\n",
       "        text-align: right;\n",
       "    }\n",
       "</style>\n",
       "<table border=\"1\" class=\"dataframe\">\n",
       "  <thead>\n",
       "    <tr style=\"text-align: right;\">\n",
       "      <th></th>\n",
       "      <th>uid</th>\n",
       "      <th>age</th>\n",
       "      <th>attraction_coeff</th>\n",
       "      <th>coins</th>\n",
       "      <th>country</th>\n",
       "      <th>visit_days</th>\n",
       "      <th>gender</th>\n",
       "      <th>age_filter_start</th>\n",
       "      <th>age_filter_end</th>\n",
       "      <th>views_count</th>\n",
       "      <th>was_premium</th>\n",
       "      <th>is_premium</th>\n",
       "      <th>total_revenue</th>\n",
       "      <th>group</th>\n",
       "    </tr>\n",
       "  </thead>\n",
       "  <tbody>\n",
       "    <tr>\n",
       "      <th>1427</th>\n",
       "      <td>892333905</td>\n",
       "      <td>22</td>\n",
       "      <td>175</td>\n",
       "      <td>3608.0</td>\n",
       "      <td>Italy</td>\n",
       "      <td>1,2,3,4,5,6,7,15</td>\n",
       "      <td>1</td>\n",
       "      <td>19</td>\n",
       "      <td>25</td>\n",
       "      <td>575</td>\n",
       "      <td>1.0</td>\n",
       "      <td>1.0</td>\n",
       "      <td>486330</td>\n",
       "      <td>control_1</td>\n",
       "    </tr>\n",
       "  </tbody>\n",
       "</table>\n",
       "</div>"
      ],
      "text/plain": [
       "            uid  age  attraction_coeff   coins country        visit_days  \\\n",
       "1427  892333905   22               175  3608.0   Italy  1,2,3,4,5,6,7,15   \n",
       "\n",
       "      gender  age_filter_start  age_filter_end  views_count  was_premium  \\\n",
       "1427       1                19              25          575          1.0   \n",
       "\n",
       "      is_premium  total_revenue      group  \n",
       "1427         1.0         486330  control_1  "
      ]
     },
     "execution_count": 23,
     "metadata": {},
     "output_type": "execute_result"
    }
   ],
   "source": [
    "users.query('total_revenue > 400000')"
   ]
  },
  {
   "cell_type": "code",
   "execution_count": 24,
   "id": "6792f87a",
   "metadata": {},
   "outputs": [],
   "source": [
    "# посмотрим на этого пользователя в transactions"
   ]
  },
  {
   "cell_type": "code",
   "execution_count": 25,
   "id": "f5330371",
   "metadata": {},
   "outputs": [
    {
     "data": {
      "text/html": [
       "<div>\n",
       "<style scoped>\n",
       "    .dataframe tbody tr th:only-of-type {\n",
       "        vertical-align: middle;\n",
       "    }\n",
       "\n",
       "    .dataframe tbody tr th {\n",
       "        vertical-align: top;\n",
       "    }\n",
       "\n",
       "    .dataframe thead th {\n",
       "        text-align: right;\n",
       "    }\n",
       "</style>\n",
       "<table border=\"1\" class=\"dataframe\">\n",
       "  <thead>\n",
       "    <tr style=\"text-align: right;\">\n",
       "      <th></th>\n",
       "      <th>uid</th>\n",
       "      <th>country</th>\n",
       "      <th>joined_at</th>\n",
       "      <th>paid_at</th>\n",
       "      <th>revenue</th>\n",
       "      <th>payment_id</th>\n",
       "      <th>from_page</th>\n",
       "      <th>product_type</th>\n",
       "      <th>group</th>\n",
       "    </tr>\n",
       "  </thead>\n",
       "  <tbody>\n",
       "    <tr>\n",
       "      <th>49</th>\n",
       "      <td>892333905.0</td>\n",
       "      <td>Italy</td>\n",
       "      <td>2017-10-16 01:38:00</td>\n",
       "      <td>2017-10-16 01:42:00</td>\n",
       "      <td>3783.0</td>\n",
       "      <td>67.0</td>\n",
       "      <td>menu</td>\n",
       "      <td>other_type</td>\n",
       "      <td>control_1</td>\n",
       "    </tr>\n",
       "    <tr>\n",
       "      <th>13</th>\n",
       "      <td>892333905.0</td>\n",
       "      <td>Italy</td>\n",
       "      <td>2017-10-16 01:38:00</td>\n",
       "      <td>2017-10-16 01:44:00</td>\n",
       "      <td>3783.0</td>\n",
       "      <td>67.0</td>\n",
       "      <td>menu</td>\n",
       "      <td>other_type</td>\n",
       "      <td>control_1</td>\n",
       "    </tr>\n",
       "    <tr>\n",
       "      <th>47</th>\n",
       "      <td>892333905.0</td>\n",
       "      <td>Italy</td>\n",
       "      <td>2017-10-16 01:38:00</td>\n",
       "      <td>2017-10-16 01:44:00</td>\n",
       "      <td>3783.0</td>\n",
       "      <td>67.0</td>\n",
       "      <td>menu</td>\n",
       "      <td>other_type</td>\n",
       "      <td>control_1</td>\n",
       "    </tr>\n",
       "    <tr>\n",
       "      <th>169</th>\n",
       "      <td>892333905.0</td>\n",
       "      <td>Italy</td>\n",
       "      <td>2017-10-16 01:38:00</td>\n",
       "      <td>2017-10-16 01:44:00</td>\n",
       "      <td>3783.0</td>\n",
       "      <td>67.0</td>\n",
       "      <td>menu</td>\n",
       "      <td>other_type</td>\n",
       "      <td>control_1</td>\n",
       "    </tr>\n",
       "    <tr>\n",
       "      <th>28</th>\n",
       "      <td>892333905.0</td>\n",
       "      <td>Italy</td>\n",
       "      <td>2017-10-16 01:38:00</td>\n",
       "      <td>2017-10-16 01:57:00</td>\n",
       "      <td>3783.0</td>\n",
       "      <td>67.0</td>\n",
       "      <td>empty_admins</td>\n",
       "      <td>other_type</td>\n",
       "      <td>control_1</td>\n",
       "    </tr>\n",
       "  </tbody>\n",
       "</table>\n",
       "</div>"
      ],
      "text/plain": [
       "             uid country           joined_at             paid_at  revenue  \\\n",
       "49   892333905.0   Italy 2017-10-16 01:38:00 2017-10-16 01:42:00   3783.0   \n",
       "13   892333905.0   Italy 2017-10-16 01:38:00 2017-10-16 01:44:00   3783.0   \n",
       "47   892333905.0   Italy 2017-10-16 01:38:00 2017-10-16 01:44:00   3783.0   \n",
       "169  892333905.0   Italy 2017-10-16 01:38:00 2017-10-16 01:44:00   3783.0   \n",
       "28   892333905.0   Italy 2017-10-16 01:38:00 2017-10-16 01:57:00   3783.0   \n",
       "\n",
       "     payment_id     from_page product_type      group  \n",
       "49         67.0          menu   other_type  control_1  \n",
       "13         67.0          menu   other_type  control_1  \n",
       "47         67.0          menu   other_type  control_1  \n",
       "169        67.0          menu   other_type  control_1  \n",
       "28         67.0  empty_admins   other_type  control_1  "
      ]
     },
     "execution_count": 25,
     "metadata": {},
     "output_type": "execute_result"
    }
   ],
   "source": [
    "transactions.query('uid == 892333905').sort_values('paid_at').head()"
   ]
  },
  {
   "cell_type": "markdown",
   "id": "cf7eaafe",
   "metadata": {},
   "source": [
    "Пользователь 892333905 совершил очень много покупок за два дня  - причем очень много покупок за короткий промежуток, даже если это не баг(что сомниетльно), для контрольной группы такой пользователь не приемлим.\n",
    "Удалим его из данных для анализа"
   ]
  },
  {
   "cell_type": "code",
   "execution_count": 26,
   "id": "bc59ef91",
   "metadata": {},
   "outputs": [],
   "source": [
    "transactions_cor = transactions.query('uid != 892333905')\n",
    "users_cor = users.query('uid != 892333905')"
   ]
  },
  {
   "cell_type": "code",
   "execution_count": 27,
   "id": "3b7a165d",
   "metadata": {},
   "outputs": [],
   "source": [
    "# посмотрим колонку revenue в transactions"
   ]
  },
  {
   "cell_type": "code",
   "execution_count": 28,
   "id": "218d3082",
   "metadata": {},
   "outputs": [
    {
     "data": {
      "text/plain": [
       "count       978.000000\n",
       "mean       7032.361963\n",
       "std        8655.787235\n",
       "min          26.000000\n",
       "25%        2577.250000\n",
       "50%        5804.500000\n",
       "75%        9087.000000\n",
       "max      113477.000000\n",
       "Name: revenue, dtype: float64"
      ]
     },
     "execution_count": 28,
     "metadata": {},
     "output_type": "execute_result"
    }
   ],
   "source": [
    "transactions.revenue.describe()"
   ]
  },
  {
   "cell_type": "code",
   "execution_count": 29,
   "id": "3e430f0f",
   "metadata": {},
   "outputs": [
    {
     "data": {
      "text/plain": [
       "<AxesSubplot:xlabel='group', ylabel='revenue'>"
      ]
     },
     "execution_count": 29,
     "metadata": {},
     "output_type": "execute_result"
    },
    {
     "data": {
      "image/png": "[encoded data removed]",
      "text/plain": [
       "<Figure size 432x288 with 1 Axes>"
      ]
     },
     "metadata": {
      "needs_background": "light"
     },
     "output_type": "display_data"
    }
   ],
   "source": [
    "sns.boxplot(data = transactions_cor, x = 'group', y = 'revenue')"
   ]
  },
  {
   "cell_type": "code",
   "execution_count": 30,
   "id": "e6ab3480",
   "metadata": {},
   "outputs": [],
   "source": [
    "# посмотрим выделяющиеся значения - revenue более 20000"
   ]
  },
  {
   "cell_type": "code",
   "execution_count": 31,
   "id": "dfd5fbae",
   "metadata": {},
   "outputs": [
    {
     "data": {
      "text/html": [
       "<div>\n",
       "<style scoped>\n",
       "    .dataframe tbody tr th:only-of-type {\n",
       "        vertical-align: middle;\n",
       "    }\n",
       "\n",
       "    .dataframe tbody tr th {\n",
       "        vertical-align: top;\n",
       "    }\n",
       "\n",
       "    .dataframe thead th {\n",
       "        text-align: right;\n",
       "    }\n",
       "</style>\n",
       "<table border=\"1\" class=\"dataframe\">\n",
       "  <thead>\n",
       "    <tr style=\"text-align: right;\">\n",
       "      <th></th>\n",
       "      <th>uid</th>\n",
       "      <th>country</th>\n",
       "      <th>joined_at</th>\n",
       "      <th>paid_at</th>\n",
       "      <th>revenue</th>\n",
       "      <th>payment_id</th>\n",
       "      <th>from_page</th>\n",
       "      <th>product_type</th>\n",
       "      <th>group</th>\n",
       "    </tr>\n",
       "  </thead>\n",
       "  <tbody>\n",
       "    <tr>\n",
       "      <th>12</th>\n",
       "      <td>891178380.0</td>\n",
       "      <td>Spain</td>\n",
       "      <td>2017-08-11 03:54:00</td>\n",
       "      <td>2017-09-11 21:53:00</td>\n",
       "      <td>113477.0</td>\n",
       "      <td>147.0</td>\n",
       "      <td>promo_09</td>\n",
       "      <td>premium_no_trial</td>\n",
       "      <td>test</td>\n",
       "    </tr>\n",
       "    <tr>\n",
       "      <th>14</th>\n",
       "      <td>892150854.0</td>\n",
       "      <td>Argentina</td>\n",
       "      <td>2017-10-20 00:25:00</td>\n",
       "      <td>2017-10-23 01:31:00</td>\n",
       "      <td>30264.0</td>\n",
       "      <td>68.0</td>\n",
       "      <td>super_popup</td>\n",
       "      <td>other_type</td>\n",
       "      <td>test</td>\n",
       "    </tr>\n",
       "    <tr>\n",
       "      <th>44</th>\n",
       "      <td>891346269.0</td>\n",
       "      <td>Argentina</td>\n",
       "      <td>2017-05-11 12:55:00</td>\n",
       "      <td>2017-07-11 11:28:00</td>\n",
       "      <td>31525.0</td>\n",
       "      <td>19.0</td>\n",
       "      <td>empty_likes</td>\n",
       "      <td>coins</td>\n",
       "      <td>test</td>\n",
       "    </tr>\n",
       "    <tr>\n",
       "      <th>64</th>\n",
       "      <td>892275462.0</td>\n",
       "      <td>France</td>\n",
       "      <td>2017-10-17 05:56:00</td>\n",
       "      <td>2017-02-11 18:24:00</td>\n",
       "      <td>44083.0</td>\n",
       "      <td>19.0</td>\n",
       "      <td>coins_popup</td>\n",
       "      <td>other_type</td>\n",
       "      <td>test</td>\n",
       "    </tr>\n",
       "    <tr>\n",
       "      <th>81</th>\n",
       "      <td>892236423.0</td>\n",
       "      <td>United States of America</td>\n",
       "      <td>2017-10-18 01:09:00</td>\n",
       "      <td>2017-10-23 00:14:00</td>\n",
       "      <td>31525.0</td>\n",
       "      <td>19.0</td>\n",
       "      <td>menu</td>\n",
       "      <td>coins</td>\n",
       "      <td>test</td>\n",
       "    </tr>\n",
       "  </tbody>\n",
       "</table>\n",
       "</div>"
      ],
      "text/plain": [
       "            uid                   country           joined_at  \\\n",
       "12  891178380.0                     Spain 2017-08-11 03:54:00   \n",
       "14  892150854.0                 Argentina 2017-10-20 00:25:00   \n",
       "44  891346269.0                 Argentina 2017-05-11 12:55:00   \n",
       "64  892275462.0                    France 2017-10-17 05:56:00   \n",
       "81  892236423.0  United States of America 2017-10-18 01:09:00   \n",
       "\n",
       "               paid_at   revenue  payment_id    from_page      product_type  \\\n",
       "12 2017-09-11 21:53:00  113477.0       147.0     promo_09  premium_no_trial   \n",
       "14 2017-10-23 01:31:00   30264.0        68.0  super_popup        other_type   \n",
       "44 2017-07-11 11:28:00   31525.0        19.0  empty_likes             coins   \n",
       "64 2017-02-11 18:24:00   44083.0        19.0  coins_popup        other_type   \n",
       "81 2017-10-23 00:14:00   31525.0        19.0         menu             coins   \n",
       "\n",
       "   group  \n",
       "12  test  \n",
       "14  test  \n",
       "44  test  \n",
       "64  test  \n",
       "81  test  "
      ]
     },
     "execution_count": 31,
     "metadata": {},
     "output_type": "execute_result"
    }
   ],
   "source": [
    "transactions_cor.query('revenue > 20000').head()"
   ]
  },
  {
   "cell_type": "code",
   "execution_count": 32,
   "id": "24d5a336",
   "metadata": {},
   "outputs": [
    {
     "data": {
      "text/plain": [
       "count       288.000000\n",
       "mean       7887.975694\n",
       "std       11932.894520\n",
       "min        1482.000000\n",
       "25%        4702.750000\n",
       "50%        6292.000000\n",
       "75%        6448.000000\n",
       "max      113477.000000\n",
       "Name: revenue, dtype: float64"
      ]
     },
     "execution_count": 32,
     "metadata": {},
     "output_type": "execute_result"
    }
   ],
   "source": [
    "transactions_cor.query('product_type == \"premium_no_trial\"').revenue.describe()"
   ]
  },
  {
   "cell_type": "markdown",
   "id": "10787b7d",
   "metadata": {},
   "source": [
    "Есть большие значения по оплате премиум подписки, но их довольно много и они есть во всех группах. Возможно это оплата сразу за большой период - как это соотносится с тем что деньги за подписку списываюся ежемесячно? Видимо все таки можно оплатить за премиум сразу за больший период, чем месяц."
   ]
  },
  {
   "cell_type": "code",
   "execution_count": 33,
   "id": "0f6d6c73",
   "metadata": {},
   "outputs": [],
   "source": [
    "# посмотрим информацию по transactions"
   ]
  },
  {
   "cell_type": "code",
   "execution_count": 34,
   "id": "37b967c7",
   "metadata": {},
   "outputs": [
    {
     "name": "stdout",
     "output_type": "stream",
     "text": [
      "<class 'pandas.core.frame.DataFrame'>\n",
      "Int64Index: 1581 entries, 0 to 327\n",
      "Data columns (total 9 columns):\n",
      " #   Column        Non-Null Count  Dtype         \n",
      "---  ------        --------------  -----         \n",
      " 0   uid           951 non-null    float64       \n",
      " 1   country       951 non-null    object        \n",
      " 2   joined_at     951 non-null    datetime64[ns]\n",
      " 3   paid_at       951 non-null    datetime64[ns]\n",
      " 4   revenue       951 non-null    float64       \n",
      " 5   payment_id    951 non-null    float64       \n",
      " 6   from_page     951 non-null    object        \n",
      " 7   product_type  951 non-null    object        \n",
      " 8   group         1581 non-null   object        \n",
      "dtypes: datetime64[ns](2), float64(3), object(4)\n",
      "memory usage: 188.1+ KB\n"
     ]
    }
   ],
   "source": [
    "transactions_cor.info()"
   ]
  },
  {
   "cell_type": "code",
   "execution_count": 35,
   "id": "6388d28e",
   "metadata": {},
   "outputs": [],
   "source": [
    "# у нас есть 630 строк польностью пустых  из какой они группы?"
   ]
  },
  {
   "cell_type": "code",
   "execution_count": 36,
   "id": "b18cecba",
   "metadata": {},
   "outputs": [
    {
     "data": {
      "text/plain": [
       "uid             630\n",
       "country         630\n",
       "joined_at       630\n",
       "paid_at         630\n",
       "revenue         630\n",
       "payment_id      630\n",
       "from_page       630\n",
       "product_type    630\n",
       "group             0\n",
       "dtype: int64"
      ]
     },
     "execution_count": 36,
     "metadata": {},
     "output_type": "execute_result"
    }
   ],
   "source": [
    "transactions_control_1.isna().sum()"
   ]
  },
  {
   "cell_type": "code",
   "execution_count": 37,
   "id": "d4a90cc9",
   "metadata": {},
   "outputs": [],
   "source": [
    "# они из control_1 - проверим размеры групп control_1 и control_2"
   ]
  },
  {
   "cell_type": "code",
   "execution_count": 38,
   "id": "995b91e3",
   "metadata": {},
   "outputs": [
    {
     "data": {
      "text/plain": [
       "(1007, 9)"
      ]
     },
     "execution_count": 38,
     "metadata": {},
     "output_type": "execute_result"
    }
   ],
   "source": [
    "transactions_control_1.shape"
   ]
  },
  {
   "cell_type": "code",
   "execution_count": 39,
   "id": "f856889e",
   "metadata": {},
   "outputs": [
    {
     "data": {
      "text/plain": [
       "(328, 9)"
      ]
     },
     "execution_count": 39,
     "metadata": {},
     "output_type": "execute_result"
    }
   ],
   "source": [
    "transactions_control_2.shape"
   ]
  },
  {
   "cell_type": "markdown",
   "id": "d1f69542",
   "metadata": {},
   "source": [
    "Это явно баг,без этих пропущенных строк, размеры контрольных групп будут сопоставимы\n",
    "пропущенные значения можно удалять"
   ]
  },
  {
   "cell_type": "code",
   "execution_count": 40,
   "id": "336dc4b8",
   "metadata": {},
   "outputs": [],
   "source": [
    "transactions_cor = transactions_cor.dropna()"
   ]
  },
  {
   "cell_type": "code",
   "execution_count": 41,
   "id": "07c672b8",
   "metadata": {},
   "outputs": [],
   "source": [
    "# что означают payment_id - индифактор платежа - посмотрим связь данного параметра с другими"
   ]
  },
  {
   "cell_type": "code",
   "execution_count": 42,
   "id": "88b831d7",
   "metadata": {},
   "outputs": [
    {
     "data": {
      "text/html": [
       "<div>\n",
       "<style scoped>\n",
       "    .dataframe tbody tr th:only-of-type {\n",
       "        vertical-align: middle;\n",
       "    }\n",
       "\n",
       "    .dataframe tbody tr th {\n",
       "        vertical-align: top;\n",
       "    }\n",
       "\n",
       "    .dataframe thead th {\n",
       "        text-align: right;\n",
       "    }\n",
       "</style>\n",
       "<table border=\"1\" class=\"dataframe\">\n",
       "  <thead>\n",
       "    <tr style=\"text-align: right;\">\n",
       "      <th></th>\n",
       "      <th>payment_id</th>\n",
       "      <th>product_type</th>\n",
       "      <th>revenue</th>\n",
       "      <th>country</th>\n",
       "      <th>group</th>\n",
       "      <th>from_page</th>\n",
       "      <th>uid</th>\n",
       "    </tr>\n",
       "  </thead>\n",
       "  <tbody>\n",
       "    <tr>\n",
       "      <th>0</th>\n",
       "      <td>0.0</td>\n",
       "      <td>[premium_no_trial, other_type]</td>\n",
       "      <td>27456.0</td>\n",
       "      <td>5</td>\n",
       "      <td>3</td>\n",
       "      <td>5</td>\n",
       "      <td>7</td>\n",
       "    </tr>\n",
       "    <tr>\n",
       "      <th>1</th>\n",
       "      <td>19.0</td>\n",
       "      <td>[coins, other_type]</td>\n",
       "      <td>1214330.0</td>\n",
       "      <td>19</td>\n",
       "      <td>3</td>\n",
       "      <td>10</td>\n",
       "      <td>281</td>\n",
       "    </tr>\n",
       "    <tr>\n",
       "      <th>2</th>\n",
       "      <td>67.0</td>\n",
       "      <td>[other_type]</td>\n",
       "      <td>295958.0</td>\n",
       "      <td>12</td>\n",
       "      <td>3</td>\n",
       "      <td>8</td>\n",
       "      <td>97</td>\n",
       "    </tr>\n",
       "    <tr>\n",
       "      <th>3</th>\n",
       "      <td>68.0</td>\n",
       "      <td>[premium_no_trial, other_type]</td>\n",
       "      <td>247130.0</td>\n",
       "      <td>11</td>\n",
       "      <td>3</td>\n",
       "      <td>2</td>\n",
       "      <td>46</td>\n",
       "    </tr>\n",
       "    <tr>\n",
       "      <th>4</th>\n",
       "      <td>127.0</td>\n",
       "      <td>[other_type]</td>\n",
       "      <td>7293.0</td>\n",
       "      <td>1</td>\n",
       "      <td>1</td>\n",
       "      <td>2</td>\n",
       "      <td>5</td>\n",
       "    </tr>\n",
       "    <tr>\n",
       "      <th>5</th>\n",
       "      <td>146.0</td>\n",
       "      <td>[coins]</td>\n",
       "      <td>301574.0</td>\n",
       "      <td>16</td>\n",
       "      <td>3</td>\n",
       "      <td>5</td>\n",
       "      <td>91</td>\n",
       "    </tr>\n",
       "    <tr>\n",
       "      <th>6</th>\n",
       "      <td>147.0</td>\n",
       "      <td>[trial_premium, premium_no_trial]</td>\n",
       "      <td>4297579.0</td>\n",
       "      <td>21</td>\n",
       "      <td>3</td>\n",
       "      <td>13</td>\n",
       "      <td>424</td>\n",
       "    </tr>\n",
       "  </tbody>\n",
       "</table>\n",
       "</div>"
      ],
      "text/plain": [
       "   payment_id                       product_type    revenue  country  group  \\\n",
       "0         0.0     [premium_no_trial, other_type]    27456.0        5      3   \n",
       "1        19.0                [coins, other_type]  1214330.0       19      3   \n",
       "2        67.0                       [other_type]   295958.0       12      3   \n",
       "3        68.0     [premium_no_trial, other_type]   247130.0       11      3   \n",
       "4       127.0                       [other_type]     7293.0        1      1   \n",
       "5       146.0                            [coins]   301574.0       16      3   \n",
       "6       147.0  [trial_premium, premium_no_trial]  4297579.0       21      3   \n",
       "\n",
       "   from_page  uid  \n",
       "0          5    7  \n",
       "1         10  281  \n",
       "2          8   97  \n",
       "3          2   46  \n",
       "4          2    5  \n",
       "5          5   91  \n",
       "6         13  424  "
      ]
     },
     "execution_count": 42,
     "metadata": {},
     "output_type": "execute_result"
    }
   ],
   "source": [
    "transactions_cor \\\n",
    "    .groupby('payment_id',as_index = False) \\\n",
    "    .agg({'product_type':'unique','revenue':sum,'country':'nunique','group':'nunique','from_page':'nunique',\n",
    "         'uid':'count'})"
   ]
  },
  {
   "cell_type": "markdown",
   "id": "40267ad1",
   "metadata": {},
   "source": [
    "Кроме того, что некоторые индификаторы платежа относятся только к конкретным продуктам\n",
    "и то что индификатор есть только в одной стране и в одной группе ( в контрольной группе 1),\n",
    "здесь интересной информации нет"
   ]
  },
  {
   "cell_type": "code",
   "execution_count": 43,
   "id": "78d2692b",
   "metadata": {},
   "outputs": [
    {
     "data": {
      "text/html": [
       "<div>\n",
       "<style scoped>\n",
       "    .dataframe tbody tr th:only-of-type {\n",
       "        vertical-align: middle;\n",
       "    }\n",
       "\n",
       "    .dataframe tbody tr th {\n",
       "        vertical-align: top;\n",
       "    }\n",
       "\n",
       "    .dataframe thead th {\n",
       "        text-align: right;\n",
       "    }\n",
       "</style>\n",
       "<table border=\"1\" class=\"dataframe\">\n",
       "  <thead>\n",
       "    <tr style=\"text-align: right;\">\n",
       "      <th></th>\n",
       "      <th>uid</th>\n",
       "      <th>country</th>\n",
       "      <th>joined_at</th>\n",
       "      <th>paid_at</th>\n",
       "      <th>revenue</th>\n",
       "      <th>payment_id</th>\n",
       "      <th>from_page</th>\n",
       "      <th>product_type</th>\n",
       "      <th>group</th>\n",
       "    </tr>\n",
       "  </thead>\n",
       "  <tbody>\n",
       "    <tr>\n",
       "      <th>3</th>\n",
       "      <td>891367521.0</td>\n",
       "      <td>Italy</td>\n",
       "      <td>2017-05-11 02:37:00</td>\n",
       "      <td>2017-06-11 19:15:00</td>\n",
       "      <td>1456.0</td>\n",
       "      <td>127.0</td>\n",
       "      <td>sympathy</td>\n",
       "      <td>other_type</td>\n",
       "      <td>control_1</td>\n",
       "    </tr>\n",
       "    <tr>\n",
       "      <th>200</th>\n",
       "      <td>891367521.0</td>\n",
       "      <td>Italy</td>\n",
       "      <td>2017-05-11 02:37:00</td>\n",
       "      <td>2017-10-11 01:52:00</td>\n",
       "      <td>1469.0</td>\n",
       "      <td>127.0</td>\n",
       "      <td>coins_popup</td>\n",
       "      <td>other_type</td>\n",
       "      <td>control_1</td>\n",
       "    </tr>\n",
       "    <tr>\n",
       "      <th>257</th>\n",
       "      <td>891367521.0</td>\n",
       "      <td>Italy</td>\n",
       "      <td>2017-05-11 02:37:00</td>\n",
       "      <td>2017-06-11 17:43:00</td>\n",
       "      <td>1456.0</td>\n",
       "      <td>127.0</td>\n",
       "      <td>sympathy</td>\n",
       "      <td>other_type</td>\n",
       "      <td>control_1</td>\n",
       "    </tr>\n",
       "    <tr>\n",
       "      <th>298</th>\n",
       "      <td>891367521.0</td>\n",
       "      <td>Italy</td>\n",
       "      <td>2017-05-11 02:37:00</td>\n",
       "      <td>2017-06-11 17:43:00</td>\n",
       "      <td>1456.0</td>\n",
       "      <td>127.0</td>\n",
       "      <td>sympathy</td>\n",
       "      <td>other_type</td>\n",
       "      <td>control_1</td>\n",
       "    </tr>\n",
       "    <tr>\n",
       "      <th>308</th>\n",
       "      <td>891367521.0</td>\n",
       "      <td>Italy</td>\n",
       "      <td>2017-05-11 02:37:00</td>\n",
       "      <td>2017-06-11 17:43:00</td>\n",
       "      <td>1456.0</td>\n",
       "      <td>127.0</td>\n",
       "      <td>sympathy</td>\n",
       "      <td>other_type</td>\n",
       "      <td>control_1</td>\n",
       "    </tr>\n",
       "  </tbody>\n",
       "</table>\n",
       "</div>"
      ],
      "text/plain": [
       "             uid country           joined_at             paid_at  revenue  \\\n",
       "3    891367521.0   Italy 2017-05-11 02:37:00 2017-06-11 19:15:00   1456.0   \n",
       "200  891367521.0   Italy 2017-05-11 02:37:00 2017-10-11 01:52:00   1469.0   \n",
       "257  891367521.0   Italy 2017-05-11 02:37:00 2017-06-11 17:43:00   1456.0   \n",
       "298  891367521.0   Italy 2017-05-11 02:37:00 2017-06-11 17:43:00   1456.0   \n",
       "308  891367521.0   Italy 2017-05-11 02:37:00 2017-06-11 17:43:00   1456.0   \n",
       "\n",
       "     payment_id    from_page product_type      group  \n",
       "3         127.0     sympathy   other_type  control_1  \n",
       "200       127.0  coins_popup   other_type  control_1  \n",
       "257       127.0     sympathy   other_type  control_1  \n",
       "298       127.0     sympathy   other_type  control_1  \n",
       "308       127.0     sympathy   other_type  control_1  "
      ]
     },
     "execution_count": 43,
     "metadata": {},
     "output_type": "execute_result"
    }
   ],
   "source": [
    "transactions_cor.query('payment_id == 127')"
   ]
  },
  {
   "cell_type": "code",
   "execution_count": 44,
   "id": "eb280f0a",
   "metadata": {},
   "outputs": [],
   "source": [
    "# посмотрим на самого активного пользователя по количеству покупок"
   ]
  },
  {
   "cell_type": "code",
   "execution_count": 45,
   "id": "a3dac326",
   "metadata": {},
   "outputs": [
    {
     "data": {
      "text/plain": [
       "revenue    892236423.0\n",
       "dtype: float64"
      ]
     },
     "execution_count": 45,
     "metadata": {},
     "output_type": "execute_result"
    }
   ],
   "source": [
    "transactions_cor.groupby('uid').agg({'revenue':'count'}).sort_values('revenue', ascending = False).idxmax()"
   ]
  },
  {
   "cell_type": "code",
   "execution_count": 46,
   "id": "56895e52",
   "metadata": {},
   "outputs": [],
   "source": [
    "# посмотрим временной промежуток регистраций и оплат с которым мы работаем"
   ]
  },
  {
   "cell_type": "code",
   "execution_count": 47,
   "id": "7f03ca02",
   "metadata": {},
   "outputs": [
    {
     "data": {
      "text/plain": [
       "array(['2015-01-19T11:49:00.000000000', '2017-10-31T23:40:00.000000000'],\n",
       "      dtype='datetime64[ns]')"
      ]
     },
     "execution_count": 47,
     "metadata": {},
     "output_type": "execute_result"
    }
   ],
   "source": [
    "np.percentile(transactions_cor.joined_at, [0, 100])"
   ]
  },
  {
   "cell_type": "code",
   "execution_count": 48,
   "id": "e7e57db7",
   "metadata": {},
   "outputs": [
    {
     "data": {
      "text/plain": [
       "array(['2016-12-14T16:16:00.000000000', '2017-12-11T23:28:00.000000000'],\n",
       "      dtype='datetime64[ns]')"
      ]
     },
     "execution_count": 48,
     "metadata": {},
     "output_type": "execute_result"
    }
   ],
   "source": [
    "np.percentile(transactions_cor.paid_at, [0, 100])"
   ]
  },
  {
   "cell_type": "markdown",
   "id": "9c091150",
   "metadata": {},
   "source": [
    "Есть большая разница между размахом в датах регистрации и оплат - у нас такой большой период тестирования?"
   ]
  },
  {
   "cell_type": "code",
   "execution_count": 49,
   "id": "0344a1fe",
   "metadata": {},
   "outputs": [],
   "source": [
    "# посмтрим распредление по месяцам в joined_at и paid_at"
   ]
  },
  {
   "cell_type": "code",
   "execution_count": 50,
   "id": "33209a75",
   "metadata": {
    "scrolled": true
   },
   "outputs": [
    {
     "data": {
      "text/plain": [
       "10    676\n",
       "5      78\n",
       "6      53\n",
       "2      25\n",
       "3      23\n",
       "7      21\n",
       "8      21\n",
       "1      20\n",
       "4      17\n",
       "9      17\n",
       "Name: joined_at, dtype: int64"
      ]
     },
     "execution_count": 50,
     "metadata": {},
     "output_type": "execute_result"
    }
   ],
   "source": [
    "transactions_cor.joined_at.dt.month.sort_values().value_counts()"
   ]
  },
  {
   "cell_type": "code",
   "execution_count": 51,
   "id": "d0627bcb",
   "metadata": {},
   "outputs": [],
   "source": [
    "# основная масса в 10 месяц"
   ]
  },
  {
   "cell_type": "code",
   "execution_count": 52,
   "id": "2cb3ad30",
   "metadata": {},
   "outputs": [
    {
     "data": {
      "text/plain": [
       "10    502\n",
       "11     96\n",
       "6      51\n",
       "5      48\n",
       "4      43\n",
       "12     37\n",
       "7      35\n",
       "8      32\n",
       "3      30\n",
       "9      30\n",
       "2      29\n",
       "1      18\n",
       "Name: paid_at, dtype: int64"
      ]
     },
     "execution_count": 52,
     "metadata": {},
     "output_type": "execute_result"
    }
   ],
   "source": [
    "transactions_cor.paid_at.dt.month.sort_values().value_counts()"
   ]
  },
  {
   "cell_type": "code",
   "execution_count": 53,
   "id": "322eb0f3",
   "metadata": {},
   "outputs": [],
   "source": [
    "# очень много транзакций в 11 день"
   ]
  },
  {
   "cell_type": "code",
   "execution_count": 54,
   "id": "88240683",
   "metadata": {},
   "outputs": [
    {
     "data": {
      "text/plain": [
       "11    431\n",
       "23     53\n",
       "31     40\n",
       "22     39\n",
       "29     38\n",
       "14     37\n",
       "25     32\n",
       "26     30\n",
       "15     29\n",
       "13     28\n",
       "30     28\n",
       "28     27\n",
       "20     23\n",
       "24     23\n",
       "19     19\n",
       "27     19\n",
       "21     16\n",
       "18     14\n",
       "16     14\n",
       "17     11\n",
       "Name: paid_at, dtype: int64"
      ]
     },
     "execution_count": 54,
     "metadata": {},
     "output_type": "execute_result"
    }
   ],
   "source": [
    "transactions_cor.paid_at.dt.day.sort_values().value_counts()"
   ]
  },
  {
   "cell_type": "code",
   "execution_count": 55,
   "id": "c63bba08",
   "metadata": {},
   "outputs": [],
   "source": [
    "# распределние по дням"
   ]
  },
  {
   "cell_type": "code",
   "execution_count": 56,
   "id": "95f13423",
   "metadata": {},
   "outputs": [
    {
     "data": {
      "text/plain": [
       "2017-10-21    85\n",
       "2017-05-11    78\n",
       "2017-10-18    61\n",
       "2017-10-29    56\n",
       "2017-06-11    53\n",
       "2017-10-22    47\n",
       "2017-10-30    46\n",
       "2017-10-15    46\n",
       "2017-10-26    38\n",
       "2017-10-23    34\n",
       "2017-10-20    33\n",
       "2017-10-31    28\n",
       "2017-10-24    27\n",
       "2017-10-16    27\n",
       "2017-10-19    26\n",
       "2017-02-11    25\n",
       "2017-10-25    24\n",
       "2017-10-17    24\n",
       "2017-10-14    23\n",
       "2017-03-11    23\n",
       "2017-08-11    21\n",
       "2017-07-11    21\n",
       "2017-10-28    20\n",
       "2017-10-27    18\n",
       "2017-01-11    17\n",
       "2017-09-11    17\n",
       "2017-04-11    17\n",
       "2017-10-11    13\n",
       "2015-01-19     3\n",
       "Name: joined_at, dtype: int64"
      ]
     },
     "execution_count": 56,
     "metadata": {},
     "output_type": "execute_result"
    }
   ],
   "source": [
    "transactions_cor.joined_at.dt.normalize().sort_values().value_counts()"
   ]
  },
  {
   "cell_type": "code",
   "execution_count": 57,
   "id": "8288127a",
   "metadata": {},
   "outputs": [],
   "source": [
    "# создадим столбец с месяцем оплаты и посмотрим данные без 10 и 11 месяца\n",
    "# во всех месяцах кроме 10 и 11  - 11 число, кроме 2016-12-14"
   ]
  },
  {
   "cell_type": "code",
   "execution_count": 58,
   "id": "365841a7",
   "metadata": {},
   "outputs": [],
   "source": [
    "transactions_cor['paid_at_month'] = transactions_cor.paid_at.dt.month"
   ]
  },
  {
   "cell_type": "code",
   "execution_count": 59,
   "id": "0e667cdf",
   "metadata": {},
   "outputs": [
    {
     "data": {
      "text/plain": [
       "2017-06-11    51\n",
       "2017-05-11    48\n",
       "2017-04-11    43\n",
       "2017-07-11    35\n",
       "2017-12-11    34\n",
       "2017-08-11    32\n",
       "2017-03-11    30\n",
       "2017-09-11    30\n",
       "2017-02-11    29\n",
       "2017-01-11    18\n",
       "2016-12-14     3\n",
       "Name: paid_at, dtype: int64"
      ]
     },
     "execution_count": 59,
     "metadata": {},
     "output_type": "execute_result"
    }
   ],
   "source": [
    "list_10_11 = [10,11]\n",
    "transactions_cor \\\n",
    "    .query('paid_at_month not in @list_10_11') \\\n",
    "    .paid_at.dt.normalize() \\\n",
    "    .sort_values() \\\n",
    "    .value_counts()"
   ]
  },
  {
   "cell_type": "markdown",
   "id": "d711580b",
   "metadata": {},
   "source": [
    "В случае 11 чисел это явная ошибка при присваивании даты - месяц перепутали с днем, учитывая что нам \n",
    "инетерсны оплаты за весь период, а не по дням, здесь можно ничего не поправлять, а просто указать на\n",
    "данный факт. В случае даты 2016-12-14 посмотрим попоробнее."
   ]
  },
  {
   "cell_type": "code",
   "execution_count": 60,
   "id": "e43a351d",
   "metadata": {},
   "outputs": [],
   "source": [
    "# также посмотрим сразу данные по датам регистраций"
   ]
  },
  {
   "cell_type": "code",
   "execution_count": 61,
   "id": "e7af9332",
   "metadata": {},
   "outputs": [],
   "source": [
    "transactions_cor['joined_at_month'] = transactions_cor.joined_at.dt.month"
   ]
  },
  {
   "cell_type": "code",
   "execution_count": 62,
   "id": "98cb4cea",
   "metadata": {},
   "outputs": [
    {
     "data": {
      "text/plain": [
       "2017-05-11    78\n",
       "2017-06-11    53\n",
       "2017-02-11    25\n",
       "2017-03-11    23\n",
       "2017-07-11    21\n",
       "2017-08-11    21\n",
       "2017-01-11    17\n",
       "2017-04-11    17\n",
       "2017-09-11    17\n",
       "2015-01-19     3\n",
       "Name: joined_at, dtype: int64"
      ]
     },
     "execution_count": 62,
     "metadata": {},
     "output_type": "execute_result"
    }
   ],
   "source": [
    "transactions_cor \\\n",
    "    .query('joined_at_month not in @list_10_11') \\\n",
    "    .joined_at.dt.normalize() \\\n",
    "    .sort_values() \\\n",
    "    .value_counts()"
   ]
  },
  {
   "cell_type": "code",
   "execution_count": 63,
   "id": "de139a73",
   "metadata": {},
   "outputs": [],
   "source": [
    "# сдесь похожая ситуация и есть аномалия с датой 2015-01-19 - ее также рассмотрим поподробнее"
   ]
  },
  {
   "cell_type": "code",
   "execution_count": 64,
   "id": "47244cee",
   "metadata": {},
   "outputs": [
    {
     "data": {
      "text/html": [
       "<div>\n",
       "<style scoped>\n",
       "    .dataframe tbody tr th:only-of-type {\n",
       "        vertical-align: middle;\n",
       "    }\n",
       "\n",
       "    .dataframe tbody tr th {\n",
       "        vertical-align: top;\n",
       "    }\n",
       "\n",
       "    .dataframe thead th {\n",
       "        text-align: right;\n",
       "    }\n",
       "</style>\n",
       "<table border=\"1\" class=\"dataframe\">\n",
       "  <thead>\n",
       "    <tr style=\"text-align: right;\">\n",
       "      <th></th>\n",
       "      <th>uid</th>\n",
       "      <th>country</th>\n",
       "      <th>joined_at</th>\n",
       "      <th>paid_at</th>\n",
       "      <th>revenue</th>\n",
       "      <th>payment_id</th>\n",
       "      <th>from_page</th>\n",
       "      <th>product_type</th>\n",
       "      <th>group</th>\n",
       "      <th>paid_at_month</th>\n",
       "      <th>joined_at_month</th>\n",
       "    </tr>\n",
       "  </thead>\n",
       "  <tbody>\n",
       "    <tr>\n",
       "      <th>224</th>\n",
       "      <td>960936960.0</td>\n",
       "      <td>Russian Federation</td>\n",
       "      <td>2015-01-19 11:49:00</td>\n",
       "      <td>2016-12-14 16:16:00</td>\n",
       "      <td>143.0</td>\n",
       "      <td>0.0</td>\n",
       "      <td>refund_WP</td>\n",
       "      <td>other_type</td>\n",
       "      <td>control_1</td>\n",
       "      <td>12</td>\n",
       "      <td>1</td>\n",
       "    </tr>\n",
       "    <tr>\n",
       "      <th>65</th>\n",
       "      <td>960936960.0</td>\n",
       "      <td>Russian Federation</td>\n",
       "      <td>2015-01-19 11:49:00</td>\n",
       "      <td>2016-12-14 17:30:00</td>\n",
       "      <td>26.0</td>\n",
       "      <td>0.0</td>\n",
       "      <td>refund_VP</td>\n",
       "      <td>other_type</td>\n",
       "      <td>control_1</td>\n",
       "      <td>12</td>\n",
       "      <td>1</td>\n",
       "    </tr>\n",
       "    <tr>\n",
       "      <th>101</th>\n",
       "      <td>960936960.0</td>\n",
       "      <td>Russian Federation</td>\n",
       "      <td>2015-01-19 11:49:00</td>\n",
       "      <td>2016-12-14 17:35:00</td>\n",
       "      <td>637.0</td>\n",
       "      <td>0.0</td>\n",
       "      <td>refung_AP</td>\n",
       "      <td>other_type</td>\n",
       "      <td>control_1</td>\n",
       "      <td>12</td>\n",
       "      <td>1</td>\n",
       "    </tr>\n",
       "    <tr>\n",
       "      <th>368</th>\n",
       "      <td>891561825.0</td>\n",
       "      <td>France</td>\n",
       "      <td>2017-01-11 01:06:00</td>\n",
       "      <td>2017-04-11 23:21:00</td>\n",
       "      <td>3900.0</td>\n",
       "      <td>19.0</td>\n",
       "      <td>empty_likes</td>\n",
       "      <td>coins</td>\n",
       "      <td>control_1</td>\n",
       "      <td>4</td>\n",
       "      <td>1</td>\n",
       "    </tr>\n",
       "    <tr>\n",
       "      <th>342</th>\n",
       "      <td>891561825.0</td>\n",
       "      <td>France</td>\n",
       "      <td>2017-01-11 01:06:00</td>\n",
       "      <td>2017-01-11 13:33:00</td>\n",
       "      <td>3913.0</td>\n",
       "      <td>146.0</td>\n",
       "      <td>empty_likes</td>\n",
       "      <td>coins</td>\n",
       "      <td>control_1</td>\n",
       "      <td>1</td>\n",
       "      <td>1</td>\n",
       "    </tr>\n",
       "  </tbody>\n",
       "</table>\n",
       "</div>"
      ],
      "text/plain": [
       "             uid             country           joined_at             paid_at  \\\n",
       "224  960936960.0  Russian Federation 2015-01-19 11:49:00 2016-12-14 16:16:00   \n",
       "65   960936960.0  Russian Federation 2015-01-19 11:49:00 2016-12-14 17:30:00   \n",
       "101  960936960.0  Russian Federation 2015-01-19 11:49:00 2016-12-14 17:35:00   \n",
       "368  891561825.0              France 2017-01-11 01:06:00 2017-04-11 23:21:00   \n",
       "342  891561825.0              France 2017-01-11 01:06:00 2017-01-11 13:33:00   \n",
       "\n",
       "     revenue  payment_id    from_page product_type      group  paid_at_month  \\\n",
       "224    143.0         0.0    refund_WP   other_type  control_1             12   \n",
       "65      26.0         0.0    refund_VP   other_type  control_1             12   \n",
       "101    637.0         0.0    refung_AP   other_type  control_1             12   \n",
       "368   3900.0        19.0  empty_likes        coins  control_1              4   \n",
       "342   3913.0       146.0  empty_likes        coins  control_1              1   \n",
       "\n",
       "     joined_at_month  \n",
       "224                1  \n",
       "65                 1  \n",
       "101                1  \n",
       "368                1  \n",
       "342                1  "
      ]
     },
     "execution_count": 64,
     "metadata": {},
     "output_type": "execute_result"
    }
   ],
   "source": [
    "transactions_cor.sort_values('joined_at').head()"
   ]
  },
  {
   "cell_type": "code",
   "execution_count": 65,
   "id": "81abfda2",
   "metadata": {},
   "outputs": [
    {
     "data": {
      "text/html": [
       "<div>\n",
       "<style scoped>\n",
       "    .dataframe tbody tr th:only-of-type {\n",
       "        vertical-align: middle;\n",
       "    }\n",
       "\n",
       "    .dataframe tbody tr th {\n",
       "        vertical-align: top;\n",
       "    }\n",
       "\n",
       "    .dataframe thead th {\n",
       "        text-align: right;\n",
       "    }\n",
       "</style>\n",
       "<table border=\"1\" class=\"dataframe\">\n",
       "  <thead>\n",
       "    <tr style=\"text-align: right;\">\n",
       "      <th></th>\n",
       "      <th>uid</th>\n",
       "      <th>country</th>\n",
       "      <th>joined_at</th>\n",
       "      <th>paid_at</th>\n",
       "      <th>revenue</th>\n",
       "      <th>payment_id</th>\n",
       "      <th>from_page</th>\n",
       "      <th>product_type</th>\n",
       "      <th>group</th>\n",
       "      <th>paid_at_month</th>\n",
       "      <th>joined_at_month</th>\n",
       "    </tr>\n",
       "  </thead>\n",
       "  <tbody>\n",
       "    <tr>\n",
       "      <th>65</th>\n",
       "      <td>960936960.0</td>\n",
       "      <td>Russian Federation</td>\n",
       "      <td>2015-01-19 11:49:00</td>\n",
       "      <td>2016-12-14 17:30:00</td>\n",
       "      <td>26.0</td>\n",
       "      <td>0.0</td>\n",
       "      <td>refund_VP</td>\n",
       "      <td>other_type</td>\n",
       "      <td>control_1</td>\n",
       "      <td>12</td>\n",
       "      <td>1</td>\n",
       "    </tr>\n",
       "    <tr>\n",
       "      <th>101</th>\n",
       "      <td>960936960.0</td>\n",
       "      <td>Russian Federation</td>\n",
       "      <td>2015-01-19 11:49:00</td>\n",
       "      <td>2016-12-14 17:35:00</td>\n",
       "      <td>637.0</td>\n",
       "      <td>0.0</td>\n",
       "      <td>refung_AP</td>\n",
       "      <td>other_type</td>\n",
       "      <td>control_1</td>\n",
       "      <td>12</td>\n",
       "      <td>1</td>\n",
       "    </tr>\n",
       "    <tr>\n",
       "      <th>224</th>\n",
       "      <td>960936960.0</td>\n",
       "      <td>Russian Federation</td>\n",
       "      <td>2015-01-19 11:49:00</td>\n",
       "      <td>2016-12-14 16:16:00</td>\n",
       "      <td>143.0</td>\n",
       "      <td>0.0</td>\n",
       "      <td>refund_WP</td>\n",
       "      <td>other_type</td>\n",
       "      <td>control_1</td>\n",
       "      <td>12</td>\n",
       "      <td>1</td>\n",
       "    </tr>\n",
       "  </tbody>\n",
       "</table>\n",
       "</div>"
      ],
      "text/plain": [
       "             uid             country           joined_at             paid_at  \\\n",
       "65   960936960.0  Russian Federation 2015-01-19 11:49:00 2016-12-14 17:30:00   \n",
       "101  960936960.0  Russian Federation 2015-01-19 11:49:00 2016-12-14 17:35:00   \n",
       "224  960936960.0  Russian Federation 2015-01-19 11:49:00 2016-12-14 16:16:00   \n",
       "\n",
       "     revenue  payment_id  from_page product_type      group  paid_at_month  \\\n",
       "65      26.0         0.0  refund_VP   other_type  control_1             12   \n",
       "101    637.0         0.0  refung_AP   other_type  control_1             12   \n",
       "224    143.0         0.0  refund_WP   other_type  control_1             12   \n",
       "\n",
       "     joined_at_month  \n",
       "65                 1  \n",
       "101                1  \n",
       "224                1  "
      ]
     },
     "execution_count": 65,
     "metadata": {},
     "output_type": "execute_result"
    }
   ],
   "source": [
    "transactions_cor \\\n",
    "    .query(\"joined_at.dt.normalize() == '2015-01-19' or paid_at.dt.normalize() == '2016-12-14'\")"
   ]
  },
  {
   "cell_type": "markdown",
   "id": "53080f49",
   "metadata": {},
   "source": [
    "Это один и тот же пользователь - удалим его из данных, так как наг период работы - октябрь ноябрь 2017"
   ]
  },
  {
   "cell_type": "code",
   "execution_count": 66,
   "id": "6ef11741",
   "metadata": {},
   "outputs": [],
   "source": [
    "transactions_cor = transactions_cor.query('uid != 960936960')\n",
    "users_cor = users_cor.query('uid != 960936960')"
   ]
  },
  {
   "cell_type": "markdown",
   "id": "343ffcd5",
   "metadata": {},
   "source": [
    "Интересный факт по таблице users - есть 111 пользователей, которые имеют премиум, но не пренисли доход в анализируемы период.Во всех группах таких поровну. Тут надо понимать на какую даты считается наличие примиума - информации не хватает."
   ]
  },
  {
   "cell_type": "code",
   "execution_count": 67,
   "id": "98873421",
   "metadata": {},
   "outputs": [
    {
     "data": {
      "text/plain": [
       "111.0"
      ]
     },
     "execution_count": 67,
     "metadata": {},
     "output_type": "execute_result"
    }
   ],
   "source": [
    "users_cor.query('total_revenue == 0').is_premium.sum()"
   ]
  },
  {
   "cell_type": "code",
   "execution_count": 68,
   "id": "0310cb5e",
   "metadata": {},
   "outputs": [
    {
     "data": {
      "text/plain": [
       "control_2    42\n",
       "control_1    35\n",
       "test         34\n",
       "Name: group, dtype: int64"
      ]
     },
     "execution_count": 68,
     "metadata": {},
     "output_type": "execute_result"
    }
   ],
   "source": [
    "users_cor.query('total_revenue == 0 and is_premium == 1').group.value_counts()"
   ]
  },
  {
   "cell_type": "code",
   "execution_count": 69,
   "id": "9e00d61b",
   "metadata": {},
   "outputs": [],
   "source": [
    "# проверим сопадает ли выручка в наших датасетах - она немного отличается - на 74347 в пользу \n",
    "# датасета с транзакциями, на 1 процент"
   ]
  },
  {
   "cell_type": "code",
   "execution_count": 70,
   "id": "b5a15bb5",
   "metadata": {},
   "outputs": [
    {
     "data": {
      "text/plain": [
       "1.1633962463739222"
      ]
     },
     "execution_count": 70,
     "metadata": {},
     "output_type": "execute_result"
    }
   ],
   "source": [
    "100*(transactions_cor.revenue.sum() - users_cor.total_revenue.sum())/transactions_cor.revenue.sum()"
   ]
  },
  {
   "cell_type": "code",
   "execution_count": 71,
   "id": "6be4af25",
   "metadata": {},
   "outputs": [
    {
     "data": {
      "text/plain": [
       "74347.0"
      ]
     },
     "execution_count": 71,
     "metadata": {},
     "output_type": "execute_result"
    }
   ],
   "source": [
    "transactions_cor.revenue.sum() - users_cor.total_revenue.sum()"
   ]
  },
  {
   "cell_type": "code",
   "execution_count": 72,
   "id": "d10a2e09",
   "metadata": {},
   "outputs": [],
   "source": [
    "# посмотрим из за кого возникает такая разница, для этого сгруппируем датасет транзакции по пользователям,\n",
    "# по сумме оплат, объеденим с датасетом юзеров, и оставим только тех пользователей,\n",
    "# у которых отличается total_revenue "
   ]
  },
  {
   "cell_type": "code",
   "execution_count": 73,
   "id": "28a66e5c",
   "metadata": {},
   "outputs": [],
   "source": [
    "transactions_cor_rev = transactions_cor.groupby('uid', as_index = False).agg({'revenue':sum})"
   ]
  },
  {
   "cell_type": "code",
   "execution_count": 74,
   "id": "bc0a2801",
   "metadata": {},
   "outputs": [
    {
     "data": {
      "text/html": [
       "<div>\n",
       "<style scoped>\n",
       "    .dataframe tbody tr th:only-of-type {\n",
       "        vertical-align: middle;\n",
       "    }\n",
       "\n",
       "    .dataframe tbody tr th {\n",
       "        vertical-align: top;\n",
       "    }\n",
       "\n",
       "    .dataframe thead th {\n",
       "        text-align: right;\n",
       "    }\n",
       "</style>\n",
       "<table border=\"1\" class=\"dataframe\">\n",
       "  <thead>\n",
       "    <tr style=\"text-align: right;\">\n",
       "      <th></th>\n",
       "      <th>uid</th>\n",
       "      <th>age</th>\n",
       "      <th>attraction_coeff</th>\n",
       "      <th>coins</th>\n",
       "      <th>country</th>\n",
       "      <th>visit_days</th>\n",
       "      <th>gender</th>\n",
       "      <th>age_filter_start</th>\n",
       "      <th>age_filter_end</th>\n",
       "      <th>views_count</th>\n",
       "      <th>was_premium</th>\n",
       "      <th>is_premium</th>\n",
       "      <th>total_revenue</th>\n",
       "      <th>group</th>\n",
       "      <th>revenue</th>\n",
       "    </tr>\n",
       "  </thead>\n",
       "  <tbody>\n",
       "    <tr>\n",
       "      <th>2070</th>\n",
       "      <td>892275462</td>\n",
       "      <td>31</td>\n",
       "      <td>310</td>\n",
       "      <td>0.0</td>\n",
       "      <td>France</td>\n",
       "      <td>1,2,3,4,5,9,13,15,16</td>\n",
       "      <td>1</td>\n",
       "      <td>36</td>\n",
       "      <td>68</td>\n",
       "      <td>58</td>\n",
       "      <td>1.0</td>\n",
       "      <td>1.0</td>\n",
       "      <td>14885</td>\n",
       "      <td>test</td>\n",
       "      <td>58968.0</td>\n",
       "    </tr>\n",
       "    <tr>\n",
       "      <th>7676</th>\n",
       "      <td>892355163</td>\n",
       "      <td>40</td>\n",
       "      <td>640</td>\n",
       "      <td>0.0</td>\n",
       "      <td>United States of America</td>\n",
       "      <td>1,2,3,4,5,6,7,8,9,10,11,12,13,14,15,16,17,18,1...</td>\n",
       "      <td>1</td>\n",
       "      <td>25</td>\n",
       "      <td>60</td>\n",
       "      <td>700</td>\n",
       "      <td>1.0</td>\n",
       "      <td>0.0</td>\n",
       "      <td>0</td>\n",
       "      <td>control_1</td>\n",
       "      <td>30264.0</td>\n",
       "    </tr>\n",
       "  </tbody>\n",
       "</table>\n",
       "</div>"
      ],
      "text/plain": [
       "            uid  age  attraction_coeff  coins                   country  \\\n",
       "2070  892275462   31               310    0.0                    France   \n",
       "7676  892355163   40               640    0.0  United States of America   \n",
       "\n",
       "                                             visit_days  gender  \\\n",
       "2070                               1,2,3,4,5,9,13,15,16       1   \n",
       "7676  1,2,3,4,5,6,7,8,9,10,11,12,13,14,15,16,17,18,1...       1   \n",
       "\n",
       "      age_filter_start  age_filter_end  views_count  was_premium  is_premium  \\\n",
       "2070                36              68           58          1.0         1.0   \n",
       "7676                25              60          700          1.0         0.0   \n",
       "\n",
       "      total_revenue      group  revenue  \n",
       "2070          14885       test  58968.0  \n",
       "7676              0  control_1  30264.0  "
      ]
     },
     "execution_count": 74,
     "metadata": {},
     "output_type": "execute_result"
    }
   ],
   "source": [
    "users_cor \\\n",
    "    .merge(transactions_cor_rev, on = 'uid', how = 'left') \\\n",
    "    .fillna(0) \\\n",
    "    .query('total_revenue != revenue')"
   ]
  },
  {
   "cell_type": "markdown",
   "id": "0d211526",
   "metadata": {},
   "source": [
    "Два пользователя - из тестовой и контрольной группы 1, у которыз отличается revenue в датасетах юзеров и транзакций. Учитывая, что информация в датасете транзакций более подробная в плане покупок, а значит и более корректна на мой взгляд - в дальнейшем для анализа покупок будем использовать только информацию\n",
    "из транзакций"
   ]
  },
  {
   "cell_type": "code",
   "execution_count": 75,
   "id": "bd588ef5",
   "metadata": {},
   "outputs": [
    {
     "data": {
      "text/html": [
       "<div>\n",
       "<style scoped>\n",
       "    .dataframe tbody tr th:only-of-type {\n",
       "        vertical-align: middle;\n",
       "    }\n",
       "\n",
       "    .dataframe tbody tr th {\n",
       "        vertical-align: top;\n",
       "    }\n",
       "\n",
       "    .dataframe thead th {\n",
       "        text-align: right;\n",
       "    }\n",
       "</style>\n",
       "<table border=\"1\" class=\"dataframe\">\n",
       "  <thead>\n",
       "    <tr style=\"text-align: right;\">\n",
       "      <th></th>\n",
       "      <th>uid</th>\n",
       "      <th>country</th>\n",
       "      <th>joined_at</th>\n",
       "      <th>paid_at</th>\n",
       "      <th>revenue</th>\n",
       "      <th>payment_id</th>\n",
       "      <th>from_page</th>\n",
       "      <th>product_type</th>\n",
       "      <th>group</th>\n",
       "      <th>paid_at_month</th>\n",
       "      <th>joined_at_month</th>\n",
       "    </tr>\n",
       "  </thead>\n",
       "  <tbody>\n",
       "    <tr>\n",
       "      <th>64</th>\n",
       "      <td>892275462.0</td>\n",
       "      <td>France</td>\n",
       "      <td>2017-10-17 05:56:00</td>\n",
       "      <td>2017-02-11 18:24:00</td>\n",
       "      <td>44083.0</td>\n",
       "      <td>19.0</td>\n",
       "      <td>coins_popup</td>\n",
       "      <td>other_type</td>\n",
       "      <td>test</td>\n",
       "      <td>2</td>\n",
       "      <td>10</td>\n",
       "    </tr>\n",
       "    <tr>\n",
       "      <th>154</th>\n",
       "      <td>892275462.0</td>\n",
       "      <td>France</td>\n",
       "      <td>2017-10-17 05:56:00</td>\n",
       "      <td>2017-10-20 17:00:00</td>\n",
       "      <td>14885.0</td>\n",
       "      <td>68.0</td>\n",
       "      <td>super_popup</td>\n",
       "      <td>other_type</td>\n",
       "      <td>test</td>\n",
       "      <td>10</td>\n",
       "      <td>10</td>\n",
       "    </tr>\n",
       "    <tr>\n",
       "      <th>303</th>\n",
       "      <td>892355163.0</td>\n",
       "      <td>United States of America</td>\n",
       "      <td>2017-10-15 18:45:00</td>\n",
       "      <td>2017-10-16 09:52:00</td>\n",
       "      <td>30264.0</td>\n",
       "      <td>68.0</td>\n",
       "      <td>super_popup</td>\n",
       "      <td>other_type</td>\n",
       "      <td>control_1</td>\n",
       "      <td>10</td>\n",
       "      <td>10</td>\n",
       "    </tr>\n",
       "  </tbody>\n",
       "</table>\n",
       "</div>"
      ],
      "text/plain": [
       "             uid                   country           joined_at  \\\n",
       "64   892275462.0                    France 2017-10-17 05:56:00   \n",
       "154  892275462.0                    France 2017-10-17 05:56:00   \n",
       "303  892355163.0  United States of America 2017-10-15 18:45:00   \n",
       "\n",
       "                paid_at  revenue  payment_id    from_page product_type  \\\n",
       "64  2017-02-11 18:24:00  44083.0        19.0  coins_popup   other_type   \n",
       "154 2017-10-20 17:00:00  14885.0        68.0  super_popup   other_type   \n",
       "303 2017-10-16 09:52:00  30264.0        68.0  super_popup   other_type   \n",
       "\n",
       "         group  paid_at_month  joined_at_month  \n",
       "64        test              2               10  \n",
       "154       test             10               10  \n",
       "303  control_1             10               10  "
      ]
     },
     "execution_count": 75,
     "metadata": {},
     "output_type": "execute_result"
    }
   ],
   "source": [
    "transactions_cor.query('uid in [892275462,892355163]')"
   ]
  },
  {
   "cell_type": "code",
   "execution_count": 76,
   "id": "b87b2091",
   "metadata": {},
   "outputs": [],
   "source": [
    "# проверим дубликаты - они есть во всех группах"
   ]
  },
  {
   "cell_type": "code",
   "execution_count": 77,
   "id": "a9730a5c",
   "metadata": {},
   "outputs": [
    {
     "data": {
      "text/html": [
       "<div>\n",
       "<style scoped>\n",
       "    .dataframe tbody tr th:only-of-type {\n",
       "        vertical-align: middle;\n",
       "    }\n",
       "\n",
       "    .dataframe tbody tr th {\n",
       "        vertical-align: top;\n",
       "    }\n",
       "\n",
       "    .dataframe thead th {\n",
       "        text-align: right;\n",
       "    }\n",
       "</style>\n",
       "<table border=\"1\" class=\"dataframe\">\n",
       "  <thead>\n",
       "    <tr style=\"text-align: right;\">\n",
       "      <th></th>\n",
       "      <th>uid</th>\n",
       "      <th>country</th>\n",
       "      <th>joined_at</th>\n",
       "      <th>paid_at</th>\n",
       "      <th>revenue</th>\n",
       "      <th>payment_id</th>\n",
       "      <th>from_page</th>\n",
       "      <th>product_type</th>\n",
       "      <th>group</th>\n",
       "      <th>paid_at_month</th>\n",
       "      <th>joined_at_month</th>\n",
       "    </tr>\n",
       "  </thead>\n",
       "  <tbody>\n",
       "    <tr>\n",
       "      <th>55</th>\n",
       "      <td>892236423.0</td>\n",
       "      <td>United States of America</td>\n",
       "      <td>2017-10-18 01:09:00</td>\n",
       "      <td>2017-10-23 00:15:00</td>\n",
       "      <td>3783.0</td>\n",
       "      <td>67.0</td>\n",
       "      <td>menu</td>\n",
       "      <td>other_type</td>\n",
       "      <td>test</td>\n",
       "      <td>10</td>\n",
       "      <td>10</td>\n",
       "    </tr>\n",
       "    <tr>\n",
       "      <th>96</th>\n",
       "      <td>892050108.0</td>\n",
       "      <td>Israel</td>\n",
       "      <td>2017-10-22 03:02:00</td>\n",
       "      <td>2017-10-23 02:53:00</td>\n",
       "      <td>1261.0</td>\n",
       "      <td>19.0</td>\n",
       "      <td>empty_likes</td>\n",
       "      <td>coins</td>\n",
       "      <td>test</td>\n",
       "      <td>10</td>\n",
       "      <td>10</td>\n",
       "    </tr>\n",
       "    <tr>\n",
       "      <th>127</th>\n",
       "      <td>892236423.0</td>\n",
       "      <td>United States of America</td>\n",
       "      <td>2017-10-18 01:09:00</td>\n",
       "      <td>2017-10-27 22:38:00</td>\n",
       "      <td>3783.0</td>\n",
       "      <td>67.0</td>\n",
       "      <td>menu</td>\n",
       "      <td>other_type</td>\n",
       "      <td>test</td>\n",
       "      <td>10</td>\n",
       "      <td>10</td>\n",
       "    </tr>\n",
       "    <tr>\n",
       "      <th>158</th>\n",
       "      <td>891508155.0</td>\n",
       "      <td>Latvia</td>\n",
       "      <td>2017-02-11 09:46:00</td>\n",
       "      <td>2017-03-11 22:06:00</td>\n",
       "      <td>936.0</td>\n",
       "      <td>19.0</td>\n",
       "      <td>empty_likes</td>\n",
       "      <td>coins</td>\n",
       "      <td>test</td>\n",
       "      <td>3</td>\n",
       "      <td>2</td>\n",
       "    </tr>\n",
       "    <tr>\n",
       "      <th>188</th>\n",
       "      <td>892236423.0</td>\n",
       "      <td>United States of America</td>\n",
       "      <td>2017-10-18 01:09:00</td>\n",
       "      <td>2017-10-22 22:08:00</td>\n",
       "      <td>1261.0</td>\n",
       "      <td>19.0</td>\n",
       "      <td>empty_likes</td>\n",
       "      <td>coins</td>\n",
       "      <td>test</td>\n",
       "      <td>10</td>\n",
       "      <td>10</td>\n",
       "    </tr>\n",
       "  </tbody>\n",
       "</table>\n",
       "</div>"
      ],
      "text/plain": [
       "             uid                   country           joined_at  \\\n",
       "55   892236423.0  United States of America 2017-10-18 01:09:00   \n",
       "96   892050108.0                    Israel 2017-10-22 03:02:00   \n",
       "127  892236423.0  United States of America 2017-10-18 01:09:00   \n",
       "158  891508155.0                    Latvia 2017-02-11 09:46:00   \n",
       "188  892236423.0  United States of America 2017-10-18 01:09:00   \n",
       "\n",
       "                paid_at  revenue  payment_id    from_page product_type group  \\\n",
       "55  2017-10-23 00:15:00   3783.0        67.0         menu   other_type  test   \n",
       "96  2017-10-23 02:53:00   1261.0        19.0  empty_likes        coins  test   \n",
       "127 2017-10-27 22:38:00   3783.0        67.0         menu   other_type  test   \n",
       "158 2017-03-11 22:06:00    936.0        19.0  empty_likes        coins  test   \n",
       "188 2017-10-22 22:08:00   1261.0        19.0  empty_likes        coins  test   \n",
       "\n",
       "     paid_at_month  joined_at_month  \n",
       "55              10               10  \n",
       "96              10               10  \n",
       "127             10               10  \n",
       "158              3                2  \n",
       "188             10               10  "
      ]
     },
     "execution_count": 77,
     "metadata": {},
     "output_type": "execute_result"
    }
   ],
   "source": [
    "transactions_cor.loc[transactions_cor.duplicated()].head()"
   ]
  },
  {
   "cell_type": "code",
   "execution_count": 78,
   "id": "dc222136",
   "metadata": {},
   "outputs": [],
   "source": [
    "# удалим их"
   ]
  },
  {
   "cell_type": "code",
   "execution_count": 79,
   "id": "6ac11f66",
   "metadata": {},
   "outputs": [],
   "source": [
    "transactions_cor = transactions_cor.drop_duplicates()"
   ]
  },
  {
   "cell_type": "code",
   "execution_count": 80,
   "id": "89ec7d0c",
   "metadata": {},
   "outputs": [],
   "source": [
    "# проверим покупали ли подписку (premium_no_trial) несколько раз "
   ]
  },
  {
   "cell_type": "code",
   "execution_count": 81,
   "id": "cda618de",
   "metadata": {},
   "outputs": [
    {
     "data": {
      "text/plain": [
       "(288, 11)"
      ]
     },
     "execution_count": 81,
     "metadata": {},
     "output_type": "execute_result"
    }
   ],
   "source": [
    "transactions_cor.query('product_type == \"premium_no_trial\"').shape"
   ]
  },
  {
   "cell_type": "code",
   "execution_count": 82,
   "id": "7f045570",
   "metadata": {},
   "outputs": [
    {
     "data": {
      "text/plain": [
       "267"
      ]
     },
     "execution_count": 82,
     "metadata": {},
     "output_type": "execute_result"
    }
   ],
   "source": [
    "transactions_cor.query('product_type == \"premium_no_trial\"').uid.nunique()"
   ]
  },
  {
   "cell_type": "code",
   "execution_count": 83,
   "id": "0b03e214",
   "metadata": {},
   "outputs": [],
   "source": [
    "# да покупали - посмотрим на эту информацию более подробно - выделим пользователей с покупками премиум больше 1"
   ]
  },
  {
   "cell_type": "code",
   "execution_count": 84,
   "id": "077985e5",
   "metadata": {},
   "outputs": [],
   "source": [
    "uid_several_premium = transactions_cor \\\n",
    "    .query('product_type == \"premium_no_trial\"') \\\n",
    "    .groupby('uid', as_index = False).agg({'product_type':'count'}) \\\n",
    "    .query('product_type > 1').uid"
   ]
  },
  {
   "cell_type": "code",
   "execution_count": 85,
   "id": "e0dba39d",
   "metadata": {},
   "outputs": [],
   "source": [
    "# и посмотрим на них"
   ]
  },
  {
   "cell_type": "code",
   "execution_count": 86,
   "id": "5c4599ef",
   "metadata": {},
   "outputs": [
    {
     "data": {
      "text/html": [
       "<div>\n",
       "<style scoped>\n",
       "    .dataframe tbody tr th:only-of-type {\n",
       "        vertical-align: middle;\n",
       "    }\n",
       "\n",
       "    .dataframe tbody tr th {\n",
       "        vertical-align: top;\n",
       "    }\n",
       "\n",
       "    .dataframe thead th {\n",
       "        text-align: right;\n",
       "    }\n",
       "</style>\n",
       "<table border=\"1\" class=\"dataframe\">\n",
       "  <thead>\n",
       "    <tr style=\"text-align: right;\">\n",
       "      <th></th>\n",
       "      <th>uid</th>\n",
       "      <th>country</th>\n",
       "      <th>joined_at</th>\n",
       "      <th>paid_at</th>\n",
       "      <th>revenue</th>\n",
       "      <th>payment_id</th>\n",
       "      <th>from_page</th>\n",
       "      <th>product_type</th>\n",
       "      <th>group</th>\n",
       "      <th>paid_at_month</th>\n",
       "      <th>joined_at_month</th>\n",
       "    </tr>\n",
       "  </thead>\n",
       "  <tbody>\n",
       "    <tr>\n",
       "      <th>138</th>\n",
       "      <td>891216033.0</td>\n",
       "      <td>United States of America</td>\n",
       "      <td>2017-07-11 12:33:00</td>\n",
       "      <td>2017-07-11 12:47:00</td>\n",
       "      <td>6292.0</td>\n",
       "      <td>0.0</td>\n",
       "      <td>autoreply_message</td>\n",
       "      <td>premium_no_trial</td>\n",
       "      <td>control_1</td>\n",
       "      <td>7</td>\n",
       "      <td>7</td>\n",
       "    </tr>\n",
       "    <tr>\n",
       "      <th>269</th>\n",
       "      <td>891216033.0</td>\n",
       "      <td>United States of America</td>\n",
       "      <td>2017-07-11 12:33:00</td>\n",
       "      <td>2017-07-11 12:47:00</td>\n",
       "      <td>6292.0</td>\n",
       "      <td>147.0</td>\n",
       "      <td>autoreply_message</td>\n",
       "      <td>premium_no_trial</td>\n",
       "      <td>control_1</td>\n",
       "      <td>7</td>\n",
       "      <td>7</td>\n",
       "    </tr>\n",
       "    <tr>\n",
       "      <th>144</th>\n",
       "      <td>891219540.0</td>\n",
       "      <td>Australia</td>\n",
       "      <td>2017-07-11 10:50:00</td>\n",
       "      <td>2017-07-11 10:58:00</td>\n",
       "      <td>4719.0</td>\n",
       "      <td>147.0</td>\n",
       "      <td>none</td>\n",
       "      <td>premium_no_trial</td>\n",
       "      <td>control_2</td>\n",
       "      <td>7</td>\n",
       "      <td>7</td>\n",
       "    </tr>\n",
       "    <tr>\n",
       "      <th>90</th>\n",
       "      <td>891219540.0</td>\n",
       "      <td>Australia</td>\n",
       "      <td>2017-07-11 10:50:00</td>\n",
       "      <td>2017-07-11 10:58:00</td>\n",
       "      <td>4719.0</td>\n",
       "      <td>0.0</td>\n",
       "      <td>none</td>\n",
       "      <td>premium_no_trial</td>\n",
       "      <td>control_2</td>\n",
       "      <td>7</td>\n",
       "      <td>7</td>\n",
       "    </tr>\n",
       "    <tr>\n",
       "      <th>351</th>\n",
       "      <td>891264903.0</td>\n",
       "      <td>United States of America</td>\n",
       "      <td>2017-06-11 16:02:00</td>\n",
       "      <td>2017-09-11 10:32:00</td>\n",
       "      <td>3874.0</td>\n",
       "      <td>147.0</td>\n",
       "      <td>none</td>\n",
       "      <td>premium_no_trial</td>\n",
       "      <td>control_1</td>\n",
       "      <td>9</td>\n",
       "      <td>6</td>\n",
       "    </tr>\n",
       "  </tbody>\n",
       "</table>\n",
       "</div>"
      ],
      "text/plain": [
       "             uid                   country           joined_at  \\\n",
       "138  891216033.0  United States of America 2017-07-11 12:33:00   \n",
       "269  891216033.0  United States of America 2017-07-11 12:33:00   \n",
       "144  891219540.0                 Australia 2017-07-11 10:50:00   \n",
       "90   891219540.0                 Australia 2017-07-11 10:50:00   \n",
       "351  891264903.0  United States of America 2017-06-11 16:02:00   \n",
       "\n",
       "                paid_at  revenue  payment_id          from_page  \\\n",
       "138 2017-07-11 12:47:00   6292.0         0.0  autoreply_message   \n",
       "269 2017-07-11 12:47:00   6292.0       147.0  autoreply_message   \n",
       "144 2017-07-11 10:58:00   4719.0       147.0               none   \n",
       "90  2017-07-11 10:58:00   4719.0         0.0               none   \n",
       "351 2017-09-11 10:32:00   3874.0       147.0               none   \n",
       "\n",
       "         product_type      group  paid_at_month  joined_at_month  \n",
       "138  premium_no_trial  control_1              7                7  \n",
       "269  premium_no_trial  control_1              7                7  \n",
       "144  premium_no_trial  control_2              7                7  \n",
       "90   premium_no_trial  control_2              7                7  \n",
       "351  premium_no_trial  control_1              9                6  "
      ]
     },
     "execution_count": 86,
     "metadata": {},
     "output_type": "execute_result"
    }
   ],
   "source": [
    "transactions_cor \\\n",
    "    .query('uid in @uid_several_premium') \\\n",
    "    .sort_values('uid') \\\n",
    "    .query('product_type == \"premium_no_trial\"').head()"
   ]
  },
  {
   "cell_type": "code",
   "execution_count": 87,
   "id": "0fa7513d",
   "metadata": {},
   "outputs": [
    {
     "data": {
      "text/html": [
       "<div>\n",
       "<style scoped>\n",
       "    .dataframe tbody tr th:only-of-type {\n",
       "        vertical-align: middle;\n",
       "    }\n",
       "\n",
       "    .dataframe tbody tr th {\n",
       "        vertical-align: top;\n",
       "    }\n",
       "\n",
       "    .dataframe thead th {\n",
       "        text-align: right;\n",
       "    }\n",
       "</style>\n",
       "<table border=\"1\" class=\"dataframe\">\n",
       "  <thead>\n",
       "    <tr style=\"text-align: right;\">\n",
       "      <th></th>\n",
       "      <th>uid</th>\n",
       "      <th>country</th>\n",
       "      <th>joined_at</th>\n",
       "      <th>paid_at</th>\n",
       "      <th>revenue</th>\n",
       "      <th>payment_id</th>\n",
       "      <th>from_page</th>\n",
       "      <th>product_type</th>\n",
       "      <th>group</th>\n",
       "      <th>paid_at_month</th>\n",
       "      <th>joined_at_month</th>\n",
       "    </tr>\n",
       "  </thead>\n",
       "  <tbody>\n",
       "    <tr>\n",
       "      <th>220</th>\n",
       "      <td>891725043.0</td>\n",
       "      <td>United Arab Emirates</td>\n",
       "      <td>2017-10-29 00:49:00</td>\n",
       "      <td>2017-10-29 07:48:00</td>\n",
       "      <td>9217.0</td>\n",
       "      <td>0.0</td>\n",
       "      <td>none</td>\n",
       "      <td>premium_no_trial</td>\n",
       "      <td>test</td>\n",
       "      <td>10</td>\n",
       "      <td>10</td>\n",
       "    </tr>\n",
       "    <tr>\n",
       "      <th>138</th>\n",
       "      <td>891216033.0</td>\n",
       "      <td>United States of America</td>\n",
       "      <td>2017-07-11 12:33:00</td>\n",
       "      <td>2017-07-11 12:47:00</td>\n",
       "      <td>6292.0</td>\n",
       "      <td>0.0</td>\n",
       "      <td>autoreply_message</td>\n",
       "      <td>premium_no_trial</td>\n",
       "      <td>control_1</td>\n",
       "      <td>7</td>\n",
       "      <td>7</td>\n",
       "    </tr>\n",
       "    <tr>\n",
       "      <th>347</th>\n",
       "      <td>892101909.0</td>\n",
       "      <td>France</td>\n",
       "      <td>2017-10-21 03:28:00</td>\n",
       "      <td>2017-10-21 03:39:00</td>\n",
       "      <td>6422.0</td>\n",
       "      <td>0.0</td>\n",
       "      <td>none</td>\n",
       "      <td>premium_no_trial</td>\n",
       "      <td>control_1</td>\n",
       "      <td>10</td>\n",
       "      <td>10</td>\n",
       "    </tr>\n",
       "    <tr>\n",
       "      <th>90</th>\n",
       "      <td>891219540.0</td>\n",
       "      <td>Australia</td>\n",
       "      <td>2017-07-11 10:50:00</td>\n",
       "      <td>2017-07-11 10:58:00</td>\n",
       "      <td>4719.0</td>\n",
       "      <td>0.0</td>\n",
       "      <td>none</td>\n",
       "      <td>premium_no_trial</td>\n",
       "      <td>control_2</td>\n",
       "      <td>7</td>\n",
       "      <td>7</td>\n",
       "    </tr>\n",
       "  </tbody>\n",
       "</table>\n",
       "</div>"
      ],
      "text/plain": [
       "             uid                   country           joined_at  \\\n",
       "220  891725043.0      United Arab Emirates 2017-10-29 00:49:00   \n",
       "138  891216033.0  United States of America 2017-07-11 12:33:00   \n",
       "347  892101909.0                    France 2017-10-21 03:28:00   \n",
       "90   891219540.0                 Australia 2017-07-11 10:50:00   \n",
       "\n",
       "                paid_at  revenue  payment_id          from_page  \\\n",
       "220 2017-10-29 07:48:00   9217.0         0.0               none   \n",
       "138 2017-07-11 12:47:00   6292.0         0.0  autoreply_message   \n",
       "347 2017-10-21 03:39:00   6422.0         0.0               none   \n",
       "90  2017-07-11 10:58:00   4719.0         0.0               none   \n",
       "\n",
       "         product_type      group  paid_at_month  joined_at_month  \n",
       "220  premium_no_trial       test             10               10  \n",
       "138  premium_no_trial  control_1              7                7  \n",
       "347  premium_no_trial  control_1             10               10  \n",
       "90   premium_no_trial  control_2              7                7  "
      ]
     },
     "execution_count": 87,
     "metadata": {},
     "output_type": "execute_result"
    }
   ],
   "source": [
    "transactions_cor.query('payment_id == 0')"
   ]
  },
  {
   "cell_type": "markdown",
   "id": "832e29d8",
   "metadata": {},
   "source": [
    "Есть покупки премиума, которые отличаются только payment_id - у дубля он иммеет значение - 0, это очень похоже на баг. Это все покупки с payment_id = 0 - удаляю эти дубли - на мой взгляд это явный баг."
   ]
  },
  {
   "cell_type": "code",
   "execution_count": 88,
   "id": "c76511b3",
   "metadata": {},
   "outputs": [],
   "source": [
    "transactions_cor = transactions_cor.query('payment_id != 0')"
   ]
  },
  {
   "cell_type": "markdown",
   "id": "8e7dfbc5",
   "metadata": {},
   "source": [
    "### Выберем метрики, которые нас интересуют"
   ]
  },
  {
   "cell_type": "markdown",
   "id": "0b2eedde",
   "metadata": {},
   "source": [
    "#### конверсия "
   ]
  },
  {
   "cell_type": "markdown",
   "id": "860d203f",
   "metadata": {},
   "source": [
    "В первую очередь нас инетерсует конверсия в премиум подписку (не триал) - какой процент пользователей купил премиум подписку"
   ]
  },
  {
   "cell_type": "code",
   "execution_count": 89,
   "id": "e6575fbc",
   "metadata": {},
   "outputs": [],
   "source": [
    "# пользователи у которых покупали подписку premium_no_trial (подсчитаем также тех кто купил триал)"
   ]
  },
  {
   "cell_type": "code",
   "execution_count": 90,
   "id": "83b791ff",
   "metadata": {},
   "outputs": [],
   "source": [
    "uid_with_premium_no_trial = transactions_cor.query('product_type == \"premium_no_trial\"').uid.unique()"
   ]
  },
  {
   "cell_type": "code",
   "execution_count": 91,
   "id": "7170abda",
   "metadata": {},
   "outputs": [],
   "source": [
    "uid_with_trial_premium = transactions_cor.query('product_type == \"trial_premium\"').uid.unique()"
   ]
  },
  {
   "cell_type": "code",
   "execution_count": 92,
   "id": "1d043826",
   "metadata": {},
   "outputs": [],
   "source": [
    "# в датасете юзеров добавим колонки с информацией о таких покупке"
   ]
  },
  {
   "cell_type": "code",
   "execution_count": 93,
   "id": "f21c07f1",
   "metadata": {},
   "outputs": [],
   "source": [
    "users_cor['premium_no_trial'] = users_cor.uid.isin(uid_with_premium_no_trial)\n",
    "users_cor['trial_premium'] = users_cor.uid.isin(uid_with_trial_premium)"
   ]
  },
  {
   "cell_type": "code",
   "execution_count": 94,
   "id": "3e60df72",
   "metadata": {},
   "outputs": [],
   "source": [
    "# посмотрим распределение по купившим и не купившим premium_no_trial и конверсию в premium_no_trial"
   ]
  },
  {
   "cell_type": "code",
   "execution_count": 95,
   "id": "af968d94",
   "metadata": {},
   "outputs": [
    {
     "data": {
      "text/html": [
       "<div>\n",
       "<style scoped>\n",
       "    .dataframe tbody tr th:only-of-type {\n",
       "        vertical-align: middle;\n",
       "    }\n",
       "\n",
       "    .dataframe tbody tr th {\n",
       "        vertical-align: top;\n",
       "    }\n",
       "\n",
       "    .dataframe thead th {\n",
       "        text-align: right;\n",
       "    }\n",
       "</style>\n",
       "<table border=\"1\" class=\"dataframe\">\n",
       "  <thead>\n",
       "    <tr style=\"text-align: right;\">\n",
       "      <th>premium_no_trial</th>\n",
       "      <th>False</th>\n",
       "      <th>True</th>\n",
       "    </tr>\n",
       "    <tr>\n",
       "      <th>group</th>\n",
       "      <th></th>\n",
       "      <th></th>\n",
       "    </tr>\n",
       "  </thead>\n",
       "  <tbody>\n",
       "    <tr>\n",
       "      <th>control_1</th>\n",
       "      <td>4240</td>\n",
       "      <td>98</td>\n",
       "    </tr>\n",
       "    <tr>\n",
       "      <th>control_2</th>\n",
       "      <td>4162</td>\n",
       "      <td>102</td>\n",
       "    </tr>\n",
       "    <tr>\n",
       "      <th>test</th>\n",
       "      <td>4241</td>\n",
       "      <td>67</td>\n",
       "    </tr>\n",
       "  </tbody>\n",
       "</table>\n",
       "</div>"
      ],
      "text/plain": [
       "premium_no_trial  False  True\n",
       "group                        \n",
       "control_1          4240    98\n",
       "control_2          4162   102\n",
       "test               4241    67"
      ]
     },
     "execution_count": 95,
     "metadata": {},
     "output_type": "execute_result"
    }
   ],
   "source": [
    "pd.crosstab(users_cor.group, users_cor.premium_no_trial)"
   ]
  },
  {
   "cell_type": "code",
   "execution_count": 96,
   "id": "670506d4",
   "metadata": {},
   "outputs": [
    {
     "data": {
      "text/plain": [
       "group\n",
       "control_1    0.022591\n",
       "control_2    0.023921\n",
       "test         0.015552\n",
       "Name: premium_no_trial, dtype: float64"
      ]
     },
     "execution_count": 96,
     "metadata": {},
     "output_type": "execute_result"
    }
   ],
   "source": [
    "users_cor.groupby('group').premium_no_trial.mean()"
   ]
  },
  {
   "cell_type": "markdown",
   "id": "86c0dbea",
   "metadata": {},
   "source": [
    "конверсия в любую покупку - скидка на премиум может влять на другие покупки"
   ]
  },
  {
   "cell_type": "code",
   "execution_count": 97,
   "id": "e60cc212",
   "metadata": {},
   "outputs": [],
   "source": [
    "# добавим в датасет users столбец с revenue из transaction - учитывая что мы удалили дубли из transaction \n",
    "# информация об общих покупках в users некорректна "
   ]
  },
  {
   "cell_type": "code",
   "execution_count": 98,
   "id": "86251583",
   "metadata": {},
   "outputs": [],
   "source": [
    "transactions_cor_revenue = transactions_cor.groupby('uid', as_index = False).agg({'revenue':sum})"
   ]
  },
  {
   "cell_type": "code",
   "execution_count": 99,
   "id": "67756b8f",
   "metadata": {},
   "outputs": [],
   "source": [
    "users_cor = users_cor.merge(transactions_cor_revenue, on = 'uid', how = 'left').fillna(0)"
   ]
  },
  {
   "cell_type": "code",
   "execution_count": 100,
   "id": "a01dd18a",
   "metadata": {},
   "outputs": [],
   "source": [
    "# создадим столбец с информацией были ди покупки у пользователя или нет"
   ]
  },
  {
   "cell_type": "code",
   "execution_count": 101,
   "id": "15e06ec7",
   "metadata": {},
   "outputs": [],
   "source": [
    "users_cor['purchaser'] = users_cor.revenue != 0"
   ]
  },
  {
   "cell_type": "code",
   "execution_count": 102,
   "id": "2d1f899a",
   "metadata": {},
   "outputs": [],
   "source": [
    "# посмотрим конверсию в покупки"
   ]
  },
  {
   "cell_type": "code",
   "execution_count": 103,
   "id": "02c96940",
   "metadata": {},
   "outputs": [
    {
     "data": {
      "text/plain": [
       "group\n",
       "control_1    0.044030\n",
       "control_2    0.043856\n",
       "test         0.033890\n",
       "Name: purchaser, dtype: float64"
      ]
     },
     "execution_count": 103,
     "metadata": {},
     "output_type": "execute_result"
    }
   ],
   "source": [
    "users_cor.groupby('group').purchaser.mean()"
   ]
  },
  {
   "cell_type": "markdown",
   "id": "72073da4",
   "metadata": {},
   "source": [
    "Конверсия это хорошо, но нас интересует unit экономика - arpu и arppu, средний доход с пользователя, и средний доход с пользователя совершившего покупку можно посчитать средний чек. Стоит лиосчитать retention ? на мой взляд у нас мало информации для того чтобы решить какой retention."
   ]
  },
  {
   "cell_type": "markdown",
   "id": "19d9b9b1",
   "metadata": {},
   "source": [
    "#### arpu"
   ]
  },
  {
   "cell_type": "code",
   "execution_count": 104,
   "id": "0cf5e369",
   "metadata": {},
   "outputs": [],
   "source": [
    "# посмотрим arpu по группам"
   ]
  },
  {
   "cell_type": "code",
   "execution_count": 105,
   "id": "8f0f9489",
   "metadata": {},
   "outputs": [
    {
     "data": {
      "text/plain": [
       "group\n",
       "control_1    479.064085\n",
       "control_2    446.359756\n",
       "test         539.231430\n",
       "Name: revenue, dtype: float64"
      ]
     },
     "execution_count": 105,
     "metadata": {},
     "output_type": "execute_result"
    }
   ],
   "source": [
    "users_cor.groupby('group').revenue.mean()"
   ]
  },
  {
   "cell_type": "code",
   "execution_count": 106,
   "id": "1754324f",
   "metadata": {},
   "outputs": [],
   "source": [
    "# выделим сразу информацию по группам - понадобится в дальнейшем анализе"
   ]
  },
  {
   "cell_type": "code",
   "execution_count": 107,
   "id": "7c24d7e7",
   "metadata": {},
   "outputs": [],
   "source": [
    "arpu_test      = users_cor.query('group == \"test\"').revenue\n",
    "arpu_control_1 = users_cor.query('group == \"control_1\"').revenue\n",
    "arpu_control_2 = users_cor.query('group == \"control_2\"').revenue"
   ]
  },
  {
   "cell_type": "markdown",
   "id": "1adeb40f",
   "metadata": {},
   "source": [
    "#### arppu"
   ]
  },
  {
   "cell_type": "code",
   "execution_count": 108,
   "id": "d3ae154a",
   "metadata": {},
   "outputs": [],
   "source": [
    "# посмотрим arppu по группам"
   ]
  },
  {
   "cell_type": "code",
   "execution_count": 109,
   "id": "76fd6e9e",
   "metadata": {},
   "outputs": [
    {
     "data": {
      "text/plain": [
       "group\n",
       "control_1    10880.523560\n",
       "control_2    10177.957219\n",
       "test         15911.020548\n",
       "Name: revenue, dtype: float64"
      ]
     },
     "execution_count": 109,
     "metadata": {},
     "output_type": "execute_result"
    }
   ],
   "source": [
    "users_cor.query('revenue != 0').groupby('group').revenue.mean()"
   ]
  },
  {
   "cell_type": "code",
   "execution_count": 110,
   "id": "94d0abbc",
   "metadata": {},
   "outputs": [],
   "source": [
    "arppu_test      = users_cor.query('revenue != 0 and group == \"test\"').revenue\n",
    "arppu_control_1 = users_cor.query('revenue != 0 and group == \"control_1\"').revenue\n",
    "arppu_control_2 = users_cor.query('revenue != 0 and group == \"control_2\"').revenue"
   ]
  },
  {
   "cell_type": "code",
   "execution_count": 111,
   "id": "4835c26b",
   "metadata": {},
   "outputs": [],
   "source": [
    "# посмотрим также средний чек и средний чек по группам"
   ]
  },
  {
   "cell_type": "code",
   "execution_count": 112,
   "id": "b7836cb6",
   "metadata": {},
   "outputs": [
    {
     "data": {
      "text/plain": [
       "6860.138193688792"
      ]
     },
     "execution_count": 112,
     "metadata": {},
     "output_type": "execute_result"
    }
   ],
   "source": [
    "transactions_cor['revenue'].sum()/transactions_cor['revenue'].count()"
   ]
  },
  {
   "cell_type": "code",
   "execution_count": 113,
   "id": "af4df587",
   "metadata": {},
   "outputs": [
    {
     "data": {
      "text/html": [
       "<div>\n",
       "<style scoped>\n",
       "    .dataframe tbody tr th:only-of-type {\n",
       "        vertical-align: middle;\n",
       "    }\n",
       "\n",
       "    .dataframe tbody tr th {\n",
       "        vertical-align: top;\n",
       "    }\n",
       "\n",
       "    .dataframe thead th {\n",
       "        text-align: right;\n",
       "    }\n",
       "</style>\n",
       "<table border=\"1\" class=\"dataframe\">\n",
       "  <thead>\n",
       "    <tr style=\"text-align: right;\">\n",
       "      <th></th>\n",
       "      <th>group</th>\n",
       "      <th>revenue</th>\n",
       "    </tr>\n",
       "  </thead>\n",
       "  <tbody>\n",
       "    <tr>\n",
       "      <th>0</th>\n",
       "      <td>control_1</td>\n",
       "      <td>6259.578313</td>\n",
       "    </tr>\n",
       "    <tr>\n",
       "      <th>1</th>\n",
       "      <td>control_2</td>\n",
       "      <td>5910.801242</td>\n",
       "    </tr>\n",
       "    <tr>\n",
       "      <th>2</th>\n",
       "      <td>test</td>\n",
       "      <td>8766.071698</td>\n",
       "    </tr>\n",
       "  </tbody>\n",
       "</table>\n",
       "</div>"
      ],
      "text/plain": [
       "       group      revenue\n",
       "0  control_1  6259.578313\n",
       "1  control_2  5910.801242\n",
       "2       test  8766.071698"
      ]
     },
     "execution_count": 113,
     "metadata": {},
     "output_type": "execute_result"
    }
   ],
   "source": [
    "transactions_cor.groupby('group', as_index = False).agg({'revenue': lambda x: x.sum()/x.count()})"
   ]
  },
  {
   "cell_type": "markdown",
   "id": "8c1642de",
   "metadata": {},
   "source": [
    "### A-A test"
   ]
  },
  {
   "cell_type": "markdown",
   "id": "e6cd5465",
   "metadata": {},
   "source": [
    "Проведем A-A тест - для этого проверим честность деления пользователей между группами и проверим FPR (долю ложноположительных отметок) с помощью arpu"
   ]
  },
  {
   "cell_type": "markdown",
   "id": "cc48d313",
   "metadata": {},
   "source": [
    "#### честность деления пользователей между группами"
   ]
  },
  {
   "cell_type": "code",
   "execution_count": 114,
   "id": "10936858",
   "metadata": {},
   "outputs": [
    {
     "data": {
      "text/html": [
       "<div>\n",
       "<style scoped>\n",
       "    .dataframe tbody tr th:only-of-type {\n",
       "        vertical-align: middle;\n",
       "    }\n",
       "\n",
       "    .dataframe tbody tr th {\n",
       "        vertical-align: top;\n",
       "    }\n",
       "\n",
       "    .dataframe thead tr th {\n",
       "        text-align: left;\n",
       "    }\n",
       "</style>\n",
       "<table border=\"1\" class=\"dataframe\">\n",
       "  <thead>\n",
       "    <tr>\n",
       "      <th></th>\n",
       "      <th>group</th>\n",
       "      <th colspan=\"8\" halign=\"left\">age</th>\n",
       "    </tr>\n",
       "    <tr>\n",
       "      <th></th>\n",
       "      <th></th>\n",
       "      <th>count</th>\n",
       "      <th>mean</th>\n",
       "      <th>std</th>\n",
       "      <th>min</th>\n",
       "      <th>25%</th>\n",
       "      <th>50%</th>\n",
       "      <th>75%</th>\n",
       "      <th>max</th>\n",
       "    </tr>\n",
       "  </thead>\n",
       "  <tbody>\n",
       "    <tr>\n",
       "      <th>0</th>\n",
       "      <td>control_1</td>\n",
       "      <td>4338.0</td>\n",
       "      <td>32.098202</td>\n",
       "      <td>10.258636</td>\n",
       "      <td>16.0</td>\n",
       "      <td>24.0</td>\n",
       "      <td>30.0</td>\n",
       "      <td>38.0</td>\n",
       "      <td>99.0</td>\n",
       "    </tr>\n",
       "    <tr>\n",
       "      <th>1</th>\n",
       "      <td>control_2</td>\n",
       "      <td>4264.0</td>\n",
       "      <td>32.046201</td>\n",
       "      <td>10.170721</td>\n",
       "      <td>16.0</td>\n",
       "      <td>25.0</td>\n",
       "      <td>30.0</td>\n",
       "      <td>38.0</td>\n",
       "      <td>99.0</td>\n",
       "    </tr>\n",
       "    <tr>\n",
       "      <th>2</th>\n",
       "      <td>test</td>\n",
       "      <td>4308.0</td>\n",
       "      <td>31.889276</td>\n",
       "      <td>10.245287</td>\n",
       "      <td>16.0</td>\n",
       "      <td>25.0</td>\n",
       "      <td>30.0</td>\n",
       "      <td>38.0</td>\n",
       "      <td>99.0</td>\n",
       "    </tr>\n",
       "  </tbody>\n",
       "</table>\n",
       "</div>"
      ],
      "text/plain": [
       "       group     age                                                    \n",
       "               count       mean        std   min   25%   50%   75%   max\n",
       "0  control_1  4338.0  32.098202  10.258636  16.0  24.0  30.0  38.0  99.0\n",
       "1  control_2  4264.0  32.046201  10.170721  16.0  25.0  30.0  38.0  99.0\n",
       "2       test  4308.0  31.889276  10.245287  16.0  25.0  30.0  38.0  99.0"
      ]
     },
     "execution_count": 114,
     "metadata": {},
     "output_type": "execute_result"
    }
   ],
   "source": [
    "# по возрасту\n",
    "users_cor.groupby('group', as_index = False).agg({'age':'describe'})"
   ]
  },
  {
   "cell_type": "code",
   "execution_count": 115,
   "id": "9d640b36",
   "metadata": {},
   "outputs": [
    {
     "data": {
      "text/html": [
       "<div>\n",
       "<style scoped>\n",
       "    .dataframe tbody tr th:only-of-type {\n",
       "        vertical-align: middle;\n",
       "    }\n",
       "\n",
       "    .dataframe tbody tr th {\n",
       "        vertical-align: top;\n",
       "    }\n",
       "\n",
       "    .dataframe thead tr th {\n",
       "        text-align: left;\n",
       "    }\n",
       "</style>\n",
       "<table border=\"1\" class=\"dataframe\">\n",
       "  <thead>\n",
       "    <tr>\n",
       "      <th></th>\n",
       "      <th>group</th>\n",
       "      <th colspan=\"8\" halign=\"left\">attraction_coeff</th>\n",
       "    </tr>\n",
       "    <tr>\n",
       "      <th></th>\n",
       "      <th></th>\n",
       "      <th>count</th>\n",
       "      <th>mean</th>\n",
       "      <th>std</th>\n",
       "      <th>min</th>\n",
       "      <th>25%</th>\n",
       "      <th>50%</th>\n",
       "      <th>75%</th>\n",
       "      <th>max</th>\n",
       "    </tr>\n",
       "  </thead>\n",
       "  <tbody>\n",
       "    <tr>\n",
       "      <th>0</th>\n",
       "      <td>control_1</td>\n",
       "      <td>4338.0</td>\n",
       "      <td>312.151452</td>\n",
       "      <td>321.005290</td>\n",
       "      <td>0.0</td>\n",
       "      <td>0.0</td>\n",
       "      <td>239.0</td>\n",
       "      <td>518.00</td>\n",
       "      <td>1000.0</td>\n",
       "    </tr>\n",
       "    <tr>\n",
       "      <th>1</th>\n",
       "      <td>control_2</td>\n",
       "      <td>4264.0</td>\n",
       "      <td>317.957317</td>\n",
       "      <td>326.191737</td>\n",
       "      <td>0.0</td>\n",
       "      <td>0.0</td>\n",
       "      <td>250.0</td>\n",
       "      <td>548.50</td>\n",
       "      <td>1000.0</td>\n",
       "    </tr>\n",
       "    <tr>\n",
       "      <th>2</th>\n",
       "      <td>test</td>\n",
       "      <td>4308.0</td>\n",
       "      <td>316.411328</td>\n",
       "      <td>323.373725</td>\n",
       "      <td>0.0</td>\n",
       "      <td>0.0</td>\n",
       "      <td>250.0</td>\n",
       "      <td>520.25</td>\n",
       "      <td>1000.0</td>\n",
       "    </tr>\n",
       "  </tbody>\n",
       "</table>\n",
       "</div>"
      ],
      "text/plain": [
       "       group attraction_coeff                                           \\\n",
       "                        count        mean         std  min  25%    50%   \n",
       "0  control_1           4338.0  312.151452  321.005290  0.0  0.0  239.0   \n",
       "1  control_2           4264.0  317.957317  326.191737  0.0  0.0  250.0   \n",
       "2       test           4308.0  316.411328  323.373725  0.0  0.0  250.0   \n",
       "\n",
       "                   \n",
       "      75%     max  \n",
       "0  518.00  1000.0  \n",
       "1  548.50  1000.0  \n",
       "2  520.25  1000.0  "
      ]
     },
     "execution_count": 115,
     "metadata": {},
     "output_type": "execute_result"
    }
   ],
   "source": [
    "# по коэфициенту привлекательности\n",
    "users_cor.groupby('group', as_index = False).agg({'attraction_coeff':'describe'})"
   ]
  },
  {
   "cell_type": "code",
   "execution_count": 116,
   "id": "1c86af93",
   "metadata": {},
   "outputs": [
    {
     "data": {
      "text/html": [
       "<div>\n",
       "<style scoped>\n",
       "    .dataframe tbody tr th:only-of-type {\n",
       "        vertical-align: middle;\n",
       "    }\n",
       "\n",
       "    .dataframe tbody tr th {\n",
       "        vertical-align: top;\n",
       "    }\n",
       "\n",
       "    .dataframe thead th {\n",
       "        text-align: right;\n",
       "    }\n",
       "</style>\n",
       "<table border=\"1\" class=\"dataframe\">\n",
       "  <thead>\n",
       "    <tr style=\"text-align: right;\">\n",
       "      <th>group</th>\n",
       "      <th>control_1</th>\n",
       "      <th>control_2</th>\n",
       "      <th>test</th>\n",
       "    </tr>\n",
       "    <tr>\n",
       "      <th>country</th>\n",
       "      <th></th>\n",
       "      <th></th>\n",
       "      <th></th>\n",
       "    </tr>\n",
       "  </thead>\n",
       "  <tbody>\n",
       "    <tr>\n",
       "      <th>United States of America</th>\n",
       "      <td>1471.0</td>\n",
       "      <td>1486.0</td>\n",
       "      <td>1450.0</td>\n",
       "    </tr>\n",
       "    <tr>\n",
       "      <th>Argentina</th>\n",
       "      <td>389.0</td>\n",
       "      <td>397.0</td>\n",
       "      <td>396.0</td>\n",
       "    </tr>\n",
       "    <tr>\n",
       "      <th>France</th>\n",
       "      <td>370.0</td>\n",
       "      <td>376.0</td>\n",
       "      <td>359.0</td>\n",
       "    </tr>\n",
       "    <tr>\n",
       "      <th>Italy</th>\n",
       "      <td>337.0</td>\n",
       "      <td>293.0</td>\n",
       "      <td>323.0</td>\n",
       "    </tr>\n",
       "    <tr>\n",
       "      <th>Spain</th>\n",
       "      <td>342.0</td>\n",
       "      <td>310.0</td>\n",
       "      <td>301.0</td>\n",
       "    </tr>\n",
       "    <tr>\n",
       "      <th>...</th>\n",
       "      <td>...</td>\n",
       "      <td>...</td>\n",
       "      <td>...</td>\n",
       "    </tr>\n",
       "    <tr>\n",
       "      <th>Qatar</th>\n",
       "      <td>1.0</td>\n",
       "      <td>1.0</td>\n",
       "      <td>NaN</td>\n",
       "    </tr>\n",
       "    <tr>\n",
       "      <th>Somalia</th>\n",
       "      <td>NaN</td>\n",
       "      <td>1.0</td>\n",
       "      <td>NaN</td>\n",
       "    </tr>\n",
       "    <tr>\n",
       "      <th>Sweden</th>\n",
       "      <td>1.0</td>\n",
       "      <td>NaN</td>\n",
       "      <td>NaN</td>\n",
       "    </tr>\n",
       "    <tr>\n",
       "      <th>Uganda</th>\n",
       "      <td>NaN</td>\n",
       "      <td>1.0</td>\n",
       "      <td>NaN</td>\n",
       "    </tr>\n",
       "    <tr>\n",
       "      <th>Venezuela</th>\n",
       "      <td>2.0</td>\n",
       "      <td>NaN</td>\n",
       "      <td>NaN</td>\n",
       "    </tr>\n",
       "  </tbody>\n",
       "</table>\n",
       "<p>72 rows × 3 columns</p>\n",
       "</div>"
      ],
      "text/plain": [
       "group                     control_1  control_2    test\n",
       "country                                               \n",
       "United States of America     1471.0     1486.0  1450.0\n",
       "Argentina                     389.0      397.0   396.0\n",
       "France                        370.0      376.0   359.0\n",
       "Italy                         337.0      293.0   323.0\n",
       "Spain                         342.0      310.0   301.0\n",
       "...                             ...        ...     ...\n",
       "Qatar                           1.0        1.0     NaN\n",
       "Somalia                         NaN        1.0     NaN\n",
       "Sweden                          1.0        NaN     NaN\n",
       "Uganda                          NaN        1.0     NaN\n",
       "Venezuela                       2.0        NaN     NaN\n",
       "\n",
       "[72 rows x 3 columns]"
      ]
     },
     "execution_count": 116,
     "metadata": {},
     "output_type": "execute_result"
    }
   ],
   "source": [
    "# по странам\n",
    "users_cor.groupby(['country','group'], as_index = False).agg({'uid':'count'}) \\\n",
    "    .pivot(index='country', columns='group', values='uid') \\\n",
    "    .sort_values('test', ascending = False)"
   ]
  },
  {
   "cell_type": "code",
   "execution_count": 117,
   "id": "a2619c7c",
   "metadata": {},
   "outputs": [
    {
     "data": {
      "text/html": [
       "<div>\n",
       "<style scoped>\n",
       "    .dataframe tbody tr th:only-of-type {\n",
       "        vertical-align: middle;\n",
       "    }\n",
       "\n",
       "    .dataframe tbody tr th {\n",
       "        vertical-align: top;\n",
       "    }\n",
       "\n",
       "    .dataframe thead tr th {\n",
       "        text-align: left;\n",
       "    }\n",
       "</style>\n",
       "<table border=\"1\" class=\"dataframe\">\n",
       "  <thead>\n",
       "    <tr>\n",
       "      <th></th>\n",
       "      <th>group</th>\n",
       "      <th colspan=\"8\" halign=\"left\">age_filter_start</th>\n",
       "    </tr>\n",
       "    <tr>\n",
       "      <th></th>\n",
       "      <th></th>\n",
       "      <th>count</th>\n",
       "      <th>mean</th>\n",
       "      <th>std</th>\n",
       "      <th>min</th>\n",
       "      <th>25%</th>\n",
       "      <th>50%</th>\n",
       "      <th>75%</th>\n",
       "      <th>max</th>\n",
       "    </tr>\n",
       "  </thead>\n",
       "  <tbody>\n",
       "    <tr>\n",
       "      <th>0</th>\n",
       "      <td>control_1</td>\n",
       "      <td>4338.0</td>\n",
       "      <td>26.795758</td>\n",
       "      <td>9.406519</td>\n",
       "      <td>13.0</td>\n",
       "      <td>19.0</td>\n",
       "      <td>25.0</td>\n",
       "      <td>32.0</td>\n",
       "      <td>96.0</td>\n",
       "    </tr>\n",
       "    <tr>\n",
       "      <th>1</th>\n",
       "      <td>control_2</td>\n",
       "      <td>4264.0</td>\n",
       "      <td>26.954268</td>\n",
       "      <td>9.546657</td>\n",
       "      <td>13.0</td>\n",
       "      <td>19.0</td>\n",
       "      <td>25.0</td>\n",
       "      <td>32.0</td>\n",
       "      <td>94.0</td>\n",
       "    </tr>\n",
       "    <tr>\n",
       "      <th>2</th>\n",
       "      <td>test</td>\n",
       "      <td>4308.0</td>\n",
       "      <td>26.701486</td>\n",
       "      <td>9.390851</td>\n",
       "      <td>13.0</td>\n",
       "      <td>19.0</td>\n",
       "      <td>24.0</td>\n",
       "      <td>32.0</td>\n",
       "      <td>96.0</td>\n",
       "    </tr>\n",
       "  </tbody>\n",
       "</table>\n",
       "</div>"
      ],
      "text/plain": [
       "       group age_filter_start                                               \\\n",
       "                        count       mean       std   min   25%   50%   75%   \n",
       "0  control_1           4338.0  26.795758  9.406519  13.0  19.0  25.0  32.0   \n",
       "1  control_2           4264.0  26.954268  9.546657  13.0  19.0  25.0  32.0   \n",
       "2       test           4308.0  26.701486  9.390851  13.0  19.0  24.0  32.0   \n",
       "\n",
       "         \n",
       "    max  \n",
       "0  96.0  \n",
       "1  94.0  \n",
       "2  96.0  "
      ]
     },
     "execution_count": 117,
     "metadata": {},
     "output_type": "execute_result"
    }
   ],
   "source": [
    "# по нижней границе запроса возраста\n",
    "users_cor.groupby('group', as_index = False).agg({'age_filter_start':'describe'})"
   ]
  },
  {
   "cell_type": "code",
   "execution_count": 118,
   "id": "cf40d216",
   "metadata": {},
   "outputs": [
    {
     "data": {
      "text/html": [
       "<div>\n",
       "<style scoped>\n",
       "    .dataframe tbody tr th:only-of-type {\n",
       "        vertical-align: middle;\n",
       "    }\n",
       "\n",
       "    .dataframe tbody tr th {\n",
       "        vertical-align: top;\n",
       "    }\n",
       "\n",
       "    .dataframe thead tr th {\n",
       "        text-align: left;\n",
       "    }\n",
       "</style>\n",
       "<table border=\"1\" class=\"dataframe\">\n",
       "  <thead>\n",
       "    <tr>\n",
       "      <th></th>\n",
       "      <th>group</th>\n",
       "      <th colspan=\"8\" halign=\"left\">age_filter_end</th>\n",
       "    </tr>\n",
       "    <tr>\n",
       "      <th></th>\n",
       "      <th></th>\n",
       "      <th>count</th>\n",
       "      <th>mean</th>\n",
       "      <th>std</th>\n",
       "      <th>min</th>\n",
       "      <th>25%</th>\n",
       "      <th>50%</th>\n",
       "      <th>75%</th>\n",
       "      <th>max</th>\n",
       "    </tr>\n",
       "  </thead>\n",
       "  <tbody>\n",
       "    <tr>\n",
       "      <th>0</th>\n",
       "      <td>control_1</td>\n",
       "      <td>4338.0</td>\n",
       "      <td>38.550945</td>\n",
       "      <td>15.224909</td>\n",
       "      <td>19.0</td>\n",
       "      <td>28.0</td>\n",
       "      <td>35.0</td>\n",
       "      <td>45.0</td>\n",
       "      <td>102.0</td>\n",
       "    </tr>\n",
       "    <tr>\n",
       "      <th>1</th>\n",
       "      <td>control_2</td>\n",
       "      <td>4264.0</td>\n",
       "      <td>38.906895</td>\n",
       "      <td>15.955574</td>\n",
       "      <td>19.0</td>\n",
       "      <td>28.0</td>\n",
       "      <td>35.0</td>\n",
       "      <td>45.0</td>\n",
       "      <td>99.0</td>\n",
       "    </tr>\n",
       "    <tr>\n",
       "      <th>2</th>\n",
       "      <td>test</td>\n",
       "      <td>4308.0</td>\n",
       "      <td>38.248839</td>\n",
       "      <td>15.344562</td>\n",
       "      <td>19.0</td>\n",
       "      <td>28.0</td>\n",
       "      <td>35.0</td>\n",
       "      <td>44.0</td>\n",
       "      <td>102.0</td>\n",
       "    </tr>\n",
       "  </tbody>\n",
       "</table>\n",
       "</div>"
      ],
      "text/plain": [
       "       group age_filter_end                                                \\\n",
       "                      count       mean        std   min   25%   50%   75%   \n",
       "0  control_1         4338.0  38.550945  15.224909  19.0  28.0  35.0  45.0   \n",
       "1  control_2         4264.0  38.906895  15.955574  19.0  28.0  35.0  45.0   \n",
       "2       test         4308.0  38.248839  15.344562  19.0  28.0  35.0  44.0   \n",
       "\n",
       "          \n",
       "     max  \n",
       "0  102.0  \n",
       "1   99.0  \n",
       "2  102.0  "
      ]
     },
     "execution_count": 118,
     "metadata": {},
     "output_type": "execute_result"
    }
   ],
   "source": [
    "# по верхней границе запроса возраста\n",
    "users_cor.groupby('group', as_index = False).agg({'age_filter_end':'describe'})"
   ]
  },
  {
   "cell_type": "code",
   "execution_count": 119,
   "id": "ee39ca87",
   "metadata": {},
   "outputs": [],
   "source": [
    "# посмотрим по дням возврата"
   ]
  },
  {
   "cell_type": "code",
   "execution_count": 120,
   "id": "6757d6fa",
   "metadata": {},
   "outputs": [],
   "source": [
    "users_cor['sum_visit_days'] = users_cor.visit_days.apply(lambda x: len(x.split(',')) if x != 'no' else 0)"
   ]
  },
  {
   "cell_type": "code",
   "execution_count": 121,
   "id": "25a2a451",
   "metadata": {},
   "outputs": [
    {
     "data": {
      "text/html": [
       "<div>\n",
       "<style scoped>\n",
       "    .dataframe tbody tr th:only-of-type {\n",
       "        vertical-align: middle;\n",
       "    }\n",
       "\n",
       "    .dataframe tbody tr th {\n",
       "        vertical-align: top;\n",
       "    }\n",
       "\n",
       "    .dataframe thead th {\n",
       "        text-align: right;\n",
       "    }\n",
       "</style>\n",
       "<table border=\"1\" class=\"dataframe\">\n",
       "  <thead>\n",
       "    <tr style=\"text-align: right;\">\n",
       "      <th></th>\n",
       "      <th>count</th>\n",
       "      <th>mean</th>\n",
       "      <th>std</th>\n",
       "      <th>min</th>\n",
       "      <th>25%</th>\n",
       "      <th>50%</th>\n",
       "      <th>75%</th>\n",
       "      <th>max</th>\n",
       "    </tr>\n",
       "    <tr>\n",
       "      <th>group</th>\n",
       "      <th></th>\n",
       "      <th></th>\n",
       "      <th></th>\n",
       "      <th></th>\n",
       "      <th></th>\n",
       "      <th></th>\n",
       "      <th></th>\n",
       "      <th></th>\n",
       "    </tr>\n",
       "  </thead>\n",
       "  <tbody>\n",
       "    <tr>\n",
       "      <th>control_1</th>\n",
       "      <td>4338.0</td>\n",
       "      <td>4.636468</td>\n",
       "      <td>6.305418</td>\n",
       "      <td>0.0</td>\n",
       "      <td>0.0</td>\n",
       "      <td>2.0</td>\n",
       "      <td>7.0</td>\n",
       "      <td>31.0</td>\n",
       "    </tr>\n",
       "    <tr>\n",
       "      <th>control_2</th>\n",
       "      <td>4264.0</td>\n",
       "      <td>4.446060</td>\n",
       "      <td>6.173760</td>\n",
       "      <td>0.0</td>\n",
       "      <td>0.0</td>\n",
       "      <td>2.0</td>\n",
       "      <td>6.0</td>\n",
       "      <td>31.0</td>\n",
       "    </tr>\n",
       "    <tr>\n",
       "      <th>test</th>\n",
       "      <td>4308.0</td>\n",
       "      <td>4.585422</td>\n",
       "      <td>6.185875</td>\n",
       "      <td>0.0</td>\n",
       "      <td>0.0</td>\n",
       "      <td>2.0</td>\n",
       "      <td>7.0</td>\n",
       "      <td>31.0</td>\n",
       "    </tr>\n",
       "  </tbody>\n",
       "</table>\n",
       "</div>"
      ],
      "text/plain": [
       "            count      mean       std  min  25%  50%  75%   max\n",
       "group                                                          \n",
       "control_1  4338.0  4.636468  6.305418  0.0  0.0  2.0  7.0  31.0\n",
       "control_2  4264.0  4.446060  6.173760  0.0  0.0  2.0  6.0  31.0\n",
       "test       4308.0  4.585422  6.185875  0.0  0.0  2.0  7.0  31.0"
      ]
     },
     "execution_count": 121,
     "metadata": {},
     "output_type": "execute_result"
    }
   ],
   "source": [
    "users_cor.groupby('group').sum_visit_days.describe()"
   ]
  },
  {
   "cell_type": "markdown",
   "id": "095b26bd",
   "metadata": {},
   "source": [
    "В итоге распределние по группам достаточно равномерное, без аномалий"
   ]
  },
  {
   "cell_type": "markdown",
   "id": "e614563c",
   "metadata": {},
   "source": [
    "#### проверим FPR с помощью arpu"
   ]
  },
  {
   "cell_type": "code",
   "execution_count": 122,
   "id": "d5aaffe7",
   "metadata": {},
   "outputs": [],
   "source": [
    "# проверим на гомогенность дисперсий , H0 - дисперсии гомогенны"
   ]
  },
  {
   "cell_type": "code",
   "execution_count": 123,
   "id": "5de13004",
   "metadata": {},
   "outputs": [
    {
     "data": {
      "text/plain": [
       "LeveneResult(statistic=0.264043864131449, pvalue=0.6073686801682943)"
      ]
     },
     "execution_count": 123,
     "metadata": {},
     "output_type": "execute_result"
    }
   ],
   "source": [
    "st.levene(arpu_control_1,arpu_control_2)"
   ]
  },
  {
   "cell_type": "code",
   "execution_count": 124,
   "id": "76521e1d",
   "metadata": {},
   "outputs": [],
   "source": [
    "# pvalue значительно выше 0.05 - гипотеза о гомогенности дисперсий не отклоняется"
   ]
  },
  {
   "cell_type": "code",
   "execution_count": 125,
   "id": "ced36272",
   "metadata": {},
   "outputs": [
    {
     "data": {
      "text/plain": [
       "<AxesSubplot:title={'center':'Q-Q Plot'}, xlabel='Theoretical quantiles', ylabel='Ordered quantiles'>"
      ]
     },
     "execution_count": 125,
     "metadata": {},
     "output_type": "execute_result"
    },
    {
     "data": {
      "image/png": "[encoded data removed]",
      "text/plain": [
       "<Figure size 360x288 with 1 Axes>"
      ]
     },
     "metadata": {
      "needs_background": "light"
     },
     "output_type": "display_data"
    }
   ],
   "source": [
    "# посмотрим насколько нормальное распределение - на qqplote и histplot\n",
    "pg.qqplot(arpu_control_1)"
   ]
  },
  {
   "cell_type": "code",
   "execution_count": 126,
   "id": "f4099795",
   "metadata": {},
   "outputs": [
    {
     "data": {
      "text/plain": [
       "<AxesSubplot:title={'center':'Q-Q Plot'}, xlabel='Theoretical quantiles', ylabel='Ordered quantiles'>"
      ]
     },
     "execution_count": 126,
     "metadata": {},
     "output_type": "execute_result"
    },
    {
     "data": {
      "image/png": "[encoded data removed]",
      "text/plain": [
       "<Figure size 360x288 with 1 Axes>"
      ]
     },
     "metadata": {
      "needs_background": "light"
     },
     "output_type": "display_data"
    }
   ],
   "source": [
    "pg.qqplot(arpu_control_2)"
   ]
  },
  {
   "cell_type": "code",
   "execution_count": 127,
   "id": "75b7c41f",
   "metadata": {
    "scrolled": true
   },
   "outputs": [
    {
     "data": {
      "text/plain": [
       "<AxesSubplot:xlabel='revenue', ylabel='Count'>"
      ]
     },
     "execution_count": 127,
     "metadata": {},
     "output_type": "execute_result"
    },
    {
     "data": {
      "image/png": "[encoded data removed]",
      "text/plain": [
       "<Figure size 432x288 with 1 Axes>"
      ]
     },
     "metadata": {
      "needs_background": "light"
     },
     "output_type": "display_data"
    }
   ],
   "source": [
    "sns.histplot(arpu_control_1)"
   ]
  },
  {
   "cell_type": "markdown",
   "id": "9ea2141d",
   "metadata": {},
   "source": [
    "Распреление далеко от нормального, но выборки большие, так что проверим t-testom"
   ]
  },
  {
   "cell_type": "code",
   "execution_count": 128,
   "id": "6bdc986e",
   "metadata": {},
   "outputs": [
    {
     "data": {
      "image/png": "[encoded data removed]",
      "text/plain": [
       "<Figure size 432x288 with 1 Axes>"
      ]
     },
     "metadata": {
      "needs_background": "light"
     },
     "output_type": "display_data"
    },
    {
     "data": {
      "text/plain": [
       "0.032"
      ]
     },
     "execution_count": 128,
     "metadata": {},
     "output_type": "execute_result"
    }
   ],
   "source": [
    "simulations = 1000\n",
    "n_s = 1000\n",
    "res = []\n",
    "\n",
    "# Запуск симуляций A/A теста\n",
    "for i in range(simulations):\n",
    "    s1 = users_cor[users_cor.group == 'control_1']['revenue'].sample(n_s, replace = False).values\n",
    "    s2 = users_cor[users_cor.group == 'control_2']['revenue'].sample(n_s, replace = False).values\n",
    "    res.append(st.ttest_ind(s1, s2)[1]) # сохраняем pvalue\n",
    "\n",
    "plt.hist(res, bins = 50)\n",
    "plt.style.use('ggplot')\n",
    "plt.xlabel('pvalues')\n",
    "plt.ylabel('frequency')\n",
    "plt.title(\"Histogram of ttest A/A simulations \")\n",
    "plt.show()\n",
    "\n",
    "# Проверяем, что количество ложноположительных случаев не превышает альфа\n",
    "sum(np.array(res) < 0.05) / simulations"
   ]
  },
  {
   "cell_type": "markdown",
   "id": "4b2cd3a0",
   "metadata": {},
   "source": [
    "FPR < 0.05 - сплитовалка работает корректно"
   ]
  },
  {
   "cell_type": "markdown",
   "id": "1023c92b",
   "metadata": {},
   "source": [
    "Проверим распределения на всякий случай через манна уитни (arpu ты таким образом не проверим, но проверим что распределение признака (revenue) в первой выборке соответствует распределению признака во второй выборке)"
   ]
  },
  {
   "cell_type": "code",
   "execution_count": 129,
   "id": "2fa27f47",
   "metadata": {},
   "outputs": [
    {
     "data": {
      "image/png": "[encoded data removed]",
      "text/plain": [
       "<Figure size 432x288 with 1 Axes>"
      ]
     },
     "metadata": {},
     "output_type": "display_data"
    },
    {
     "data": {
      "text/plain": [
       "0.022"
      ]
     },
     "execution_count": 129,
     "metadata": {},
     "output_type": "execute_result"
    }
   ],
   "source": [
    "simulations = 1000\n",
    "n_s = 1000\n",
    "res = []\n",
    "for i in range(simulations):\n",
    "    s1 = users_cor[users_cor.group == 'control_1']['revenue'].sample(n_s, replace = False).values\n",
    "    s2 = users_cor[users_cor.group == 'control_2']['revenue'].sample(n_s, replace = False).values\n",
    "    res.append(st.mannwhitneyu(s1, s2)[1]) # сохраняем pvalue\n",
    "\n",
    "plt.hist(res, bins = 50)\n",
    "plt.style.use('ggplot')\n",
    "plt.xlabel('pvalues')\n",
    "plt.ylabel('frequency')\n",
    "plt.title(\"Histogram of ttest A/A simulations \")\n",
    "plt.show()\n",
    "\n",
    "# Проверяем, что количество ложноположительных случаев не превышает альфа\n",
    "sum(np.array(res) < 0.05) / simulations"
   ]
  },
  {
   "cell_type": "markdown",
   "id": "d300b4ae",
   "metadata": {},
   "source": [
    "FPR < 0.05 - сплитовалка работает корректно"
   ]
  },
  {
   "cell_type": "markdown",
   "id": "d59c0170",
   "metadata": {},
   "source": [
    "### A-B тестирование"
   ]
  },
  {
   "cell_type": "markdown",
   "id": "e1a7562a",
   "metadata": {},
   "source": [
    "#### arpu"
   ]
  },
  {
   "cell_type": "code",
   "execution_count": 130,
   "id": "e163e882",
   "metadata": {},
   "outputs": [],
   "source": [
    "# сравним изменение в arpu  - изменилась ли прибыль с пользователя?"
   ]
  },
  {
   "cell_type": "code",
   "execution_count": 131,
   "id": "5f3761c5",
   "metadata": {},
   "outputs": [],
   "source": [
    "# проверим гомогенность дисперсий, H0 - дисперсии гомогенны"
   ]
  },
  {
   "cell_type": "code",
   "execution_count": 132,
   "id": "fe330608",
   "metadata": {},
   "outputs": [
    {
     "data": {
      "text/plain": [
       "LeveneResult(statistic=0.5455590139624976, pvalue=0.46015803156975277)"
      ]
     },
     "execution_count": 132,
     "metadata": {},
     "output_type": "execute_result"
    }
   ],
   "source": [
    "st.levene(arpu_test,arpu_control_1)"
   ]
  },
  {
   "cell_type": "code",
   "execution_count": 133,
   "id": "faffc629",
   "metadata": {},
   "outputs": [],
   "source": [
    "# HO гипотеза не отклоняется, диспресии гомогенны"
   ]
  },
  {
   "cell_type": "markdown",
   "id": "cf6e4a5d",
   "metadata": {},
   "source": [
    "Насколько помним из A - А теста есть вопросы к нормлаьности распределния arpu, поэтому в данном случае воспользуемся Бутстрапом (нет такой нагрузки по итерациям как в A-A тесте)"
   ]
  },
  {
   "cell_type": "code",
   "execution_count": 134,
   "id": "e24bcd07",
   "metadata": {},
   "outputs": [],
   "source": [
    "# добавим функцию бутстрапа"
   ]
  },
  {
   "cell_type": "code",
   "execution_count": 135,
   "id": "b20a6f94",
   "metadata": {},
   "outputs": [],
   "source": [
    "def get_bootstrap(\n",
    "    data_column_1,\n",
    "    data_column_2,\n",
    "    boot_it = 1000,\n",
    "    statistic = np.mean, \n",
    "    bootstrap_conf_level = 0.95\n",
    "):\n",
    "    \"\"\"\n",
    "    Возвращает 'p_value', 'ci' - доверительный интервал,'boot_data'- статистику разницы на каждой иттерации.\n",
    "    :param data_column_1: числовые значения первой выборки\n",
    "    :param data_column_1: числовые значения второй выборки\n",
    "    :param boot_it: количество бутстрэп-подвыборок, по умолчанию 1000 \n",
    "    :param statistic: интересующая нас статистика, по умолчанию mean\n",
    "    :param bootstrap_conf_level: уровень значимости, по умолчанию 0.95\n",
    "\n",
    "    \"\"\"\n",
    "    boot_len = max([len(data_column_1), len(data_column_2)])\n",
    "    boot_data = []\n",
    "    for i in tqdm(range(boot_it)): # извлекаем подвыборки\n",
    "        samples_1 = data_column_1.sample( boot_len, replace = True).values\n",
    "        \n",
    "        samples_2 = data_column_2.sample( boot_len, replace = True).values\n",
    "        \n",
    "        boot_data.append(statistic(samples_1-samples_2)) # mean() - применяем статистику\n",
    "        \n",
    "    pd_boot_data = pd.DataFrame(boot_data)\n",
    "        \n",
    "    left_quant = (1 - bootstrap_conf_level)/2\n",
    "    right_quant = 1 - (1 - bootstrap_conf_level) / 2\n",
    "    ci = pd_boot_data.quantile([left_quant, right_quant])\n",
    "        \n",
    "    p_value = min(sum(pd_boot_data[0] < 0), sum(pd_boot_data[0] > 0)) * 2 / len(pd_boot_data[0])\n",
    "        \n",
    "    # Визуализация\n",
    "    plt.hist(pd_boot_data[0], bins = 50)\n",
    "    \n",
    "    plt.style.use('ggplot')\n",
    "    plt.vlines(ci,ymin=0,ymax=50,linestyle='--')\n",
    "    plt.xlabel('boot_data')\n",
    "    plt.ylabel('frequency')\n",
    "    plt.title(\"Histogram of boot_data\")\n",
    "    plt.show()\n",
    "       \n",
    "    return {\"boot_data\": boot_data, \n",
    "            \"ci\": ci, \n",
    "            \"p_value\": p_value}"
   ]
  },
  {
   "cell_type": "code",
   "execution_count": 136,
   "id": "2439817f",
   "metadata": {},
   "outputs": [
    {
     "name": "stdout",
     "output_type": "stream",
     "text": [
      "Help on function get_bootstrap in module __main__:\n",
      "\n",
      "get_bootstrap(data_column_1, data_column_2, boot_it=1000, statistic=<function mean at 0x7f87c303fd30>, bootstrap_conf_level=0.95)\n",
      "    Возвращает 'p_value', 'ci' - доверительный интервал,'boot_data'- статистику разницы на каждой иттерации.\n",
      "    :param data_column_1: числовые значения первой выборки\n",
      "    :param data_column_1: числовые значения второй выборки\n",
      "    :param boot_it: количество бутстрэп-подвыборок, по умолчанию 1000 \n",
      "    :param statistic: интересующая нас статистика, по умолчанию mean\n",
      "    :param bootstrap_conf_level: уровень значимости, по умолчанию 0.95\n",
      "\n"
     ]
    }
   ],
   "source": [
    "help(get_bootstrap)"
   ]
  },
  {
   "cell_type": "markdown",
   "id": "2845b343",
   "metadata": {},
   "source": [
    "Проверим гипотезу о разности средних бустрапом:\n",
    "1. H0 гипотеза - средние выборок стат.значимо не отличаются\n",
    "2. H1 - средние стат.значимо отличаюся"
   ]
  },
  {
   "cell_type": "code",
   "execution_count": 137,
   "id": "4e8ba80f",
   "metadata": {
    "scrolled": true
   },
   "outputs": [
    {
     "data": {
      "application/vnd.jupyter.widget-view+json": {
       "model_id": "3683e22f03de472182dddd384991a611",
       "version_major": 2,
       "version_minor": 0
      },
      "text/plain": [
       "  0%|          | 0/1000 [00:00<?, ?it/s]"
      ]
     },
     "metadata": {},
     "output_type": "display_data"
    },
    {
     "data": {
      "image/png": "[encoded data removed]",
      "text/plain": [
       "<Figure size 432x288 with 1 Axes>"
      ]
     },
     "metadata": {},
     "output_type": "display_data"
    }
   ],
   "source": [
    "arpu_1 = get_bootstrap(arpu_test,arpu_control_1,statistic = np.mean)"
   ]
  },
  {
   "cell_type": "code",
   "execution_count": 138,
   "id": "4295485d",
   "metadata": {},
   "outputs": [
    {
     "data": {
      "text/plain": [
       "0.43"
      ]
     },
     "execution_count": 138,
     "metadata": {},
     "output_type": "execute_result"
    }
   ],
   "source": [
    "arpu_1['p_value']"
   ]
  },
  {
   "cell_type": "code",
   "execution_count": 139,
   "id": "bac61478",
   "metadata": {},
   "outputs": [
    {
     "data": {
      "text/html": [
       "<div>\n",
       "<style scoped>\n",
       "    .dataframe tbody tr th:only-of-type {\n",
       "        vertical-align: middle;\n",
       "    }\n",
       "\n",
       "    .dataframe tbody tr th {\n",
       "        vertical-align: top;\n",
       "    }\n",
       "\n",
       "    .dataframe thead th {\n",
       "        text-align: right;\n",
       "    }\n",
       "</style>\n",
       "<table border=\"1\" class=\"dataframe\">\n",
       "  <thead>\n",
       "    <tr style=\"text-align: right;\">\n",
       "      <th></th>\n",
       "      <th>0</th>\n",
       "    </tr>\n",
       "  </thead>\n",
       "  <tbody>\n",
       "    <tr>\n",
       "      <th>0.025</th>\n",
       "      <td>-91.907198</td>\n",
       "    </tr>\n",
       "    <tr>\n",
       "      <th>0.975</th>\n",
       "      <td>227.532590</td>\n",
       "    </tr>\n",
       "  </tbody>\n",
       "</table>\n",
       "</div>"
      ],
      "text/plain": [
       "                0\n",
       "0.025  -91.907198\n",
       "0.975  227.532590"
      ]
     },
     "execution_count": 139,
     "metadata": {},
     "output_type": "execute_result"
    }
   ],
   "source": [
    "arpu_1[\"ci\"]"
   ]
  },
  {
   "cell_type": "code",
   "execution_count": 140,
   "id": "9c3bceef",
   "metadata": {},
   "outputs": [
    {
     "data": {
      "application/vnd.jupyter.widget-view+json": {
       "model_id": "31cb95dc8f3244cdb500af256e5f4b35",
       "version_major": 2,
       "version_minor": 0
      },
      "text/plain": [
       "  0%|          | 0/1000 [00:00<?, ?it/s]"
      ]
     },
     "metadata": {},
     "output_type": "display_data"
    },
    {
     "data": {
      "image/png": "[encoded data removed]",
      "text/plain": [
       "<Figure size 432x288 with 1 Axes>"
      ]
     },
     "metadata": {},
     "output_type": "display_data"
    }
   ],
   "source": [
    "arpu_2 = get_bootstrap(arpu_test,arpu_control_2,statistic = np.mean)"
   ]
  },
  {
   "cell_type": "code",
   "execution_count": 141,
   "id": "250e4648",
   "metadata": {},
   "outputs": [
    {
     "data": {
      "text/plain": [
       "0.228"
      ]
     },
     "execution_count": 141,
     "metadata": {},
     "output_type": "execute_result"
    }
   ],
   "source": [
    "arpu_2['p_value']"
   ]
  },
  {
   "cell_type": "code",
   "execution_count": 142,
   "id": "ac13172d",
   "metadata": {},
   "outputs": [
    {
     "data": {
      "text/html": [
       "<div>\n",
       "<style scoped>\n",
       "    .dataframe tbody tr th:only-of-type {\n",
       "        vertical-align: middle;\n",
       "    }\n",
       "\n",
       "    .dataframe tbody tr th {\n",
       "        vertical-align: top;\n",
       "    }\n",
       "\n",
       "    .dataframe thead th {\n",
       "        text-align: right;\n",
       "    }\n",
       "</style>\n",
       "<table border=\"1\" class=\"dataframe\">\n",
       "  <thead>\n",
       "    <tr style=\"text-align: right;\">\n",
       "      <th></th>\n",
       "      <th>0</th>\n",
       "    </tr>\n",
       "  </thead>\n",
       "  <tbody>\n",
       "    <tr>\n",
       "      <th>0.025</th>\n",
       "      <td>-47.416504</td>\n",
       "    </tr>\n",
       "    <tr>\n",
       "      <th>0.975</th>\n",
       "      <td>249.557602</td>\n",
       "    </tr>\n",
       "  </tbody>\n",
       "</table>\n",
       "</div>"
      ],
      "text/plain": [
       "                0\n",
       "0.025  -47.416504\n",
       "0.975  249.557602"
      ]
     },
     "execution_count": 142,
     "metadata": {},
     "output_type": "execute_result"
    }
   ],
   "source": [
    "arpu_2[\"ci\"]"
   ]
  },
  {
   "cell_type": "code",
   "execution_count": 143,
   "id": "f8627237",
   "metadata": {},
   "outputs": [
    {
     "name": "stdout",
     "output_type": "stream",
     "text": [
      "H0 гипотеза о том что средние не отличаются, не отклоняется\n"
     ]
    }
   ],
   "source": [
    "if arpu_1['p_value'] > 0.05:\n",
    "    print('H0 гипотеза о том что средние не отличаются, не отклоняется')\n",
    "else: print('H0 гипотеза о том что средние не отличаются, отклоняется')"
   ]
  },
  {
   "cell_type": "code",
   "execution_count": 144,
   "id": "164727d1",
   "metadata": {},
   "outputs": [],
   "source": [
    "# посмотрим на всякий случай какие результаты дает t-test"
   ]
  },
  {
   "cell_type": "code",
   "execution_count": 145,
   "id": "9720af97",
   "metadata": {},
   "outputs": [
    {
     "data": {
      "text/plain": [
       "Ttest_indResult(statistic=0.7386196680041072, pvalue=0.46015803157161606)"
      ]
     },
     "execution_count": 145,
     "metadata": {},
     "output_type": "execute_result"
    }
   ],
   "source": [
    "st.ttest_ind(arpu_test,arpu_control_1)"
   ]
  },
  {
   "cell_type": "code",
   "execution_count": 146,
   "id": "c74c2038",
   "metadata": {},
   "outputs": [
    {
     "data": {
      "text/plain": [
       "Ttest_indResult(statistic=1.1580726915361812, pvalue=0.24686664502584993)"
      ]
     },
     "execution_count": 146,
     "metadata": {},
     "output_type": "execute_result"
    }
   ],
   "source": [
    "st.ttest_ind(arpu_test,arpu_control_2)"
   ]
  },
  {
   "cell_type": "code",
   "execution_count": 147,
   "id": "a912800c",
   "metadata": {},
   "outputs": [],
   "source": [
    "# t-test выдает похожие результаты"
   ]
  },
  {
   "cell_type": "markdown",
   "id": "2e1e5660",
   "metadata": {},
   "source": [
    "Статистически значимых различий в ARPU не обнаружено"
   ]
  },
  {
   "cell_type": "markdown",
   "id": "229d2fb6",
   "metadata": {},
   "source": [
    "#### arppu"
   ]
  },
  {
   "cell_type": "code",
   "execution_count": 148,
   "id": "c79c4beb",
   "metadata": {},
   "outputs": [],
   "source": [
    "# Cравним изменение в ARPPU  - изменилась ли прибыль с платящего пользователя?"
   ]
  },
  {
   "cell_type": "code",
   "execution_count": 149,
   "id": "7d4926f2",
   "metadata": {},
   "outputs": [],
   "source": [
    "# проверим гомогенность дисперсий, H0 - дисперсии гомогенны"
   ]
  },
  {
   "cell_type": "code",
   "execution_count": 150,
   "id": "04215725",
   "metadata": {},
   "outputs": [
    {
     "data": {
      "text/plain": [
       "LeveneResult(statistic=4.918069769875995, pvalue=0.027247716386937706)"
      ]
     },
     "execution_count": 150,
     "metadata": {},
     "output_type": "execute_result"
    }
   ],
   "source": [
    "st.levene(arppu_test,arppu_control_1)"
   ]
  },
  {
   "cell_type": "code",
   "execution_count": 151,
   "id": "84648ba2",
   "metadata": {},
   "outputs": [],
   "source": [
    "# p_value < 0.05 HO гипотеза отклоняется, дисперсии не гомогенны"
   ]
  },
  {
   "cell_type": "code",
   "execution_count": 152,
   "id": "e446b40c",
   "metadata": {},
   "outputs": [],
   "source": [
    "# посмотрим боксплот"
   ]
  },
  {
   "cell_type": "code",
   "execution_count": 153,
   "id": "8c3dfbdd",
   "metadata": {},
   "outputs": [
    {
     "data": {
      "text/plain": [
       "<AxesSubplot:xlabel='group', ylabel='revenue'>"
      ]
     },
     "execution_count": 153,
     "metadata": {},
     "output_type": "execute_result"
    },
    {
     "data": {
      "image/png": "[encoded data removed]",
      "text/plain": [
       "<Figure size 1080x576 with 1 Axes>"
      ]
     },
     "metadata": {},
     "output_type": "display_data"
    }
   ],
   "source": [
    "plt.figure(figsize=(15,8))\n",
    "sns.boxplot(data = users_cor.query('revenue > 0') , x = 'group', y = 'revenue')"
   ]
  },
  {
   "cell_type": "code",
   "execution_count": 154,
   "id": "6dcf288b",
   "metadata": {},
   "outputs": [],
   "source": [
    "# есть много выбросов"
   ]
  },
  {
   "cell_type": "code",
   "execution_count": 155,
   "id": "ab9b49af",
   "metadata": {},
   "outputs": [
    {
     "data": {
      "text/plain": [
       "<AxesSubplot:title={'center':'Q-Q Plot'}, xlabel='Theoretical quantiles', ylabel='Ordered quantiles'>"
      ]
     },
     "execution_count": 155,
     "metadata": {},
     "output_type": "execute_result"
    },
    {
     "data": {
      "image/png": "[encoded data removed]",
      "text/plain": [
       "<Figure size 360x288 with 1 Axes>"
      ]
     },
     "metadata": {},
     "output_type": "display_data"
    },
    {
     "data": {
      "image/png": "[encoded data removed]",
      "text/plain": [
       "<Figure size 360x288 with 1 Axes>"
      ]
     },
     "metadata": {},
     "output_type": "display_data"
    },
    {
     "data": {
      "image/png": "[encoded data removed]",
      "text/plain": [
       "<Figure size 360x288 with 1 Axes>"
      ]
     },
     "metadata": {},
     "output_type": "display_data"
    }
   ],
   "source": [
    "# Посмотрим QQ plot\n",
    "pg.qqplot(arppu_test)\n",
    "pg.qqplot(arppu_control_1)\n",
    "pg.qqplot(arppu_control_2)"
   ]
  },
  {
   "cell_type": "markdown",
   "id": "991e3d25",
   "metadata": {},
   "source": [
    "Распределния не нормально"
   ]
  },
  {
   "cell_type": "markdown",
   "id": "e0cb0947",
   "metadata": {},
   "source": [
    "Проверим гипотезу о разности средних бустрапом:\n",
    "1. HO гипотеза - средние выборок стат.значимо не отличаются\n",
    "2. H1 - средние стат.значимо отличаюся"
   ]
  },
  {
   "cell_type": "code",
   "execution_count": 156,
   "id": "99d2e6cc",
   "metadata": {},
   "outputs": [
    {
     "data": {
      "application/vnd.jupyter.widget-view+json": {
       "model_id": "82e962b41de44d14bb3dacfac164fc2b",
       "version_major": 2,
       "version_minor": 0
      },
      "text/plain": [
       "  0%|          | 0/1000 [00:00<?, ?it/s]"
      ]
     },
     "metadata": {},
     "output_type": "display_data"
    },
    {
     "data": {
      "image/png": "[encoded data removed]",
      "text/plain": [
       "<Figure size 432x288 with 1 Axes>"
      ]
     },
     "metadata": {},
     "output_type": "display_data"
    }
   ],
   "source": [
    "arppu_boot_1 = get_bootstrap(arppu_test,arppu_control_1,statistic = np.mean)"
   ]
  },
  {
   "cell_type": "code",
   "execution_count": 157,
   "id": "439368a0",
   "metadata": {},
   "outputs": [
    {
     "data": {
      "text/plain": [
       "0.0"
      ]
     },
     "execution_count": 157,
     "metadata": {},
     "output_type": "execute_result"
    }
   ],
   "source": [
    "arppu_boot_1['p_value']"
   ]
  },
  {
   "cell_type": "code",
   "execution_count": 158,
   "id": "1e171e7a",
   "metadata": {},
   "outputs": [
    {
     "data": {
      "application/vnd.jupyter.widget-view+json": {
       "model_id": "e5e92849ac6e46ca9ba52b899615560e",
       "version_major": 2,
       "version_minor": 0
      },
      "text/plain": [
       "  0%|          | 0/1000 [00:00<?, ?it/s]"
      ]
     },
     "metadata": {},
     "output_type": "display_data"
    },
    {
     "data": {
      "image/png": "[encoded data removed]",
      "text/plain": [
       "<Figure size 432x288 with 1 Axes>"
      ]
     },
     "metadata": {},
     "output_type": "display_data"
    }
   ],
   "source": [
    "arppu_boot_2 = get_bootstrap(arppu_test,arppu_control_2,statistic = np.mean)"
   ]
  },
  {
   "cell_type": "code",
   "execution_count": 159,
   "id": "4400856d",
   "metadata": {},
   "outputs": [
    {
     "data": {
      "text/plain": [
       "0.0"
      ]
     },
     "execution_count": 159,
     "metadata": {},
     "output_type": "execute_result"
    }
   ],
   "source": [
    "arppu_boot_2['p_value']"
   ]
  },
  {
   "cell_type": "markdown",
   "id": "edd5515e",
   "metadata": {},
   "source": [
    "P-value < 0.05, H0 гипотеза отклоняется, средние статистически значимо отличаются"
   ]
  },
  {
   "cell_type": "code",
   "execution_count": 160,
   "id": "b5a379bc",
   "metadata": {},
   "outputs": [],
   "source": [
    "# Welch’s t-test нам выдает тот же результат"
   ]
  },
  {
   "cell_type": "code",
   "execution_count": 161,
   "id": "413fcac4",
   "metadata": {},
   "outputs": [
    {
     "data": {
      "text/plain": [
       "Ttest_indResult(statistic=3.0176330923125416, pvalue=0.00286174302219838)"
      ]
     },
     "execution_count": 161,
     "metadata": {},
     "output_type": "execute_result"
    }
   ],
   "source": [
    "st.ttest_ind(arppu_test,arppu_control_1,equal_var=False)"
   ]
  },
  {
   "cell_type": "code",
   "execution_count": 162,
   "id": "695f21f9",
   "metadata": {},
   "outputs": [
    {
     "data": {
      "text/plain": [
       "Ttest_indResult(statistic=3.4751078874493047, pvalue=0.0006240521787390326)"
      ]
     },
     "execution_count": 162,
     "metadata": {},
     "output_type": "execute_result"
    }
   ],
   "source": [
    "st.ttest_ind(arppu_test,arppu_control_2,equal_var=False)"
   ]
  },
  {
   "cell_type": "markdown",
   "id": "77ab1cb8",
   "metadata": {},
   "source": [
    "Обнаружены статистически значимые различия в ARRPU между тестовой и контрольными группами"
   ]
  },
  {
   "cell_type": "markdown",
   "id": "40cb9dce",
   "metadata": {},
   "source": [
    "#### конверсия"
   ]
  },
  {
   "cell_type": "markdown",
   "id": "e03c61c2",
   "metadata": {},
   "source": [
    "Проверим конверсию в покупку премиума и вообще в любую покупку"
   ]
  },
  {
   "cell_type": "markdown",
   "id": "f0352408",
   "metadata": {},
   "source": [
    "В данном случае у нас номитнативные переменные - воспользуемся методом Xu - квадратом:\n",
    "1. H0 - частоты согласованы, фактические данные не противоречат ожидаемым\n",
    "2. H1 - отклонения в частотах выходят за рамки случайных колебаний, расхождения статистически значимы\n"
   ]
  },
  {
   "cell_type": "code",
   "execution_count": 163,
   "id": "a15a9783",
   "metadata": {},
   "outputs": [],
   "source": [
    "# для этого сделаем необходимый датасет"
   ]
  },
  {
   "cell_type": "code",
   "execution_count": 164,
   "id": "bd5a3aba",
   "metadata": {},
   "outputs": [
    {
     "data": {
      "text/html": [
       "<div>\n",
       "<style scoped>\n",
       "    .dataframe tbody tr th:only-of-type {\n",
       "        vertical-align: middle;\n",
       "    }\n",
       "\n",
       "    .dataframe tbody tr th {\n",
       "        vertical-align: top;\n",
       "    }\n",
       "\n",
       "    .dataframe thead th {\n",
       "        text-align: right;\n",
       "    }\n",
       "</style>\n",
       "<table border=\"1\" class=\"dataframe\">\n",
       "  <thead>\n",
       "    <tr style=\"text-align: right;\">\n",
       "      <th>group</th>\n",
       "      <th>control_1</th>\n",
       "      <th>control_2</th>\n",
       "      <th>test</th>\n",
       "    </tr>\n",
       "    <tr>\n",
       "      <th>premium_no_trial</th>\n",
       "      <th></th>\n",
       "      <th></th>\n",
       "      <th></th>\n",
       "    </tr>\n",
       "  </thead>\n",
       "  <tbody>\n",
       "    <tr>\n",
       "      <th>False</th>\n",
       "      <td>4240</td>\n",
       "      <td>4162</td>\n",
       "      <td>4241</td>\n",
       "    </tr>\n",
       "    <tr>\n",
       "      <th>True</th>\n",
       "      <td>98</td>\n",
       "      <td>102</td>\n",
       "      <td>67</td>\n",
       "    </tr>\n",
       "  </tbody>\n",
       "</table>\n",
       "</div>"
      ],
      "text/plain": [
       "group             control_1  control_2  test\n",
       "premium_no_trial                            \n",
       "False                  4240       4162  4241\n",
       "True                     98        102    67"
      ]
     },
     "execution_count": 164,
     "metadata": {},
     "output_type": "execute_result"
    }
   ],
   "source": [
    "conv_prem = pd.crosstab(users_cor.premium_no_trial,users_cor.group)\n",
    "conv_prem"
   ]
  },
  {
   "cell_type": "code",
   "execution_count": 165,
   "id": "eb6f2bbb",
   "metadata": {},
   "outputs": [],
   "source": [
    "stat, p, dof, expected = st.chi2_contingency(conv_prem)"
   ]
  },
  {
   "cell_type": "code",
   "execution_count": 166,
   "id": "81a3bec9",
   "metadata": {},
   "outputs": [
    {
     "data": {
      "text/plain": [
       "0.013663109149335195"
      ]
     },
     "execution_count": 166,
     "metadata": {},
     "output_type": "execute_result"
    }
   ],
   "source": [
    "p"
   ]
  },
  {
   "cell_type": "markdown",
   "id": "2a61ace0",
   "metadata": {},
   "source": [
    "Отклоняем нулевую гипотезу, расхождения статистически значимы в покупке премиума"
   ]
  },
  {
   "cell_type": "code",
   "execution_count": 167,
   "id": "8cde4a7e",
   "metadata": {},
   "outputs": [
    {
     "data": {
      "text/plain": [
       "group\n",
       "control_1    0.022591\n",
       "control_2    0.023921\n",
       "test         0.015552\n",
       "Name: premium_no_trial, dtype: float64"
      ]
     },
     "execution_count": 167,
     "metadata": {},
     "output_type": "execute_result"
    }
   ],
   "source": [
    "users_cor.groupby('group').premium_no_trial.mean()"
   ]
  },
  {
   "cell_type": "markdown",
   "id": "ce21f682",
   "metadata": {},
   "source": [
    "В тестовой группе конверсия в премиум значимо ниже"
   ]
  },
  {
   "cell_type": "code",
   "execution_count": 168,
   "id": "f11f2577",
   "metadata": {},
   "outputs": [],
   "source": [
    "# проведем похожую проверку для конверсии в любую покупку"
   ]
  },
  {
   "cell_type": "code",
   "execution_count": 169,
   "id": "68717bc2",
   "metadata": {},
   "outputs": [
    {
     "data": {
      "text/html": [
       "<div>\n",
       "<style scoped>\n",
       "    .dataframe tbody tr th:only-of-type {\n",
       "        vertical-align: middle;\n",
       "    }\n",
       "\n",
       "    .dataframe tbody tr th {\n",
       "        vertical-align: top;\n",
       "    }\n",
       "\n",
       "    .dataframe thead th {\n",
       "        text-align: right;\n",
       "    }\n",
       "</style>\n",
       "<table border=\"1\" class=\"dataframe\">\n",
       "  <thead>\n",
       "    <tr style=\"text-align: right;\">\n",
       "      <th>group</th>\n",
       "      <th>control_1</th>\n",
       "      <th>control_2</th>\n",
       "      <th>test</th>\n",
       "    </tr>\n",
       "    <tr>\n",
       "      <th>purchaser</th>\n",
       "      <th></th>\n",
       "      <th></th>\n",
       "      <th></th>\n",
       "    </tr>\n",
       "  </thead>\n",
       "  <tbody>\n",
       "    <tr>\n",
       "      <th>False</th>\n",
       "      <td>4147</td>\n",
       "      <td>4077</td>\n",
       "      <td>4162</td>\n",
       "    </tr>\n",
       "    <tr>\n",
       "      <th>True</th>\n",
       "      <td>191</td>\n",
       "      <td>187</td>\n",
       "      <td>146</td>\n",
       "    </tr>\n",
       "  </tbody>\n",
       "</table>\n",
       "</div>"
      ],
      "text/plain": [
       "group      control_1  control_2  test\n",
       "purchaser                            \n",
       "False           4147       4077  4162\n",
       "True             191        187   146"
      ]
     },
     "execution_count": 169,
     "metadata": {},
     "output_type": "execute_result"
    }
   ],
   "source": [
    "conv_purch = pd.crosstab(users_cor.purchaser,users_cor.group)\n",
    "conv_purch"
   ]
  },
  {
   "cell_type": "code",
   "execution_count": 170,
   "id": "fa91dd91",
   "metadata": {},
   "outputs": [],
   "source": [
    "stat, p, dof, expected = st.chi2_contingency(conv_purch)"
   ]
  },
  {
   "cell_type": "code",
   "execution_count": 171,
   "id": "54c42526",
   "metadata": {},
   "outputs": [
    {
     "data": {
      "text/plain": [
       "0.02410129962606572"
      ]
     },
     "execution_count": 171,
     "metadata": {},
     "output_type": "execute_result"
    }
   ],
   "source": [
    "p"
   ]
  },
  {
   "cell_type": "markdown",
   "id": "93851962",
   "metadata": {},
   "source": [
    "Отклоняем нулевую гипотезу, расхождения статистически значимы в покупке"
   ]
  },
  {
   "cell_type": "code",
   "execution_count": 172,
   "id": "57cab146",
   "metadata": {},
   "outputs": [
    {
     "data": {
      "text/plain": [
       "group\n",
       "control_1    0.044030\n",
       "control_2    0.043856\n",
       "test         0.033890\n",
       "Name: purchaser, dtype: float64"
      ]
     },
     "execution_count": 172,
     "metadata": {},
     "output_type": "execute_result"
    }
   ],
   "source": [
    "users_cor.groupby('group').purchaser.mean()"
   ]
  },
  {
   "cell_type": "markdown",
   "id": "94f19462",
   "metadata": {},
   "source": [
    "В тестовой группе конверсия в покупку значимо ниже"
   ]
  },
  {
   "cell_type": "code",
   "execution_count": 173,
   "id": "1a069bae",
   "metadata": {},
   "outputs": [],
   "source": [
    "# есть ли изменения в конверсии в триал-премиум, который не изменился в цене?"
   ]
  },
  {
   "cell_type": "code",
   "execution_count": 174,
   "id": "98a16fee",
   "metadata": {},
   "outputs": [
    {
     "data": {
      "text/html": [
       "<div>\n",
       "<style scoped>\n",
       "    .dataframe tbody tr th:only-of-type {\n",
       "        vertical-align: middle;\n",
       "    }\n",
       "\n",
       "    .dataframe tbody tr th {\n",
       "        vertical-align: top;\n",
       "    }\n",
       "\n",
       "    .dataframe thead th {\n",
       "        text-align: right;\n",
       "    }\n",
       "</style>\n",
       "<table border=\"1\" class=\"dataframe\">\n",
       "  <thead>\n",
       "    <tr style=\"text-align: right;\">\n",
       "      <th>group</th>\n",
       "      <th>control_1</th>\n",
       "      <th>control_2</th>\n",
       "      <th>test</th>\n",
       "    </tr>\n",
       "    <tr>\n",
       "      <th>trial_premium</th>\n",
       "      <th></th>\n",
       "      <th></th>\n",
       "      <th></th>\n",
       "    </tr>\n",
       "  </thead>\n",
       "  <tbody>\n",
       "    <tr>\n",
       "      <th>False</th>\n",
       "      <td>4271</td>\n",
       "      <td>4211</td>\n",
       "      <td>4247</td>\n",
       "    </tr>\n",
       "    <tr>\n",
       "      <th>True</th>\n",
       "      <td>67</td>\n",
       "      <td>53</td>\n",
       "      <td>61</td>\n",
       "    </tr>\n",
       "  </tbody>\n",
       "</table>\n",
       "</div>"
      ],
      "text/plain": [
       "group          control_1  control_2  test\n",
       "trial_premium                            \n",
       "False               4271       4211  4247\n",
       "True                  67         53    61"
      ]
     },
     "execution_count": 174,
     "metadata": {},
     "output_type": "execute_result"
    }
   ],
   "source": [
    "conv_trial = pd.crosstab(users_cor.trial_premium,users_cor.group)\n",
    "conv_trial"
   ]
  },
  {
   "cell_type": "code",
   "execution_count": 175,
   "id": "d78568e6",
   "metadata": {},
   "outputs": [],
   "source": [
    "stat, p, dof, expected = st.chi2_contingency(conv_trial)"
   ]
  },
  {
   "cell_type": "code",
   "execution_count": 176,
   "id": "c91b4b8f",
   "metadata": {},
   "outputs": [
    {
     "data": {
      "text/plain": [
       "0.4908102300892675"
      ]
     },
     "execution_count": 176,
     "metadata": {},
     "output_type": "execute_result"
    }
   ],
   "source": [
    "p"
   ]
  },
  {
   "cell_type": "markdown",
   "id": "6fd29180",
   "metadata": {},
   "source": [
    "В конверсии в покупки триал-премиума, значимых различий нет"
   ]
  },
  {
   "cell_type": "markdown",
   "id": "200ab613",
   "metadata": {},
   "source": [
    "В итоге у нас, в тестовой группе значимое уменьшение конверсии в премиум, но при этом есть значимое увеличение ARPPU и как итог ARPU значимо не изменился."
   ]
  },
  {
   "cell_type": "markdown",
   "id": "a872ac6c",
   "metadata": {},
   "source": [
    "Предварительный вывод говорит, что разворачивать обновление на всю группу не имеет смысла. Проверим имеет ли смысл нововедение среди конкретных подгрупп пользователей"
   ]
  },
  {
   "cell_type": "markdown",
   "id": "3054dc4e",
   "metadata": {},
   "source": [
    "### Разделение пользователей на группы и тестирование на отдельных группах"
   ]
  },
  {
   "cell_type": "markdown",
   "id": "ec6e9336",
   "metadata": {},
   "source": [
    "Буду делить переменные которые на мой взгляд могут влиять на целевое действие (покупка премиума) на погруппы,\n",
    "смотреть конверсию, проверять стат. значимость в различии конверсии между тестовой и контрольной группами в рамках\n",
    "подгрупп. Если какие то подгруппы выделяются от общей тенденции, также буду смотреть разницу в arpu."
   ]
  },
  {
   "cell_type": "markdown",
   "id": "bd0828b8",
   "metadata": {},
   "source": [
    "#### Начнем с возраста"
   ]
  },
  {
   "cell_type": "code",
   "execution_count": 177,
   "id": "7029600d",
   "metadata": {},
   "outputs": [],
   "source": [
    "# посмотрим распределение по возрасту"
   ]
  },
  {
   "cell_type": "code",
   "execution_count": 178,
   "id": "fc8188b7",
   "metadata": {},
   "outputs": [
    {
     "data": {
      "text/plain": [
       "<AxesSubplot:xlabel='age', ylabel='Count'>"
      ]
     },
     "execution_count": 178,
     "metadata": {},
     "output_type": "execute_result"
    },
    {
     "data": {
      "image/png": "[encoded data removed]",
      "text/plain": [
       "<Figure size 864x504 with 1 Axes>"
      ]
     },
     "metadata": {},
     "output_type": "display_data"
    }
   ],
   "source": [
    "plt.figure(figsize=(12, 7))\n",
    "sns.histplot(users_cor.age)"
   ]
  },
  {
   "cell_type": "markdown",
   "id": "2f0f569f",
   "metadata": {},
   "source": [
    "В основном все до 60 лет, свыше 60 лет очень мало пользователей, их брать в расчет не будем"
   ]
  },
  {
   "cell_type": "code",
   "execution_count": 179,
   "id": "7bbef5a2",
   "metadata": {},
   "outputs": [],
   "source": [
    "# будет ли заметна, какая то корреляция между возрастом и конверсией в премиум?"
   ]
  },
  {
   "cell_type": "code",
   "execution_count": 180,
   "id": "ee744476",
   "metadata": {},
   "outputs": [],
   "source": [
    "age_corr_control = users_cor \\\n",
    "    .query('group != \"test\" and age < 60') \\\n",
    "    .groupby('age') \\\n",
    "    .agg({'premium_no_trial':'mean'})"
   ]
  },
  {
   "cell_type": "code",
   "execution_count": 181,
   "id": "ea331341",
   "metadata": {},
   "outputs": [],
   "source": [
    "# в контрольные группы"
   ]
  },
  {
   "cell_type": "code",
   "execution_count": 182,
   "id": "e5010bdf",
   "metadata": {
    "scrolled": true
   },
   "outputs": [
    {
     "data": {
      "text/plain": [
       "<AxesSubplot:xlabel='age', ylabel='premium_no_trial'>"
      ]
     },
     "execution_count": 182,
     "metadata": {},
     "output_type": "execute_result"
    },
    {
     "data": {
      "image/png": "[encoded data removed]",
      "text/plain": [
       "<Figure size 432x288 with 1 Axes>"
      ]
     },
     "metadata": {},
     "output_type": "display_data"
    }
   ],
   "source": [
    "sns.scatterplot(x = 'age', y = 'premium_no_trial', data = age_corr_control)"
   ]
  },
  {
   "cell_type": "code",
   "execution_count": 183,
   "id": "edff3543",
   "metadata": {},
   "outputs": [],
   "source": [
    "age_corr_test = users_cor \\\n",
    "    .query(\"group == 'test' and age < 60\") \\\n",
    "    .groupby('age', as_index = False).agg({'premium_no_trial':'mean'})"
   ]
  },
  {
   "cell_type": "code",
   "execution_count": 184,
   "id": "dd4e24a7",
   "metadata": {},
   "outputs": [],
   "source": [
    "# в тестовой группе"
   ]
  },
  {
   "cell_type": "code",
   "execution_count": 185,
   "id": "0fd6a269",
   "metadata": {},
   "outputs": [
    {
     "data": {
      "text/plain": [
       "<AxesSubplot:xlabel='age', ylabel='premium_no_trial'>"
      ]
     },
     "execution_count": 185,
     "metadata": {},
     "output_type": "execute_result"
    },
    {
     "data": {
      "image/png": "[encoded data removed]",
      "text/plain": [
       "<Figure size 432x288 with 1 Axes>"
      ]
     },
     "metadata": {},
     "output_type": "display_data"
    }
   ],
   "source": [
    "sns.scatterplot(x = 'age', y = 'premium_no_trial', data = age_corr_test)"
   ]
  },
  {
   "cell_type": "markdown",
   "id": "2a12b799",
   "metadata": {},
   "source": [
    "Как мы уже раннее проверяли, распределение по возрасту в группах не отличается, заметно что, в возрасте от 50 лет в тестовой группе практически нет покупок ремиума и есть просадка, в отличии от контрольной группы, в возрасте 20-30 лет"
   ]
  },
  {
   "cell_type": "code",
   "execution_count": 186,
   "id": "4015faba",
   "metadata": {},
   "outputs": [],
   "source": [
    "# на первый взгляд другой тенденции нет, разделим людей по группам которые мы определили - до 20 лет, \n",
    "# от 20 до 30, от 30 до 50, и старше"
   ]
  },
  {
   "cell_type": "code",
   "execution_count": 187,
   "id": "9a6bd5c7",
   "metadata": {},
   "outputs": [],
   "source": [
    "users_cor['age_cut'] = pd.cut(users_cor.age, bins = [0,20,30,50,110], \n",
    "                              labels = ['young', 'mature_1', 'mature_2', 'old'])"
   ]
  },
  {
   "cell_type": "code",
   "execution_count": 188,
   "id": "c323aa4d",
   "metadata": {},
   "outputs": [],
   "source": [
    "# посмотрим конверсию в премиум для разных возрастных категорий"
   ]
  },
  {
   "cell_type": "code",
   "execution_count": 189,
   "id": "c4d7e235",
   "metadata": {},
   "outputs": [
    {
     "data": {
      "text/html": [
       "<div>\n",
       "<style scoped>\n",
       "    .dataframe tbody tr th:only-of-type {\n",
       "        vertical-align: middle;\n",
       "    }\n",
       "\n",
       "    .dataframe tbody tr th {\n",
       "        vertical-align: top;\n",
       "    }\n",
       "\n",
       "    .dataframe thead th {\n",
       "        text-align: right;\n",
       "    }\n",
       "</style>\n",
       "<table border=\"1\" class=\"dataframe\">\n",
       "  <thead>\n",
       "    <tr style=\"text-align: right;\">\n",
       "      <th>age_cut</th>\n",
       "      <th>young</th>\n",
       "      <th>mature_1</th>\n",
       "      <th>mature_2</th>\n",
       "      <th>old</th>\n",
       "    </tr>\n",
       "    <tr>\n",
       "      <th>group</th>\n",
       "      <th></th>\n",
       "      <th></th>\n",
       "      <th></th>\n",
       "      <th></th>\n",
       "    </tr>\n",
       "  </thead>\n",
       "  <tbody>\n",
       "    <tr>\n",
       "      <th>control_1</th>\n",
       "      <td>0.020672</td>\n",
       "      <td>0.028633</td>\n",
       "      <td>0.016516</td>\n",
       "      <td>0.026906</td>\n",
       "    </tr>\n",
       "    <tr>\n",
       "      <th>control_2</th>\n",
       "      <td>0.029024</td>\n",
       "      <td>0.029428</td>\n",
       "      <td>0.018262</td>\n",
       "      <td>0.016461</td>\n",
       "    </tr>\n",
       "    <tr>\n",
       "      <th>test</th>\n",
       "      <td>0.014963</td>\n",
       "      <td>0.012807</td>\n",
       "      <td>0.018857</td>\n",
       "      <td>0.013043</td>\n",
       "    </tr>\n",
       "  </tbody>\n",
       "</table>\n",
       "</div>"
      ],
      "text/plain": [
       "age_cut       young  mature_1  mature_2       old\n",
       "group                                            \n",
       "control_1  0.020672  0.028633  0.016516  0.026906\n",
       "control_2  0.029024  0.029428  0.018262  0.016461\n",
       "test       0.014963  0.012807  0.018857  0.013043"
      ]
     },
     "execution_count": 189,
     "metadata": {},
     "output_type": "execute_result"
    }
   ],
   "source": [
    "users_cor \\\n",
    "    .groupby(['age_cut','group'], as_index = False) \\\n",
    "    .agg({'premium_no_trial':'mean'}) \\\n",
    "    .pivot(index = 'group', columns = 'age_cut', values = 'premium_no_trial')"
   ]
  },
  {
   "cell_type": "markdown",
   "id": "a2994dc6",
   "metadata": {},
   "source": [
    "В группе mature_2 есть заметное отличии по конверсии - конверсия в тестовой группе не падает"
   ]
  },
  {
   "cell_type": "code",
   "execution_count": 190,
   "id": "15fda1ed",
   "metadata": {},
   "outputs": [],
   "source": [
    "# проверим Xu квадратом статистические различия в группе mature_2"
   ]
  },
  {
   "cell_type": "code",
   "execution_count": 191,
   "id": "0f7382f6",
   "metadata": {},
   "outputs": [
    {
     "data": {
      "text/html": [
       "<div>\n",
       "<style scoped>\n",
       "    .dataframe tbody tr th:only-of-type {\n",
       "        vertical-align: middle;\n",
       "    }\n",
       "\n",
       "    .dataframe tbody tr th {\n",
       "        vertical-align: top;\n",
       "    }\n",
       "\n",
       "    .dataframe thead th {\n",
       "        text-align: right;\n",
       "    }\n",
       "</style>\n",
       "<table border=\"1\" class=\"dataframe\">\n",
       "  <thead>\n",
       "    <tr style=\"text-align: right;\">\n",
       "      <th>group</th>\n",
       "      <th>control_1</th>\n",
       "      <th>control_2</th>\n",
       "      <th>test</th>\n",
       "    </tr>\n",
       "    <tr>\n",
       "      <th>premium_no_trial</th>\n",
       "      <th></th>\n",
       "      <th></th>\n",
       "      <th></th>\n",
       "    </tr>\n",
       "  </thead>\n",
       "  <tbody>\n",
       "    <tr>\n",
       "      <th>False</th>\n",
       "      <td>1846</td>\n",
       "      <td>1774</td>\n",
       "      <td>1769</td>\n",
       "    </tr>\n",
       "    <tr>\n",
       "      <th>True</th>\n",
       "      <td>31</td>\n",
       "      <td>33</td>\n",
       "      <td>34</td>\n",
       "    </tr>\n",
       "  </tbody>\n",
       "</table>\n",
       "</div>"
      ],
      "text/plain": [
       "group             control_1  control_2  test\n",
       "premium_no_trial                            \n",
       "False                  1846       1774  1769\n",
       "True                     31         33    34"
      ]
     },
     "execution_count": 191,
     "metadata": {},
     "output_type": "execute_result"
    }
   ],
   "source": [
    "mature_2_conv = pd.crosstab(users_cor.query(\"age_cut == 'mature_2'\").premium_no_trial,\n",
    "            users_cor.query(\"age_cut == 'mature_2'\").group)\n",
    "mature_2_conv"
   ]
  },
  {
   "cell_type": "code",
   "execution_count": 192,
   "id": "a5c1ed8a",
   "metadata": {},
   "outputs": [],
   "source": [
    "stat, p, dof, expected = st.chi2_contingency(mature_2_conv)"
   ]
  },
  {
   "cell_type": "code",
   "execution_count": 193,
   "id": "258a367b",
   "metadata": {},
   "outputs": [
    {
     "data": {
      "text/plain": [
       "0.8554292334282154"
      ]
     },
     "execution_count": 193,
     "metadata": {},
     "output_type": "execute_result"
    }
   ],
   "source": [
    "p"
   ]
  },
  {
   "cell_type": "markdown",
   "id": "58616bda",
   "metadata": {},
   "source": [
    "В отличии от общей тенденции на уменьшение конверсии, в подгруппе mature_2 статистических различий не найдено"
   ]
  },
  {
   "cell_type": "code",
   "execution_count": 194,
   "id": "fe2911a8",
   "metadata": {},
   "outputs": [],
   "source": [
    "# проверим arpu в данной подгруппе"
   ]
  },
  {
   "cell_type": "code",
   "execution_count": 195,
   "id": "d9b9aa7b",
   "metadata": {},
   "outputs": [],
   "source": [
    "arpu_test_mature_2      = users_cor.query('group == \"test\" and age_cut == \"mature_2\"').revenue\n",
    "arpu_control_2_mature_2 = users_cor.query('group == \"control_2\" and age_cut == \"mature_2\"').revenue"
   ]
  },
  {
   "cell_type": "code",
   "execution_count": 196,
   "id": "2f3db1df",
   "metadata": {},
   "outputs": [],
   "source": [
    "# проверим бутстрапом - со второй контрольной группой, у котороый выше конверсия и arpu"
   ]
  },
  {
   "cell_type": "code",
   "execution_count": 197,
   "id": "3e26c0f7",
   "metadata": {
    "scrolled": true
   },
   "outputs": [
    {
     "data": {
      "application/vnd.jupyter.widget-view+json": {
       "model_id": "7cb408446f5449abb6f88c5f6fac4084",
       "version_major": 2,
       "version_minor": 0
      },
      "text/plain": [
       "  0%|          | 0/1000 [00:00<?, ?it/s]"
      ]
     },
     "metadata": {},
     "output_type": "display_data"
    },
    {
     "data": {
      "image/png": "[encoded data removed]",
      "text/plain": [
       "<Figure size 432x288 with 1 Axes>"
      ]
     },
     "metadata": {},
     "output_type": "display_data"
    }
   ],
   "source": [
    "arpu_mature_2 = get_bootstrap(arpu_test_mature_2,arpu_control_2_mature_2)"
   ]
  },
  {
   "cell_type": "code",
   "execution_count": 198,
   "id": "930424a3",
   "metadata": {},
   "outputs": [
    {
     "data": {
      "text/plain": [
       "0.07"
      ]
     },
     "execution_count": 198,
     "metadata": {},
     "output_type": "execute_result"
    }
   ],
   "source": [
    "arpu_mature_2['p_value']"
   ]
  },
  {
   "cell_type": "code",
   "execution_count": 199,
   "id": "6b6bd1b8",
   "metadata": {},
   "outputs": [
    {
     "data": {
      "text/html": [
       "<div>\n",
       "<style scoped>\n",
       "    .dataframe tbody tr th:only-of-type {\n",
       "        vertical-align: middle;\n",
       "    }\n",
       "\n",
       "    .dataframe tbody tr th {\n",
       "        vertical-align: top;\n",
       "    }\n",
       "\n",
       "    .dataframe thead th {\n",
       "        text-align: right;\n",
       "    }\n",
       "</style>\n",
       "<table border=\"1\" class=\"dataframe\">\n",
       "  <thead>\n",
       "    <tr style=\"text-align: right;\">\n",
       "      <th></th>\n",
       "      <th>0</th>\n",
       "    </tr>\n",
       "  </thead>\n",
       "  <tbody>\n",
       "    <tr>\n",
       "      <th>0.025</th>\n",
       "      <td>-27.336511</td>\n",
       "    </tr>\n",
       "    <tr>\n",
       "      <th>0.975</th>\n",
       "      <td>464.471403</td>\n",
       "    </tr>\n",
       "  </tbody>\n",
       "</table>\n",
       "</div>"
      ],
      "text/plain": [
       "                0\n",
       "0.025  -27.336511\n",
       "0.975  464.471403"
      ]
     },
     "execution_count": 199,
     "metadata": {},
     "output_type": "execute_result"
    }
   ],
   "source": [
    "arpu_mature_2['ci']"
   ]
  },
  {
   "cell_type": "markdown",
   "id": "e432c9c6",
   "metadata": {},
   "source": [
    "p_value > 0.05 - статистически значимых различий в arpu нет"
   ]
  },
  {
   "cell_type": "markdown",
   "id": "55de6d8f",
   "metadata": {},
   "source": [
    "В итоге есть несколько возрастных групп, в которых есть спад в конверсии в премиум, в ворасте от 20 до 30 лет,\n",
    "и в возрасте от 50 до 60 лет. В возрасте от 30 до 50 вопреки общей тенденции, снижения в конверсии не обнаружено, но при этом нет значимого увеличение в arpu.\n",
    "Возможно разные категории людей по возрасту, по разному реагируют на нововедение. Тут неплохо бы понимать в каких \n",
    "платежных системах проихошло изменение."
   ]
  },
  {
   "cell_type": "markdown",
   "id": "1ed46032",
   "metadata": {},
   "source": [
    "#### группы по полу"
   ]
  },
  {
   "cell_type": "markdown",
   "id": "4c43957f",
   "metadata": {},
   "source": [
    "Насколько мы помним, у нас в приложении в основном мужчины и они дают тенденцию. Посмотрим соблюдается ли тенденция ( уменьшение конверсии ) у женщин."
   ]
  },
  {
   "cell_type": "code",
   "execution_count": 200,
   "id": "bad18b03",
   "metadata": {},
   "outputs": [],
   "source": [
    "users_women = users_cor.query(\"gender == 0\")"
   ]
  },
  {
   "cell_type": "code",
   "execution_count": 201,
   "id": "c6a7907e",
   "metadata": {},
   "outputs": [
    {
     "data": {
      "text/plain": [
       "group\n",
       "control_1    0.000000\n",
       "control_2    0.025641\n",
       "test         0.000000\n",
       "Name: premium_no_trial, dtype: float64"
      ]
     },
     "execution_count": 201,
     "metadata": {},
     "output_type": "execute_result"
    }
   ],
   "source": [
    "users_women.groupby('group').premium_no_trial.mean()"
   ]
  },
  {
   "cell_type": "code",
   "execution_count": 202,
   "id": "4f2e7a0b",
   "metadata": {},
   "outputs": [
    {
     "data": {
      "text/html": [
       "<div>\n",
       "<style scoped>\n",
       "    .dataframe tbody tr th:only-of-type {\n",
       "        vertical-align: middle;\n",
       "    }\n",
       "\n",
       "    .dataframe tbody tr th {\n",
       "        vertical-align: top;\n",
       "    }\n",
       "\n",
       "    .dataframe thead th {\n",
       "        text-align: right;\n",
       "    }\n",
       "</style>\n",
       "<table border=\"1\" class=\"dataframe\">\n",
       "  <thead>\n",
       "    <tr style=\"text-align: right;\">\n",
       "      <th></th>\n",
       "      <th>uid</th>\n",
       "      <th>age</th>\n",
       "      <th>attraction_coeff</th>\n",
       "      <th>coins</th>\n",
       "      <th>country</th>\n",
       "      <th>visit_days</th>\n",
       "      <th>gender</th>\n",
       "      <th>age_filter_start</th>\n",
       "      <th>age_filter_end</th>\n",
       "      <th>views_count</th>\n",
       "      <th>was_premium</th>\n",
       "      <th>is_premium</th>\n",
       "      <th>total_revenue</th>\n",
       "      <th>group</th>\n",
       "      <th>premium_no_trial</th>\n",
       "      <th>trial_premium</th>\n",
       "      <th>revenue</th>\n",
       "      <th>purchaser</th>\n",
       "      <th>sum_visit_days</th>\n",
       "      <th>age_cut</th>\n",
       "    </tr>\n",
       "  </thead>\n",
       "  <tbody>\n",
       "    <tr>\n",
       "      <th>8795</th>\n",
       "      <td>891291573</td>\n",
       "      <td>37</td>\n",
       "      <td>382</td>\n",
       "      <td>0.0</td>\n",
       "      <td>United States of America</td>\n",
       "      <td>1,2,3</td>\n",
       "      <td>0</td>\n",
       "      <td>34</td>\n",
       "      <td>40</td>\n",
       "      <td>471</td>\n",
       "      <td>1.0</td>\n",
       "      <td>1.0</td>\n",
       "      <td>6292</td>\n",
       "      <td>control_2</td>\n",
       "      <td>True</td>\n",
       "      <td>False</td>\n",
       "      <td>6292.0</td>\n",
       "      <td>True</td>\n",
       "      <td>3</td>\n",
       "      <td>mature_2</td>\n",
       "    </tr>\n",
       "    <tr>\n",
       "      <th>8871</th>\n",
       "      <td>892032072</td>\n",
       "      <td>26</td>\n",
       "      <td>0</td>\n",
       "      <td>0.0</td>\n",
       "      <td>United Kingdom (Great Britain)</td>\n",
       "      <td>1,2,3</td>\n",
       "      <td>0</td>\n",
       "      <td>16</td>\n",
       "      <td>99</td>\n",
       "      <td>16157</td>\n",
       "      <td>1.0</td>\n",
       "      <td>0.0</td>\n",
       "      <td>3588</td>\n",
       "      <td>control_2</td>\n",
       "      <td>True</td>\n",
       "      <td>False</td>\n",
       "      <td>3588.0</td>\n",
       "      <td>True</td>\n",
       "      <td>3</td>\n",
       "      <td>mature_1</td>\n",
       "    </tr>\n",
       "    <tr>\n",
       "      <th>10342</th>\n",
       "      <td>892333464</td>\n",
       "      <td>34</td>\n",
       "      <td>316</td>\n",
       "      <td>0.0</td>\n",
       "      <td>United States of America</td>\n",
       "      <td>1</td>\n",
       "      <td>0</td>\n",
       "      <td>31</td>\n",
       "      <td>37</td>\n",
       "      <td>698</td>\n",
       "      <td>1.0</td>\n",
       "      <td>1.0</td>\n",
       "      <td>4537</td>\n",
       "      <td>control_2</td>\n",
       "      <td>True</td>\n",
       "      <td>False</td>\n",
       "      <td>4537.0</td>\n",
       "      <td>True</td>\n",
       "      <td>1</td>\n",
       "      <td>mature_2</td>\n",
       "    </tr>\n",
       "    <tr>\n",
       "      <th>12557</th>\n",
       "      <td>891170697</td>\n",
       "      <td>35</td>\n",
       "      <td>664</td>\n",
       "      <td>0.0</td>\n",
       "      <td>United Kingdom (Great Britain)</td>\n",
       "      <td>1,2</td>\n",
       "      <td>0</td>\n",
       "      <td>30</td>\n",
       "      <td>71</td>\n",
       "      <td>542</td>\n",
       "      <td>1.0</td>\n",
       "      <td>1.0</td>\n",
       "      <td>4693</td>\n",
       "      <td>control_2</td>\n",
       "      <td>True</td>\n",
       "      <td>False</td>\n",
       "      <td>4693.0</td>\n",
       "      <td>True</td>\n",
       "      <td>2</td>\n",
       "      <td>mature_2</td>\n",
       "    </tr>\n",
       "    <tr>\n",
       "      <th>12797</th>\n",
       "      <td>891826944</td>\n",
       "      <td>36</td>\n",
       "      <td>43</td>\n",
       "      <td>0.0</td>\n",
       "      <td>Germany</td>\n",
       "      <td>1,2,3,4,5,6,7,8,9,10,11,12,13,14,15,16,17,18,19</td>\n",
       "      <td>0</td>\n",
       "      <td>27</td>\n",
       "      <td>33</td>\n",
       "      <td>1317</td>\n",
       "      <td>1.0</td>\n",
       "      <td>1.0</td>\n",
       "      <td>6292</td>\n",
       "      <td>control_2</td>\n",
       "      <td>True</td>\n",
       "      <td>False</td>\n",
       "      <td>6292.0</td>\n",
       "      <td>True</td>\n",
       "      <td>19</td>\n",
       "      <td>mature_2</td>\n",
       "    </tr>\n",
       "  </tbody>\n",
       "</table>\n",
       "</div>"
      ],
      "text/plain": [
       "             uid  age  attraction_coeff  coins  \\\n",
       "8795   891291573   37               382    0.0   \n",
       "8871   892032072   26                 0    0.0   \n",
       "10342  892333464   34               316    0.0   \n",
       "12557  891170697   35               664    0.0   \n",
       "12797  891826944   36                43    0.0   \n",
       "\n",
       "                              country  \\\n",
       "8795         United States of America   \n",
       "8871   United Kingdom (Great Britain)   \n",
       "10342        United States of America   \n",
       "12557  United Kingdom (Great Britain)   \n",
       "12797                         Germany   \n",
       "\n",
       "                                            visit_days  gender  \\\n",
       "8795                                             1,2,3       0   \n",
       "8871                                             1,2,3       0   \n",
       "10342                                                1       0   \n",
       "12557                                              1,2       0   \n",
       "12797  1,2,3,4,5,6,7,8,9,10,11,12,13,14,15,16,17,18,19       0   \n",
       "\n",
       "       age_filter_start  age_filter_end  views_count  was_premium  is_premium  \\\n",
       "8795                 34              40          471          1.0         1.0   \n",
       "8871                 16              99        16157          1.0         0.0   \n",
       "10342                31              37          698          1.0         1.0   \n",
       "12557                30              71          542          1.0         1.0   \n",
       "12797                27              33         1317          1.0         1.0   \n",
       "\n",
       "       total_revenue      group  premium_no_trial  trial_premium  revenue  \\\n",
       "8795            6292  control_2              True          False   6292.0   \n",
       "8871            3588  control_2              True          False   3588.0   \n",
       "10342           4537  control_2              True          False   4537.0   \n",
       "12557           4693  control_2              True          False   4693.0   \n",
       "12797           6292  control_2              True          False   6292.0   \n",
       "\n",
       "       purchaser  sum_visit_days   age_cut  \n",
       "8795        True               3  mature_2  \n",
       "8871        True               3  mature_1  \n",
       "10342       True               1  mature_2  \n",
       "12557       True               2  mature_2  \n",
       "12797       True              19  mature_2  "
      ]
     },
     "execution_count": 202,
     "metadata": {},
     "output_type": "execute_result"
    }
   ],
   "source": [
    "users_women.query('premium_no_trial == True')"
   ]
  },
  {
   "cell_type": "markdown",
   "id": "eafedddd",
   "metadata": {},
   "source": [
    "Женщин купивших премимум было всего 5 и все из контрольной выборки, анализировать тут нечего"
   ]
  },
  {
   "cell_type": "markdown",
   "id": "3dff3ca9",
   "metadata": {},
   "source": [
    "#### attraction_coeff - коэффициент привлекательности"
   ]
  },
  {
   "cell_type": "code",
   "execution_count": 203,
   "id": "82845a65",
   "metadata": {},
   "outputs": [],
   "source": [
    "#  посмотрим распределение"
   ]
  },
  {
   "cell_type": "code",
   "execution_count": 204,
   "id": "6adf807e",
   "metadata": {},
   "outputs": [
    {
     "data": {
      "text/plain": [
       "<AxesSubplot:xlabel='attraction_coeff', ylabel='Count'>"
      ]
     },
     "execution_count": 204,
     "metadata": {},
     "output_type": "execute_result"
    },
    {
     "data": {
      "image/png": "[encoded data removed]",
      "text/plain": [
       "<Figure size 432x288 with 1 Axes>"
      ]
     },
     "metadata": {},
     "output_type": "display_data"
    }
   ],
   "source": [
    "sns.histplot(users_cor.attraction_coeff)"
   ]
  },
  {
   "cell_type": "code",
   "execution_count": 205,
   "id": "9498dede",
   "metadata": {},
   "outputs": [],
   "source": [
    "# разделим на 4 группы - 0 , (0:500], (500:999], 1000"
   ]
  },
  {
   "cell_type": "code",
   "execution_count": 206,
   "id": "1da44f57",
   "metadata": {},
   "outputs": [],
   "source": [
    "users_cor['attraction_сut'] = pd.cut(users_cor.attraction_coeff, bins = [ -1,0,500,999, 1000],\n",
    "      labels = ['no', 'less', 'more', 'top'])"
   ]
  },
  {
   "cell_type": "code",
   "execution_count": 207,
   "id": "c67f4af0",
   "metadata": {},
   "outputs": [],
   "source": [
    "# посмотрим конверсию для всех подгрупп"
   ]
  },
  {
   "cell_type": "code",
   "execution_count": 208,
   "id": "0f84b7db",
   "metadata": {},
   "outputs": [
    {
     "data": {
      "text/html": [
       "<div>\n",
       "<style scoped>\n",
       "    .dataframe tbody tr th:only-of-type {\n",
       "        vertical-align: middle;\n",
       "    }\n",
       "\n",
       "    .dataframe tbody tr th {\n",
       "        vertical-align: top;\n",
       "    }\n",
       "\n",
       "    .dataframe thead th {\n",
       "        text-align: right;\n",
       "    }\n",
       "</style>\n",
       "<table border=\"1\" class=\"dataframe\">\n",
       "  <thead>\n",
       "    <tr style=\"text-align: right;\">\n",
       "      <th>group</th>\n",
       "      <th>control_1</th>\n",
       "      <th>control_2</th>\n",
       "      <th>test</th>\n",
       "    </tr>\n",
       "    <tr>\n",
       "      <th>attraction_сut</th>\n",
       "      <th></th>\n",
       "      <th></th>\n",
       "      <th></th>\n",
       "    </tr>\n",
       "  </thead>\n",
       "  <tbody>\n",
       "    <tr>\n",
       "      <th>no</th>\n",
       "      <td>0.004630</td>\n",
       "      <td>0.003950</td>\n",
       "      <td>0.001334</td>\n",
       "    </tr>\n",
       "    <tr>\n",
       "      <th>less</th>\n",
       "      <td>0.038953</td>\n",
       "      <td>0.044554</td>\n",
       "      <td>0.028605</td>\n",
       "    </tr>\n",
       "    <tr>\n",
       "      <th>more</th>\n",
       "      <td>0.022222</td>\n",
       "      <td>0.024450</td>\n",
       "      <td>0.020000</td>\n",
       "    </tr>\n",
       "    <tr>\n",
       "      <th>top</th>\n",
       "      <td>0.020270</td>\n",
       "      <td>0.012862</td>\n",
       "      <td>0.000000</td>\n",
       "    </tr>\n",
       "  </tbody>\n",
       "</table>\n",
       "</div>"
      ],
      "text/plain": [
       "group           control_1  control_2      test\n",
       "attraction_сut                                \n",
       "no               0.004630   0.003950  0.001334\n",
       "less             0.038953   0.044554  0.028605\n",
       "more             0.022222   0.024450  0.020000\n",
       "top              0.020270   0.012862  0.000000"
      ]
     },
     "execution_count": 208,
     "metadata": {},
     "output_type": "execute_result"
    }
   ],
   "source": [
    "attraction_сut_conv = users_cor \\\n",
    "    .groupby(['attraction_сut','group'], as_index = False) \\\n",
    "    .agg({'premium_no_trial':'mean'}) \\\n",
    "    .pivot(index = 'attraction_сut', columns = 'group', values = 'premium_no_trial')\n",
    "attraction_сut_conv"
   ]
  },
  {
   "cell_type": "code",
   "execution_count": 209,
   "id": "b8146830",
   "metadata": {},
   "outputs": [
    {
     "data": {
      "text/plain": [
       "<matplotlib.legend.Legend at 0x7f87c7f29370>"
      ]
     },
     "execution_count": 209,
     "metadata": {},
     "output_type": "execute_result"
    },
    {
     "data": {
      "image/png": "[encoded data removed]",
      "text/plain": [
       "<Figure size 864x576 with 1 Axes>"
      ]
     },
     "metadata": {},
     "output_type": "display_data"
    }
   ],
   "source": [
    "plt.figure(figsize=(12,8))\n",
    "#sns.set_style('whitegrid')\n",
    "sns.barplot(x = 'group', y = 'premium_no_trial', hue = 'attraction_сut', data = users_cor)\n",
    "plt.legend(title = 'attraction_сut')"
   ]
  },
  {
   "cell_type": "markdown",
   "id": "0e591c28",
   "metadata": {},
   "source": [
    "Нет тендеции, что при малом коэф. привлекательности, пользователь чаще покупает премиум и наоборот, заметное снижение конверсии у группы с нулевой и top привлекательностью."
   ]
  },
  {
   "cell_type": "code",
   "execution_count": 210,
   "id": "9fff4dfa",
   "metadata": {},
   "outputs": [],
   "source": [
    "# посмотрим изменение в конверсии в группе с привлекательностью от 500 до 999"
   ]
  },
  {
   "cell_type": "code",
   "execution_count": 211,
   "id": "ac173204",
   "metadata": {},
   "outputs": [
    {
     "data": {
      "text/html": [
       "<div>\n",
       "<style scoped>\n",
       "    .dataframe tbody tr th:only-of-type {\n",
       "        vertical-align: middle;\n",
       "    }\n",
       "\n",
       "    .dataframe tbody tr th {\n",
       "        vertical-align: top;\n",
       "    }\n",
       "\n",
       "    .dataframe thead th {\n",
       "        text-align: right;\n",
       "    }\n",
       "</style>\n",
       "<table border=\"1\" class=\"dataframe\">\n",
       "  <thead>\n",
       "    <tr style=\"text-align: right;\">\n",
       "      <th>group</th>\n",
       "      <th>control_1</th>\n",
       "      <th>control_2</th>\n",
       "      <th>test</th>\n",
       "    </tr>\n",
       "    <tr>\n",
       "      <th>premium_no_trial</th>\n",
       "      <th></th>\n",
       "      <th></th>\n",
       "      <th></th>\n",
       "    </tr>\n",
       "  </thead>\n",
       "  <tbody>\n",
       "    <tr>\n",
       "      <th>False</th>\n",
       "      <td>792</td>\n",
       "      <td>798</td>\n",
       "      <td>784</td>\n",
       "    </tr>\n",
       "    <tr>\n",
       "      <th>True</th>\n",
       "      <td>18</td>\n",
       "      <td>20</td>\n",
       "      <td>16</td>\n",
       "    </tr>\n",
       "  </tbody>\n",
       "</table>\n",
       "</div>"
      ],
      "text/plain": [
       "group             control_1  control_2  test\n",
       "premium_no_trial                            \n",
       "False                   792        798   784\n",
       "True                     18         20    16"
      ]
     },
     "execution_count": 211,
     "metadata": {},
     "output_type": "execute_result"
    }
   ],
   "source": [
    "more_conv = pd.crosstab(users_cor.query('attraction_сut == \"more\"').premium_no_trial,\n",
    "            users_cor.query('attraction_сut == \"more\"').group)\n",
    "more_conv"
   ]
  },
  {
   "cell_type": "code",
   "execution_count": 212,
   "id": "3a8d13ab",
   "metadata": {},
   "outputs": [
    {
     "data": {
      "text/plain": [
       "0.8318095448872187"
      ]
     },
     "execution_count": 212,
     "metadata": {},
     "output_type": "execute_result"
    }
   ],
   "source": [
    "stat, p, dof, expected = st.chi2_contingency(more_conv)\n",
    "p"
   ]
  },
  {
   "cell_type": "markdown",
   "id": "8bd2de7d",
   "metadata": {},
   "source": [
    "В отличии от общей тенденции на уменьшение конверсии, в данной группе статистических различий не зафиксированo"
   ]
  },
  {
   "cell_type": "code",
   "execution_count": 213,
   "id": "41da8162",
   "metadata": {},
   "outputs": [],
   "source": [
    "# проверим arpu у этой подгруппы"
   ]
  },
  {
   "cell_type": "code",
   "execution_count": 214,
   "id": "917ef48d",
   "metadata": {},
   "outputs": [],
   "source": [
    "arpu_test_more      = users_cor.query('group == \"test\" and attraction_сut == \"more\"').revenue\n",
    "arpu_control_2_more = users_cor.query('group == \"control_2\" and attraction_сut == \"more\"').revenue"
   ]
  },
  {
   "cell_type": "code",
   "execution_count": 215,
   "id": "14ca9d3e",
   "metadata": {},
   "outputs": [],
   "source": [
    "# проверим бутстрапом - со второй контрольной группой"
   ]
  },
  {
   "cell_type": "code",
   "execution_count": 216,
   "id": "d1d0b7a6",
   "metadata": {},
   "outputs": [
    {
     "data": {
      "application/vnd.jupyter.widget-view+json": {
       "model_id": "848a0a03b2f74ce59573eaec1c3d64d0",
       "version_major": 2,
       "version_minor": 0
      },
      "text/plain": [
       "  0%|          | 0/1000 [00:00<?, ?it/s]"
      ]
     },
     "metadata": {},
     "output_type": "display_data"
    },
    {
     "data": {
      "image/png": "[encoded data removed]",
      "text/plain": [
       "<Figure size 432x288 with 1 Axes>"
      ]
     },
     "metadata": {},
     "output_type": "display_data"
    }
   ],
   "source": [
    "arpu_mature_2 = get_bootstrap(arpu_test_more,arpu_control_2_more)"
   ]
  },
  {
   "cell_type": "code",
   "execution_count": 217,
   "id": "19672094",
   "metadata": {},
   "outputs": [
    {
     "data": {
      "text/plain": [
       "0.432"
      ]
     },
     "execution_count": 217,
     "metadata": {},
     "output_type": "execute_result"
    }
   ],
   "source": [
    "arpu_mature_2['p_value']"
   ]
  },
  {
   "cell_type": "markdown",
   "id": "2425b57c",
   "metadata": {},
   "source": [
    "p_value > 0.05 - статистически значимых различия в arpu нет"
   ]
  },
  {
   "cell_type": "markdown",
   "id": "54ed8ae4",
   "metadata": {},
   "source": [
    "#### группы по странам"
   ]
  },
  {
   "cell_type": "code",
   "execution_count": 218,
   "id": "7feae97a",
   "metadata": {},
   "outputs": [
    {
     "data": {
      "text/plain": [
       "United States of America          4407\n",
       "Argentina                         1182\n",
       "France                            1105\n",
       "Spain                              953\n",
       "Italy                              953\n",
       "Chile                              845\n",
       "United Arab Emirates               644\n",
       "Germany                            599\n",
       "United Kingdom (Great Britain)     461\n",
       "Canada                             405\n",
       "Name: country, dtype: int64"
      ]
     },
     "execution_count": 218,
     "metadata": {},
     "output_type": "execute_result"
    }
   ],
   "source": [
    "users_cor.country.value_counts().head(10)"
   ]
  },
  {
   "cell_type": "code",
   "execution_count": 219,
   "id": "85547a67",
   "metadata": {},
   "outputs": [],
   "source": [
    "# возьмем топ 10 стран по количеству премиум подписок"
   ]
  },
  {
   "cell_type": "code",
   "execution_count": 220,
   "id": "de49330c",
   "metadata": {},
   "outputs": [],
   "source": [
    "country_top = users_cor \\\n",
    "    .groupby('country', as_index = False) \\\n",
    "    .agg({'premium_no_trial':'sum'}) \\\n",
    "    .sort_values('premium_no_trial') \\\n",
    "    .tail(10).country"
   ]
  },
  {
   "cell_type": "code",
   "execution_count": 221,
   "id": "88e81595",
   "metadata": {},
   "outputs": [],
   "source": [
    "# посмотрим для них конверси в премиум"
   ]
  },
  {
   "cell_type": "code",
   "execution_count": 222,
   "id": "e7696d62",
   "metadata": {},
   "outputs": [
    {
     "data": {
      "text/html": [
       "<div>\n",
       "<style scoped>\n",
       "    .dataframe tbody tr th:only-of-type {\n",
       "        vertical-align: middle;\n",
       "    }\n",
       "\n",
       "    .dataframe tbody tr th {\n",
       "        vertical-align: top;\n",
       "    }\n",
       "\n",
       "    .dataframe thead th {\n",
       "        text-align: right;\n",
       "    }\n",
       "</style>\n",
       "<table border=\"1\" class=\"dataframe\">\n",
       "  <thead>\n",
       "    <tr style=\"text-align: right;\">\n",
       "      <th>group</th>\n",
       "      <th>control_1</th>\n",
       "      <th>control_2</th>\n",
       "      <th>test</th>\n",
       "    </tr>\n",
       "    <tr>\n",
       "      <th>country</th>\n",
       "      <th></th>\n",
       "      <th></th>\n",
       "      <th></th>\n",
       "    </tr>\n",
       "  </thead>\n",
       "  <tbody>\n",
       "    <tr>\n",
       "      <th>Argentina</th>\n",
       "      <td>0.012853</td>\n",
       "      <td>0.017632</td>\n",
       "      <td>0.012626</td>\n",
       "    </tr>\n",
       "    <tr>\n",
       "      <th>Chile</th>\n",
       "      <td>0.013937</td>\n",
       "      <td>0.020979</td>\n",
       "      <td>0.014706</td>\n",
       "    </tr>\n",
       "    <tr>\n",
       "      <th>France</th>\n",
       "      <td>0.032432</td>\n",
       "      <td>0.021277</td>\n",
       "      <td>0.011142</td>\n",
       "    </tr>\n",
       "    <tr>\n",
       "      <th>Germany</th>\n",
       "      <td>0.021277</td>\n",
       "      <td>0.014851</td>\n",
       "      <td>0.009569</td>\n",
       "    </tr>\n",
       "    <tr>\n",
       "      <th>Israel</th>\n",
       "      <td>0.091743</td>\n",
       "      <td>0.025641</td>\n",
       "      <td>0.018868</td>\n",
       "    </tr>\n",
       "    <tr>\n",
       "      <th>Italy</th>\n",
       "      <td>0.035608</td>\n",
       "      <td>0.013652</td>\n",
       "      <td>0.021672</td>\n",
       "    </tr>\n",
       "    <tr>\n",
       "      <th>Spain</th>\n",
       "      <td>0.014620</td>\n",
       "      <td>0.032258</td>\n",
       "      <td>0.019934</td>\n",
       "    </tr>\n",
       "    <tr>\n",
       "      <th>United Arab Emirates</th>\n",
       "      <td>0.014493</td>\n",
       "      <td>0.018957</td>\n",
       "      <td>0.026549</td>\n",
       "    </tr>\n",
       "    <tr>\n",
       "      <th>United Kingdom (Great Britain)</th>\n",
       "      <td>0.027397</td>\n",
       "      <td>0.061644</td>\n",
       "      <td>0.029586</td>\n",
       "    </tr>\n",
       "    <tr>\n",
       "      <th>United States of America</th>\n",
       "      <td>0.017675</td>\n",
       "      <td>0.021534</td>\n",
       "      <td>0.012414</td>\n",
       "    </tr>\n",
       "  </tbody>\n",
       "</table>\n",
       "</div>"
      ],
      "text/plain": [
       "group                           control_1  control_2      test\n",
       "country                                                       \n",
       "Argentina                        0.012853   0.017632  0.012626\n",
       "Chile                            0.013937   0.020979  0.014706\n",
       "France                           0.032432   0.021277  0.011142\n",
       "Germany                          0.021277   0.014851  0.009569\n",
       "Israel                           0.091743   0.025641  0.018868\n",
       "Italy                            0.035608   0.013652  0.021672\n",
       "Spain                            0.014620   0.032258  0.019934\n",
       "United Arab Emirates             0.014493   0.018957  0.026549\n",
       "United Kingdom (Great Britain)   0.027397   0.061644  0.029586\n",
       "United States of America         0.017675   0.021534  0.012414"
      ]
     },
     "execution_count": 222,
     "metadata": {},
     "output_type": "execute_result"
    }
   ],
   "source": [
    "users_cor.query('country in @country_top') \\\n",
    "    .groupby(['country','group'], as_index = False) \\\n",
    "    .agg({'premium_no_trial':'mean'}) \\\n",
    "    .pivot(index = 'country', columns = 'group', values = 'premium_no_trial')"
   ]
  },
  {
   "cell_type": "markdown",
   "id": "b179d643",
   "metadata": {},
   "source": [
    "По некоторой части стран выборки не очень большие, в итоге есть разница и между контрольномы группами"
   ]
  },
  {
   "cell_type": "code",
   "execution_count": 223,
   "id": "48c4120a",
   "metadata": {},
   "outputs": [
    {
     "data": {
      "text/html": [
       "<div>\n",
       "<style scoped>\n",
       "    .dataframe tbody tr th:only-of-type {\n",
       "        vertical-align: middle;\n",
       "    }\n",
       "\n",
       "    .dataframe tbody tr th {\n",
       "        vertical-align: top;\n",
       "    }\n",
       "\n",
       "    .dataframe thead th {\n",
       "        text-align: right;\n",
       "    }\n",
       "</style>\n",
       "<table border=\"1\" class=\"dataframe\">\n",
       "  <thead>\n",
       "    <tr style=\"text-align: right;\">\n",
       "      <th>group</th>\n",
       "      <th>control_1</th>\n",
       "      <th>control_2</th>\n",
       "      <th>test</th>\n",
       "    </tr>\n",
       "    <tr>\n",
       "      <th>country</th>\n",
       "      <th></th>\n",
       "      <th></th>\n",
       "      <th></th>\n",
       "    </tr>\n",
       "  </thead>\n",
       "  <tbody>\n",
       "    <tr>\n",
       "      <th>Argentina</th>\n",
       "      <td>368.712082</td>\n",
       "      <td>304.828715</td>\n",
       "      <td>474.795455</td>\n",
       "    </tr>\n",
       "    <tr>\n",
       "      <th>Chile</th>\n",
       "      <td>339.947735</td>\n",
       "      <td>379.772727</td>\n",
       "      <td>257.132353</td>\n",
       "    </tr>\n",
       "    <tr>\n",
       "      <th>France</th>\n",
       "      <td>474.078378</td>\n",
       "      <td>396.465426</td>\n",
       "      <td>829.247911</td>\n",
       "    </tr>\n",
       "    <tr>\n",
       "      <th>Germany</th>\n",
       "      <td>127.648936</td>\n",
       "      <td>353.509901</td>\n",
       "      <td>459.789474</td>\n",
       "    </tr>\n",
       "    <tr>\n",
       "      <th>Israel</th>\n",
       "      <td>1051.449541</td>\n",
       "      <td>867.500000</td>\n",
       "      <td>882.528302</td>\n",
       "    </tr>\n",
       "    <tr>\n",
       "      <th>Italy</th>\n",
       "      <td>405.584570</td>\n",
       "      <td>393.771331</td>\n",
       "      <td>351.160991</td>\n",
       "    </tr>\n",
       "    <tr>\n",
       "      <th>Spain</th>\n",
       "      <td>289.649123</td>\n",
       "      <td>625.090323</td>\n",
       "      <td>948.265781</td>\n",
       "    </tr>\n",
       "    <tr>\n",
       "      <th>United Arab Emirates</th>\n",
       "      <td>364.942029</td>\n",
       "      <td>555.180095</td>\n",
       "      <td>905.168142</td>\n",
       "    </tr>\n",
       "    <tr>\n",
       "      <th>United Kingdom (Great Britain)</th>\n",
       "      <td>1362.773973</td>\n",
       "      <td>660.773973</td>\n",
       "      <td>457.846154</td>\n",
       "    </tr>\n",
       "    <tr>\n",
       "      <th>United States of America</th>\n",
       "      <td>490.571040</td>\n",
       "      <td>388.049125</td>\n",
       "      <td>490.593103</td>\n",
       "    </tr>\n",
       "  </tbody>\n",
       "</table>\n",
       "</div>"
      ],
      "text/plain": [
       "group                             control_1   control_2        test\n",
       "country                                                            \n",
       "Argentina                        368.712082  304.828715  474.795455\n",
       "Chile                            339.947735  379.772727  257.132353\n",
       "France                           474.078378  396.465426  829.247911\n",
       "Germany                          127.648936  353.509901  459.789474\n",
       "Israel                          1051.449541  867.500000  882.528302\n",
       "Italy                            405.584570  393.771331  351.160991\n",
       "Spain                            289.649123  625.090323  948.265781\n",
       "United Arab Emirates             364.942029  555.180095  905.168142\n",
       "United Kingdom (Great Britain)  1362.773973  660.773973  457.846154\n",
       "United States of America         490.571040  388.049125  490.593103"
      ]
     },
     "execution_count": 223,
     "metadata": {},
     "output_type": "execute_result"
    }
   ],
   "source": [
    "# посмотрим также распределение arpu\n",
    "users_cor.query('country in @country_top') \\\n",
    "    .groupby(['country','group'], as_index = False) \\\n",
    "    .agg({'revenue':'mean'}) \\\n",
    "    .pivot(index = 'country', columns = 'group', values = 'revenue')"
   ]
  },
  {
   "cell_type": "markdown",
   "id": "147c5441",
   "metadata": {},
   "source": [
    "Посмотрим поближе Spain, United Arab Emirates и France"
   ]
  },
  {
   "cell_type": "code",
   "execution_count": 224,
   "id": "e67519bc",
   "metadata": {},
   "outputs": [],
   "source": [
    "# Проведем Xu -квадрат для всех"
   ]
  },
  {
   "cell_type": "code",
   "execution_count": 225,
   "id": "70a15ba3",
   "metadata": {},
   "outputs": [],
   "source": [
    "country_int = ['Spain', 'United Arab Emirates', 'France']"
   ]
  },
  {
   "cell_type": "code",
   "execution_count": 226,
   "id": "b618a5e2",
   "metadata": {},
   "outputs": [],
   "source": [
    "p_chi2 = []\n",
    "for c in country_int:\n",
    "    value = users_cor.query(\"country == @c\")\n",
    "    stat, p, dof, expected = st.chi2_contingency(pd.crosstab(value.premium_no_trial, value.group))\n",
    "    p_chi2.append(p)\n",
    "p_chi2_country = pd.DataFrame({'country': country_int, 'p_value': p_chi2})"
   ]
  },
  {
   "cell_type": "code",
   "execution_count": 227,
   "id": "8058e7e0",
   "metadata": {},
   "outputs": [
    {
     "data": {
      "text/html": [
       "<div>\n",
       "<style scoped>\n",
       "    .dataframe tbody tr th:only-of-type {\n",
       "        vertical-align: middle;\n",
       "    }\n",
       "\n",
       "    .dataframe tbody tr th {\n",
       "        vertical-align: top;\n",
       "    }\n",
       "\n",
       "    .dataframe thead th {\n",
       "        text-align: right;\n",
       "    }\n",
       "</style>\n",
       "<table border=\"1\" class=\"dataframe\">\n",
       "  <thead>\n",
       "    <tr style=\"text-align: right;\">\n",
       "      <th></th>\n",
       "      <th>country</th>\n",
       "      <th>p_value</th>\n",
       "    </tr>\n",
       "  </thead>\n",
       "  <tbody>\n",
       "    <tr>\n",
       "      <th>0</th>\n",
       "      <td>Spain</td>\n",
       "      <td>0.295573</td>\n",
       "    </tr>\n",
       "    <tr>\n",
       "      <th>1</th>\n",
       "      <td>United Arab Emirates</td>\n",
       "      <td>0.664344</td>\n",
       "    </tr>\n",
       "    <tr>\n",
       "      <th>2</th>\n",
       "      <td>France</td>\n",
       "      <td>0.142820</td>\n",
       "    </tr>\n",
       "  </tbody>\n",
       "</table>\n",
       "</div>"
      ],
      "text/plain": [
       "                country   p_value\n",
       "0                 Spain  0.295573\n",
       "1  United Arab Emirates  0.664344\n",
       "2                France  0.142820"
      ]
     },
     "execution_count": 227,
     "metadata": {},
     "output_type": "execute_result"
    }
   ],
   "source": [
    "p_chi2_country"
   ]
  },
  {
   "cell_type": "markdown",
   "id": "7b8c0057",
   "metadata": {},
   "source": [
    "В отличии от общей тенденции на уменьшение конверсии, в данной группе статистических различий не зафиксированo. Проверим их arpu."
   ]
  },
  {
   "cell_type": "code",
   "execution_count": 228,
   "id": "b7a789b7",
   "metadata": {},
   "outputs": [],
   "source": [
    "# проверим arpu"
   ]
  },
  {
   "cell_type": "code",
   "execution_count": 229,
   "id": "02234bcd",
   "metadata": {},
   "outputs": [
    {
     "data": {
      "application/vnd.jupyter.widget-view+json": {
       "model_id": "46338d0233284a48a22354841498fa91",
       "version_major": 2,
       "version_minor": 0
      },
      "text/plain": [
       "  0%|          | 0/1000 [00:00<?, ?it/s]"
      ]
     },
     "metadata": {},
     "output_type": "display_data"
    },
    {
     "data": {
      "image/png": "[encoded data removed]",
      "text/plain": [
       "<Figure size 432x288 with 1 Axes>"
      ]
     },
     "metadata": {},
     "output_type": "display_data"
    },
    {
     "data": {
      "application/vnd.jupyter.widget-view+json": {
       "model_id": "0e2e299f97db4d0882f8772c1819bfa8",
       "version_major": 2,
       "version_minor": 0
      },
      "text/plain": [
       "  0%|          | 0/1000 [00:00<?, ?it/s]"
      ]
     },
     "metadata": {},
     "output_type": "display_data"
    },
    {
     "data": {
      "image/png": "[encoded data removed]",
      "text/plain": [
       "<Figure size 432x288 with 1 Axes>"
      ]
     },
     "metadata": {},
     "output_type": "display_data"
    },
    {
     "data": {
      "application/vnd.jupyter.widget-view+json": {
       "model_id": "4c37a41ce4a64f8b81a167fd10da2135",
       "version_major": 2,
       "version_minor": 0
      },
      "text/plain": [
       "  0%|          | 0/1000 [00:00<?, ?it/s]"
      ]
     },
     "metadata": {},
     "output_type": "display_data"
    },
    {
     "data": {
      "image/png": "[encoded data removed]",
      "text/plain": [
       "<Figure size 432x288 with 1 Axes>"
      ]
     },
     "metadata": {},
     "output_type": "display_data"
    },
    {
     "data": {
      "application/vnd.jupyter.widget-view+json": {
       "model_id": "b2c38af93c2141cfa5cb50f2e8b38577",
       "version_major": 2,
       "version_minor": 0
      },
      "text/plain": [
       "  0%|          | 0/1000 [00:00<?, ?it/s]"
      ]
     },
     "metadata": {},
     "output_type": "display_data"
    },
    {
     "data": {
      "image/png": "[encoded data removed]",
      "text/plain": [
       "<Figure size 432x288 with 1 Axes>"
      ]
     },
     "metadata": {},
     "output_type": "display_data"
    },
    {
     "data": {
      "application/vnd.jupyter.widget-view+json": {
       "model_id": "7fe2a2309c044d90bde7e531ad94c203",
       "version_major": 2,
       "version_minor": 0
      },
      "text/plain": [
       "  0%|          | 0/1000 [00:00<?, ?it/s]"
      ]
     },
     "metadata": {},
     "output_type": "display_data"
    },
    {
     "data": {
      "image/png": "[encoded data removed]",
      "text/plain": [
       "<Figure size 432x288 with 1 Axes>"
      ]
     },
     "metadata": {},
     "output_type": "display_data"
    },
    {
     "data": {
      "application/vnd.jupyter.widget-view+json": {
       "model_id": "b74fcfddc34e49a68bdd8a5e82c85228",
       "version_major": 2,
       "version_minor": 0
      },
      "text/plain": [
       "  0%|          | 0/1000 [00:00<?, ?it/s]"
      ]
     },
     "metadata": {},
     "output_type": "display_data"
    },
    {
     "data": {
      "image/png": "[encoded data removed]",
      "text/plain": [
       "<Figure size 432x288 with 1 Axes>"
      ]
     },
     "metadata": {},
     "output_type": "display_data"
    }
   ],
   "source": [
    "p_v_1 = []\n",
    "p_v_2 = []\n",
    "for c in country_int:\n",
    "    test = users_cor.query(\"country == @c and group == 'test'\")\n",
    "    control_1 = users_cor.query(\"country == @c and group == 'control_1'\")\n",
    "    control_2 = users_cor.query(\"country == @c and group == 'control_2'\")\n",
    "    boot_1 = get_bootstrap(test.revenue, control_1.revenue)\n",
    "    boot_2 = get_bootstrap(test.revenue, control_2.revenue)\n",
    "    p_v_1.append(boot_1['p_value'])\n",
    "    p_v_2.append(boot_2['p_value'])\n",
    "boot_coutry = pd.DataFrame({'country': country_int, 'p_value_1': p_v_1, 'p_value_2': p_v_2})"
   ]
  },
  {
   "cell_type": "code",
   "execution_count": 230,
   "id": "5b7d09d1",
   "metadata": {},
   "outputs": [
    {
     "data": {
      "text/html": [
       "<div>\n",
       "<style scoped>\n",
       "    .dataframe tbody tr th:only-of-type {\n",
       "        vertical-align: middle;\n",
       "    }\n",
       "\n",
       "    .dataframe tbody tr th {\n",
       "        vertical-align: top;\n",
       "    }\n",
       "\n",
       "    .dataframe thead th {\n",
       "        text-align: right;\n",
       "    }\n",
       "</style>\n",
       "<table border=\"1\" class=\"dataframe\">\n",
       "  <thead>\n",
       "    <tr style=\"text-align: right;\">\n",
       "      <th></th>\n",
       "      <th>country</th>\n",
       "      <th>p_value_1</th>\n",
       "      <th>p_value_2</th>\n",
       "    </tr>\n",
       "  </thead>\n",
       "  <tbody>\n",
       "    <tr>\n",
       "      <th>0</th>\n",
       "      <td>Spain</td>\n",
       "      <td>0.054</td>\n",
       "      <td>0.552</td>\n",
       "    </tr>\n",
       "    <tr>\n",
       "      <th>1</th>\n",
       "      <td>United Arab Emirates</td>\n",
       "      <td>0.364</td>\n",
       "      <td>0.596</td>\n",
       "    </tr>\n",
       "    <tr>\n",
       "      <th>2</th>\n",
       "      <td>France</td>\n",
       "      <td>0.236</td>\n",
       "      <td>0.108</td>\n",
       "    </tr>\n",
       "  </tbody>\n",
       "</table>\n",
       "</div>"
      ],
      "text/plain": [
       "                country  p_value_1  p_value_2\n",
       "0                 Spain      0.054      0.552\n",
       "1  United Arab Emirates      0.364      0.596\n",
       "2                France      0.236      0.108"
      ]
     },
     "execution_count": 230,
     "metadata": {},
     "output_type": "execute_result"
    }
   ],
   "source": [
    "boot_coutry"
   ]
  },
  {
   "cell_type": "markdown",
   "id": "e9459e87",
   "metadata": {},
   "source": [
    "p_value больше 0.05 значимых различий между странами не обнаружено"
   ]
  },
  {
   "cell_type": "markdown",
   "id": "71847c10",
   "metadata": {},
   "source": [
    "Есть страны в которых конверсия в премиум в тестовой группе не снизилась, но стран с статистиски значимым повышением arpu не найдено."
   ]
  },
  {
   "cell_type": "markdown",
   "id": "c33eb852",
   "metadata": {},
   "source": [
    "#### was_premium"
   ]
  },
  {
   "cell_type": "code",
   "execution_count": 231,
   "id": "1571ed26",
   "metadata": {},
   "outputs": [
    {
     "data": {
      "text/html": [
       "<div>\n",
       "<style scoped>\n",
       "    .dataframe tbody tr th:only-of-type {\n",
       "        vertical-align: middle;\n",
       "    }\n",
       "\n",
       "    .dataframe tbody tr th {\n",
       "        vertical-align: top;\n",
       "    }\n",
       "\n",
       "    .dataframe thead th {\n",
       "        text-align: right;\n",
       "    }\n",
       "</style>\n",
       "<table border=\"1\" class=\"dataframe\">\n",
       "  <thead>\n",
       "    <tr style=\"text-align: right;\">\n",
       "      <th></th>\n",
       "      <th>was_premium</th>\n",
       "      <th>group</th>\n",
       "      <th>premium_no_trial</th>\n",
       "    </tr>\n",
       "  </thead>\n",
       "  <tbody>\n",
       "    <tr>\n",
       "      <th>0</th>\n",
       "      <td>0.0</td>\n",
       "      <td>control_1</td>\n",
       "      <td>0.000000</td>\n",
       "    </tr>\n",
       "    <tr>\n",
       "      <th>1</th>\n",
       "      <td>0.0</td>\n",
       "      <td>control_2</td>\n",
       "      <td>0.000000</td>\n",
       "    </tr>\n",
       "    <tr>\n",
       "      <th>2</th>\n",
       "      <td>0.0</td>\n",
       "      <td>test</td>\n",
       "      <td>0.000000</td>\n",
       "    </tr>\n",
       "    <tr>\n",
       "      <th>3</th>\n",
       "      <td>1.0</td>\n",
       "      <td>control_1</td>\n",
       "      <td>0.225806</td>\n",
       "    </tr>\n",
       "    <tr>\n",
       "      <th>4</th>\n",
       "      <td>1.0</td>\n",
       "      <td>control_2</td>\n",
       "      <td>0.248175</td>\n",
       "    </tr>\n",
       "    <tr>\n",
       "      <th>5</th>\n",
       "      <td>1.0</td>\n",
       "      <td>test</td>\n",
       "      <td>0.164216</td>\n",
       "    </tr>\n",
       "  </tbody>\n",
       "</table>\n",
       "</div>"
      ],
      "text/plain": [
       "   was_premium      group  premium_no_trial\n",
       "0          0.0  control_1          0.000000\n",
       "1          0.0  control_2          0.000000\n",
       "2          0.0       test          0.000000\n",
       "3          1.0  control_1          0.225806\n",
       "4          1.0  control_2          0.248175\n",
       "5          1.0       test          0.164216"
      ]
     },
     "execution_count": 231,
     "metadata": {},
     "output_type": "execute_result"
    }
   ],
   "source": [
    "users_cor.groupby(['was_premium','group'], as_index = False).agg({'premium_no_trial':'mean'})"
   ]
  },
  {
   "cell_type": "markdown",
   "id": "fdd94847",
   "metadata": {},
   "source": [
    "Если was_premium это информация о том, был ли когда нибуль премиум у пользователей, до нашего теста, то здесь\n",
    "нововедение никак не повлияло на тех у кого не было раньше премиума (они не стали его покупать). Нужно больше\n",
    "информации по was_premium, чтобы проанализировать."
   ]
  },
  {
   "cell_type": "markdown",
   "id": "a63cf355",
   "metadata": {},
   "source": [
    "#### Возможно есть изменения в более узких группах"
   ]
  },
  {
   "cell_type": "code",
   "execution_count": 232,
   "id": "0b2064ec",
   "metadata": {},
   "outputs": [],
   "source": [
    "# в подгруппе в возрасте от 30 до 50 с привлкательностью от 1 до 999"
   ]
  },
  {
   "cell_type": "code",
   "execution_count": 233,
   "id": "e173f411",
   "metadata": {},
   "outputs": [
    {
     "data": {
      "text/plain": [
       "control_1    1168\n",
       "test         1164\n",
       "control_2    1089\n",
       "Name: group, dtype: int64"
      ]
     },
     "execution_count": 233,
     "metadata": {},
     "output_type": "execute_result"
    }
   ],
   "source": [
    "users_cor.query(\"attraction_сut in ['more','less'] and age_cut == 'mature_2'\").group.value_counts()"
   ]
  },
  {
   "cell_type": "code",
   "execution_count": 234,
   "id": "d884696c",
   "metadata": {},
   "outputs": [],
   "source": [
    "users_a_a = users_cor \\\n",
    "    .query(\"attraction_сut in ['more','less'] and age_cut == 'mature_2'\")"
   ]
  },
  {
   "cell_type": "code",
   "execution_count": 235,
   "id": "8fdc19ea",
   "metadata": {},
   "outputs": [],
   "source": [
    "# конверсия в премиум"
   ]
  },
  {
   "cell_type": "code",
   "execution_count": 236,
   "id": "158bc239",
   "metadata": {},
   "outputs": [
    {
     "data": {
      "text/plain": [
       "group\n",
       "control_1    0.023973\n",
       "control_2    0.029385\n",
       "test         0.028351\n",
       "Name: premium_no_trial, dtype: float64"
      ]
     },
     "execution_count": 236,
     "metadata": {},
     "output_type": "execute_result"
    }
   ],
   "source": [
    "users_a_a.groupby('group').premium_no_trial.mean()"
   ]
  },
  {
   "cell_type": "code",
   "execution_count": 237,
   "id": "36fccb30",
   "metadata": {},
   "outputs": [],
   "source": [
    "#  arpu"
   ]
  },
  {
   "cell_type": "code",
   "execution_count": 238,
   "id": "585b5896",
   "metadata": {},
   "outputs": [
    {
     "data": {
      "text/plain": [
       "group\n",
       "control_1     603.398116\n",
       "control_2     664.122130\n",
       "test         1000.508591\n",
       "Name: revenue, dtype: float64"
      ]
     },
     "execution_count": 238,
     "metadata": {},
     "output_type": "execute_result"
    }
   ],
   "source": [
    "users_a_a.groupby('group').revenue.mean()"
   ]
  },
  {
   "cell_type": "code",
   "execution_count": 239,
   "id": "0bc6f9f3",
   "metadata": {},
   "outputs": [
    {
     "data": {
      "application/vnd.jupyter.widget-view+json": {
       "model_id": "df4e502464cb4e03b5a8b93723157b10",
       "version_major": 2,
       "version_minor": 0
      },
      "text/plain": [
       "  0%|          | 0/1000 [00:00<?, ?it/s]"
      ]
     },
     "metadata": {},
     "output_type": "display_data"
    },
    {
     "data": {
      "image/png": "[encoded data removed]",
      "text/plain": [
       "<Figure size 432x288 with 1 Axes>"
      ]
     },
     "metadata": {},
     "output_type": "display_data"
    }
   ],
   "source": [
    "arpu_a_a2 = get_bootstrap(users_a_a.query('group == \"test\"').revenue, \n",
    "                         users_a_a.query('group == \"control_2\"').revenue)"
   ]
  },
  {
   "cell_type": "code",
   "execution_count": 240,
   "id": "4823260a",
   "metadata": {},
   "outputs": [
    {
     "data": {
      "text/plain": [
       "0.08"
      ]
     },
     "execution_count": 240,
     "metadata": {},
     "output_type": "execute_result"
    }
   ],
   "source": [
    "arpu_a_a2['p_value']"
   ]
  },
  {
   "cell_type": "markdown",
   "id": "b3029383",
   "metadata": {},
   "source": [
    "Стастически значимых различий в arpu не обнаружено"
   ]
  },
  {
   "cell_type": "markdown",
   "id": "aa57cd43",
   "metadata": {},
   "source": [
    "При более узких подгруппах, появляются различия в контрольных группах, и разница с тестовой группой может быть некорректна"
   ]
  },
  {
   "cell_type": "markdown",
   "id": "46a27c58",
   "metadata": {},
   "source": [
    "## Итог"
   ]
  },
  {
   "cell_type": "markdown",
   "id": "a526b1c6",
   "metadata": {},
   "source": [
    "Был проведен анализ результатов А/А/В тестирования дейтирингового приложения (одна тестовая и 2 контрольных группы), за период октябрь, ноябрь 2017 года."
   ]
  },
  {
   "cell_type": "markdown",
   "id": "e8583652",
   "metadata": {},
   "source": [
    "При первоначальной обработке данных:\n",
    "1. Убрал дубликаты из всех датасетов и строки с нулевыми значеними контрольной группы 1\n",
    "2. Убрал 2 пользователей  - один с очень большими повторяющимися покупками, второй в датой вне рассматриваемого периода\n",
    "3. Убрал дубликаты покупок премиумом, попавших в группу с payment_id = 0\n",
    "4. Выявил несоответствия информации у 2 пользователей о покупках в а датасетах users и transaction\n",
    "5. Выявил неправильные даты (в некоторых датах регистрации и покупки перепутаны местами месяц и день)"
   ]
  },
  {
   "cell_type": "markdown",
   "id": "dbf8c2a3",
   "metadata": {},
   "source": [
    "Провел А/А тестирование получившихся контрольных групп, которое показало корректность спливания."
   ]
  },
  {
   "cell_type": "markdown",
   "id": "104cfe0e",
   "metadata": {},
   "source": [
    "Провел анализ A/B тестированиы по трем метрикам:\n",
    "1. конверсия в премиум и конверсия в покупку в тестовой группе статистически значимо упали\n",
    "2. ARPPU в тестовой группе статистически значимо поднялся\n",
    "3. ARPU в тестовой группе статистически не изменился"
   ]
  },
  {
   "cell_type": "markdown",
   "id": "90e35e33",
   "metadata": {},
   "source": [
    "Провел анализ конверсии в премиум и arpu - для подгрупп: по странам, по возрасту, по привлекательности, по полу:\n",
    "1. Были выявленны подгруппы в которых конверсия в премиум значимо не упала (возраст от 30 до 50, пользователи с привлекательность от 500 до 999, страны Spain, United Arab Emirates и France), но ни для какой из этих групп не было выявлено увеличения в ARPU.\n",
    "2. Были выявлены подгруппы в которых очень сильно упала конверсия в тестовой группе. Данные подгруппы хуже отриагирвали на нововедение чем остальные - пользователи с нулевой и максимальной привлекательностью, польхователи в возрасте от 20 до 30 и от 50 до 60 лет"
   ]
  },
  {
   "cell_type": "markdown",
   "id": "0f5d194e",
   "metadata": {},
   "source": [
    "## Вывод"
   ]
  },
  {
   "cell_type": "markdown",
   "id": "b42d1c16",
   "metadata": {},
   "source": [
    "1. В целом эксперемент по изменению стоимости премиум-подписки при покупке через две новые платежные системы был скорее не успешен. В тестовой группе был рост ARPPU, что говорит об изменение поведения покупателей, но упала конверсия в премиум подписки. Как итог - доход с пользователя не изменился. И если нужно простое итоговое мнение, то внедрять нововедение не стоит.\n",
    "2. Но в любом случае изменения поменяли поведение пользователей. Значимо различалось поведение пользователей разных возрастов, а также с разной привлекательностью. При первичном анализе, возрастной подгруппы со значимым повышением arpu не выявили, но у разных возрастов была разная реакция на нововедение, что можно принять во внимание, если будет тестироватся нововедение в похожем направлении.\n",
    "3. Возможно более подробная информация по тому какие способы оплаты поменялись, и понимание сути колонок was_premium и is_premium дали бы более глубокий анализ с моей стороны"
   ]
  },
  {
   "cell_type": "code",
   "execution_count": null,
   "id": "3650b0ed",
   "metadata": {},
   "outputs": [],
   "source": []
  },
  {
   "cell_type": "code",
   "execution_count": null,
   "id": "6549ecf6",
   "metadata": {},
   "outputs": [],
   "source": []
  }
 ],
 "metadata": {
  "kernelspec": {
   "display_name": "Python 3 (ipykernel)",
   "language": "python",
   "name": "python3"
  },
  "language_info": {
   "codemirror_mode": {
    "name": "ipython",
    "version": 3
   },
   "file_extension": ".py",
   "mimetype": "text/x-python",
   "name": "python",
   "nbconvert_exporter": "python",
   "pygments_lexer": "ipython3",
   "version": "3.9.7"
  }
 },
 "nbformat": 4,
 "nbformat_minor": 5
}
