{
 "cells": [
  {
   "cell_type": "markdown",
   "id": "8a2a68f1",
   "metadata": {},
   "source": [
    "## Retention"
   ]
  },
  {
   "cell_type": "code",
   "execution_count": 4,
   "id": "9b90a1cc",
   "metadata": {},
   "outputs": [],
   "source": [
    "import pandas as pd\n",
    "from retention_game import retention_game\n",
    "\n",
    "import seaborn as sns\n",
    "import matplotlib.pylab as plt\n",
    "\n",
    "import requests\n",
    "from urllib.parse import urlencode"
   ]
  },
  {
   "cell_type": "markdown",
   "id": "038b9cbc",
   "metadata": {},
   "source": [
    "### Задание 1\n",
    "#### Retention – один из самых важных показателей в компании. Ваша задача – написать функцию, которая будет считать #### retention игроков (по дням от даты регистрации игрока)."
   ]
  },
  {
   "cell_type": "code",
   "execution_count": null,
   "id": "c007a7ca",
   "metadata": {},
   "outputs": [],
   "source": [
    "# создадим функцию для получения url загрузки и загрузим данные"
   ]
  },
  {
   "cell_type": "code",
   "execution_count": 5,
   "id": "eae48de5",
   "metadata": {},
   "outputs": [],
   "source": [
    "def get_url (public_key):\n",
    "    \"\"\"\"Чтобы получить URL для непосредственной загрузки файла, необходимо передать путь на Яндекс Диске,\n",
    "    по которому загруженный файл должен быть доступен\"\"\"\n",
    "    base_url = 'https://cloud-api.yandex.net/v1/disk/public/resources/download?'\n",
    "    final_url = base_url + urlencode(dict(public_key=public_key))\n",
    "    response = requests.get(final_url)\n",
    "    download_url = response.json()['href']\n",
    "    return download_url"
   ]
  },
  {
   "cell_type": "code",
   "execution_count": 6,
   "id": "a9697fbc",
   "metadata": {
    "scrolled": true
   },
   "outputs": [],
   "source": [
    "# загружаем данные и проводим осмотр\n",
    "reg = pd.read_csv(get_url('https://disk.yandex.ru/d/y8Jarq4NzE4naw'), sep = ';')\n",
    "auth = pd.read_csv(get_url('https://disk.yandex.ru/d/VBPzZH9-K5LieA'), sep = ';')"
   ]
  },
  {
   "cell_type": "code",
   "execution_count": 7,
   "id": "a13b82d3",
   "metadata": {},
   "outputs": [
    {
     "name": "stdout",
     "output_type": "stream",
     "text": [
      "<class 'pandas.core.frame.DataFrame'>\n",
      "RangeIndex: 9601013 entries, 0 to 9601012\n",
      "Data columns (total 2 columns):\n",
      " #   Column   Dtype\n",
      "---  ------   -----\n",
      " 0   auth_ts  int64\n",
      " 1   uid      int64\n",
      "dtypes: int64(2)\n",
      "memory usage: 146.5 MB\n"
     ]
    }
   ],
   "source": [
    "auth.info()"
   ]
  },
  {
   "cell_type": "code",
   "execution_count": 8,
   "id": "8ff57c2b",
   "metadata": {},
   "outputs": [
    {
     "data": {
      "text/html": [
       "<div>\n",
       "<style scoped>\n",
       "    .dataframe tbody tr th:only-of-type {\n",
       "        vertical-align: middle;\n",
       "    }\n",
       "\n",
       "    .dataframe tbody tr th {\n",
       "        vertical-align: top;\n",
       "    }\n",
       "\n",
       "    .dataframe thead th {\n",
       "        text-align: right;\n",
       "    }\n",
       "</style>\n",
       "<table border=\"1\" class=\"dataframe\">\n",
       "  <thead>\n",
       "    <tr style=\"text-align: right;\">\n",
       "      <th></th>\n",
       "      <th>auth_ts</th>\n",
       "      <th>uid</th>\n",
       "    </tr>\n",
       "  </thead>\n",
       "  <tbody>\n",
       "    <tr>\n",
       "      <th>0</th>\n",
       "      <td>911382223</td>\n",
       "      <td>1</td>\n",
       "    </tr>\n",
       "  </tbody>\n",
       "</table>\n",
       "</div>"
      ],
      "text/plain": [
       "     auth_ts  uid\n",
       "0  911382223    1"
      ]
     },
     "execution_count": 8,
     "metadata": {},
     "output_type": "execute_result"
    }
   ],
   "source": [
    "auth.head(1)"
   ]
  },
  {
   "cell_type": "code",
   "execution_count": 9,
   "id": "97b37c12",
   "metadata": {},
   "outputs": [
    {
     "data": {
      "text/html": [
       "<div>\n",
       "<style scoped>\n",
       "    .dataframe tbody tr th:only-of-type {\n",
       "        vertical-align: middle;\n",
       "    }\n",
       "\n",
       "    .dataframe tbody tr th {\n",
       "        vertical-align: top;\n",
       "    }\n",
       "\n",
       "    .dataframe thead th {\n",
       "        text-align: right;\n",
       "    }\n",
       "</style>\n",
       "<table border=\"1\" class=\"dataframe\">\n",
       "  <thead>\n",
       "    <tr style=\"text-align: right;\">\n",
       "      <th></th>\n",
       "      <th>reg_ts</th>\n",
       "      <th>uid</th>\n",
       "    </tr>\n",
       "  </thead>\n",
       "  <tbody>\n",
       "    <tr>\n",
       "      <th>0</th>\n",
       "      <td>911382223</td>\n",
       "      <td>1</td>\n",
       "    </tr>\n",
       "  </tbody>\n",
       "</table>\n",
       "</div>"
      ],
      "text/plain": [
       "      reg_ts  uid\n",
       "0  911382223    1"
      ]
     },
     "execution_count": 9,
     "metadata": {},
     "output_type": "execute_result"
    }
   ],
   "source": [
    "reg.head(1)"
   ]
  },
  {
   "cell_type": "code",
   "execution_count": 10,
   "id": "e278ff7a",
   "metadata": {},
   "outputs": [],
   "source": [
    "# Переводим столбец из unit time в формат \"YYYY-MM-DD\" \n",
    "reg.reg_ts = pd.to_datetime(reg.reg_ts, unit='s')\n",
    "reg.reg_ts = reg.reg_ts.dt.normalize()"
   ]
  },
  {
   "cell_type": "code",
   "execution_count": 11,
   "id": "4789111f",
   "metadata": {},
   "outputs": [],
   "source": [
    "# Объеденяем два датасета\n",
    "auth_reg = auth.merge(reg, on = 'uid', how = 'left')"
   ]
  },
  {
   "cell_type": "code",
   "execution_count": 12,
   "id": "a192a904",
   "metadata": {},
   "outputs": [],
   "source": [
    "# Переводим столбец из unit time в формат \"YYYY-MM-DD\"\n",
    "auth_reg.auth_ts = pd.to_datetime(auth_reg.auth_ts, unit='s')\n",
    "auth_reg.auth_ts = auth_reg.auth_ts.dt.normalize()"
   ]
  },
  {
   "cell_type": "code",
   "execution_count": 13,
   "id": "766110fd",
   "metadata": {},
   "outputs": [],
   "source": [
    "# Создаем столбец с информаей о разнице ней между регистрацией и авторизацией\n",
    "auth_reg['diff'] = auth_reg['auth_ts'] - auth_reg['reg_ts'] "
   ]
  },
  {
   "cell_type": "code",
   "execution_count": 14,
   "id": "751c8f3c",
   "metadata": {},
   "outputs": [],
   "source": [
    "# Создаем датасет где индексы - даты регистрации, столбцы - количество дней с регистрации до авторизации\n",
    "pivot = auth_reg \\\n",
    "    .groupby(['reg_ts','diff'], as_index = False) \\\n",
    "    .agg({'uid':'nunique'}) \\\n",
    "    .pivot(index='reg_ts', columns='diff', values='uid')"
   ]
  },
  {
   "cell_type": "code",
   "execution_count": 15,
   "id": "8553b7d5",
   "metadata": {},
   "outputs": [],
   "source": [
    "# Высчитываем Retention в процентах и округляем до 1 значения после запятой\n",
    "retention = pivot.divide(pivot['0 days'],axis=0).mul(100).fillna(0).round(1)"
   ]
  },
  {
   "cell_type": "code",
   "execution_count": 16,
   "id": "69c5c8a8",
   "metadata": {},
   "outputs": [
    {
     "data": {
      "text/html": [
       "<div>\n",
       "<style scoped>\n",
       "    .dataframe tbody tr th:only-of-type {\n",
       "        vertical-align: middle;\n",
       "    }\n",
       "\n",
       "    .dataframe tbody tr th {\n",
       "        vertical-align: top;\n",
       "    }\n",
       "\n",
       "    .dataframe thead th {\n",
       "        text-align: right;\n",
       "    }\n",
       "</style>\n",
       "<table border=\"1\" class=\"dataframe\">\n",
       "  <thead>\n",
       "    <tr style=\"text-align: right;\">\n",
       "      <th>diff</th>\n",
       "      <th>0 days</th>\n",
       "      <th>1 days</th>\n",
       "      <th>2 days</th>\n",
       "      <th>3 days</th>\n",
       "      <th>4 days</th>\n",
       "      <th>5 days</th>\n",
       "      <th>6 days</th>\n",
       "      <th>7 days</th>\n",
       "      <th>8 days</th>\n",
       "      <th>9 days</th>\n",
       "      <th>...</th>\n",
       "      <th>7701 days</th>\n",
       "      <th>7704 days</th>\n",
       "      <th>7706 days</th>\n",
       "      <th>7709 days</th>\n",
       "      <th>7712 days</th>\n",
       "      <th>7716 days</th>\n",
       "      <th>7720 days</th>\n",
       "      <th>7721 days</th>\n",
       "      <th>7727 days</th>\n",
       "      <th>7729 days</th>\n",
       "    </tr>\n",
       "    <tr>\n",
       "      <th>reg_ts</th>\n",
       "      <th></th>\n",
       "      <th></th>\n",
       "      <th></th>\n",
       "      <th></th>\n",
       "      <th></th>\n",
       "      <th></th>\n",
       "      <th></th>\n",
       "      <th></th>\n",
       "      <th></th>\n",
       "      <th></th>\n",
       "      <th></th>\n",
       "      <th></th>\n",
       "      <th></th>\n",
       "      <th></th>\n",
       "      <th></th>\n",
       "      <th></th>\n",
       "      <th></th>\n",
       "      <th></th>\n",
       "      <th></th>\n",
       "      <th></th>\n",
       "      <th></th>\n",
       "    </tr>\n",
       "  </thead>\n",
       "  <tbody>\n",
       "    <tr>\n",
       "      <th>1998-11-18</th>\n",
       "      <td>100.0</td>\n",
       "      <td>0.0</td>\n",
       "      <td>0.0</td>\n",
       "      <td>0.0</td>\n",
       "      <td>0.0</td>\n",
       "      <td>0.0</td>\n",
       "      <td>0.0</td>\n",
       "      <td>0.0</td>\n",
       "      <td>0.0</td>\n",
       "      <td>0.0</td>\n",
       "      <td>...</td>\n",
       "      <td>0.0</td>\n",
       "      <td>0.0</td>\n",
       "      <td>0.0</td>\n",
       "      <td>0.0</td>\n",
       "      <td>0.0</td>\n",
       "      <td>0.0</td>\n",
       "      <td>0.0</td>\n",
       "      <td>0.0</td>\n",
       "      <td>0.0</td>\n",
       "      <td>0.0</td>\n",
       "    </tr>\n",
       "    <tr>\n",
       "      <th>1999-07-22</th>\n",
       "      <td>100.0</td>\n",
       "      <td>0.0</td>\n",
       "      <td>0.0</td>\n",
       "      <td>100.0</td>\n",
       "      <td>0.0</td>\n",
       "      <td>0.0</td>\n",
       "      <td>0.0</td>\n",
       "      <td>0.0</td>\n",
       "      <td>0.0</td>\n",
       "      <td>100.0</td>\n",
       "      <td>...</td>\n",
       "      <td>100.0</td>\n",
       "      <td>100.0</td>\n",
       "      <td>100.0</td>\n",
       "      <td>100.0</td>\n",
       "      <td>100.0</td>\n",
       "      <td>100.0</td>\n",
       "      <td>100.0</td>\n",
       "      <td>100.0</td>\n",
       "      <td>100.0</td>\n",
       "      <td>100.0</td>\n",
       "    </tr>\n",
       "    <tr>\n",
       "      <th>2000-01-13</th>\n",
       "      <td>100.0</td>\n",
       "      <td>0.0</td>\n",
       "      <td>0.0</td>\n",
       "      <td>0.0</td>\n",
       "      <td>0.0</td>\n",
       "      <td>0.0</td>\n",
       "      <td>0.0</td>\n",
       "      <td>0.0</td>\n",
       "      <td>0.0</td>\n",
       "      <td>0.0</td>\n",
       "      <td>...</td>\n",
       "      <td>0.0</td>\n",
       "      <td>0.0</td>\n",
       "      <td>0.0</td>\n",
       "      <td>0.0</td>\n",
       "      <td>0.0</td>\n",
       "      <td>0.0</td>\n",
       "      <td>0.0</td>\n",
       "      <td>0.0</td>\n",
       "      <td>0.0</td>\n",
       "      <td>0.0</td>\n",
       "    </tr>\n",
       "    <tr>\n",
       "      <th>2000-05-28</th>\n",
       "      <td>100.0</td>\n",
       "      <td>0.0</td>\n",
       "      <td>0.0</td>\n",
       "      <td>0.0</td>\n",
       "      <td>0.0</td>\n",
       "      <td>0.0</td>\n",
       "      <td>0.0</td>\n",
       "      <td>0.0</td>\n",
       "      <td>0.0</td>\n",
       "      <td>0.0</td>\n",
       "      <td>...</td>\n",
       "      <td>0.0</td>\n",
       "      <td>0.0</td>\n",
       "      <td>0.0</td>\n",
       "      <td>0.0</td>\n",
       "      <td>0.0</td>\n",
       "      <td>0.0</td>\n",
       "      <td>0.0</td>\n",
       "      <td>0.0</td>\n",
       "      <td>0.0</td>\n",
       "      <td>0.0</td>\n",
       "    </tr>\n",
       "    <tr>\n",
       "      <th>2000-09-16</th>\n",
       "      <td>100.0</td>\n",
       "      <td>0.0</td>\n",
       "      <td>0.0</td>\n",
       "      <td>0.0</td>\n",
       "      <td>0.0</td>\n",
       "      <td>0.0</td>\n",
       "      <td>0.0</td>\n",
       "      <td>0.0</td>\n",
       "      <td>0.0</td>\n",
       "      <td>0.0</td>\n",
       "      <td>...</td>\n",
       "      <td>0.0</td>\n",
       "      <td>0.0</td>\n",
       "      <td>0.0</td>\n",
       "      <td>0.0</td>\n",
       "      <td>0.0</td>\n",
       "      <td>0.0</td>\n",
       "      <td>0.0</td>\n",
       "      <td>0.0</td>\n",
       "      <td>0.0</td>\n",
       "      <td>0.0</td>\n",
       "    </tr>\n",
       "  </tbody>\n",
       "</table>\n",
       "<p>5 rows × 5916 columns</p>\n",
       "</div>"
      ],
      "text/plain": [
       "diff        0 days  1 days  2 days  3 days  4 days  5 days  6 days  7 days  \\\n",
       "reg_ts                                                                       \n",
       "1998-11-18   100.0     0.0     0.0     0.0     0.0     0.0     0.0     0.0   \n",
       "1999-07-22   100.0     0.0     0.0   100.0     0.0     0.0     0.0     0.0   \n",
       "2000-01-13   100.0     0.0     0.0     0.0     0.0     0.0     0.0     0.0   \n",
       "2000-05-28   100.0     0.0     0.0     0.0     0.0     0.0     0.0     0.0   \n",
       "2000-09-16   100.0     0.0     0.0     0.0     0.0     0.0     0.0     0.0   \n",
       "\n",
       "diff        8 days  9 days  ...  7701 days  7704 days  7706 days  7709 days  \\\n",
       "reg_ts                      ...                                               \n",
       "1998-11-18     0.0     0.0  ...        0.0        0.0        0.0        0.0   \n",
       "1999-07-22     0.0   100.0  ...      100.0      100.0      100.0      100.0   \n",
       "2000-01-13     0.0     0.0  ...        0.0        0.0        0.0        0.0   \n",
       "2000-05-28     0.0     0.0  ...        0.0        0.0        0.0        0.0   \n",
       "2000-09-16     0.0     0.0  ...        0.0        0.0        0.0        0.0   \n",
       "\n",
       "diff        7712 days  7716 days  7720 days  7721 days  7727 days  7729 days  \n",
       "reg_ts                                                                        \n",
       "1998-11-18        0.0        0.0        0.0        0.0        0.0        0.0  \n",
       "1999-07-22      100.0      100.0      100.0      100.0      100.0      100.0  \n",
       "2000-01-13        0.0        0.0        0.0        0.0        0.0        0.0  \n",
       "2000-05-28        0.0        0.0        0.0        0.0        0.0        0.0  \n",
       "2000-09-16        0.0        0.0        0.0        0.0        0.0        0.0  \n",
       "\n",
       "[5 rows x 5916 columns]"
      ]
     },
     "execution_count": 16,
     "metadata": {},
     "output_type": "execute_result"
    }
   ],
   "source": [
    "retention.head()"
   ]
  },
  {
   "cell_type": "code",
   "execution_count": 17,
   "id": "b84a4008",
   "metadata": {},
   "outputs": [],
   "source": [
    "# Пишем функцию в отдельном файле для опредления retention  игроков по дням от даты регистрации.\n",
    "# Когорты - дни регистрации. \n",
    "# Импортируем функцию в наш ноутбук (в начале)"
   ]
  },
  {
   "cell_type": "code",
   "execution_count": 18,
   "id": "805c1c53",
   "metadata": {},
   "outputs": [
    {
     "name": "stdout",
     "output_type": "stream",
     "text": [
      "Help on function retention_game in module retention_game:\n",
      "\n",
      "retention_game(df_reg, df_auth, date_reg_1, date_reg_2, ret_1, ret_2)\n",
      "    \" Возвращает retention заданых дней, для заданных когорт ( Когорты определены по дню регистрации).\n",
      "    :param df_reg: Датасет с информацией о регистрации пользователей\n",
      "    :type df_reg: columns [reg_ts] в формате unix time - int и [uid] - id  пользователя в int\n",
      "    :param df_auth: Датасет с информацией о авторизациях пользователей\n",
      "    :type df_reg: columns [auth_ts] в формате unix time - int и [uid] - id  пользователя в int\n",
      "    :param date_reg_1: Дата первой когорты, из промежутка который нас интересуте\n",
      "    :type date_reg_1: Формат ввода: \"YYYY-MM-DD\" str   \n",
      "    :param date_reg_2: Дата последней когорты, из промежутка который нас интересуте\n",
      "    :type date_reg_2: Формат ввода: \"YYYY-MM-DD\" str\n",
      "    :param ret_1: Указать Retention какого дня нас интересует\n",
      "            ( если только за один день, то продублировать значение в ret_2, если инетересует интервал то указать\n",
      "            день начала интервала)\n",
      "    :type ret_1:  int\n",
      "    :param ret_2: Указать Retention какого дня нас интересует\n",
      "            ( если только за один день, то продублировать значение из ret_1, если инетересует интервал то указать\n",
      "            день конца интервала)\n",
      "    :type ret_2:  int\n",
      "\n"
     ]
    }
   ],
   "source": [
    "# посмотрим документацию функции\n",
    "help(retention_game)"
   ]
  },
  {
   "cell_type": "code",
   "execution_count": null,
   "id": "065e6fab",
   "metadata": {},
   "outputs": [],
   "source": [
    "# посмотрим retention по заданным датам\n",
    "df = retention_game(reg, auth, '2020-08-01', '2020-08-16', 1, 10)\n",
    "df"
   ]
  },
  {
   "cell_type": "code",
   "execution_count": 16,
   "id": "92bc0031",
   "metadata": {},
   "outputs": [
    {
     "data": {
      "text/plain": [
       "Text(159.0, 0.5, 'Registration date')"
      ]
     },
     "execution_count": 16,
     "metadata": {},
     "output_type": "execute_result"
    },
    {
     "data": {
      "image/png": "[encoded data removed]",
      "text/plain": [
       "<Figure size 1440x1080 with 2 Axes>"
      ]
     },
     "metadata": {
      "needs_background": "light"
     },
     "output_type": "display_data"
    }
   ],
   "source": [
    "# Визуализируем через heatmap наш полученный датасет\n",
    "plt.figure(figsize=(20,15))\n",
    "plt.title('Retention %')\n",
    "ax = sns.heatmap(data=df, annot=True, cmap='Blues')\n",
    "ax.set_yticklabels(df.index)\n",
    "ax.set_xticklabels(df.columns)\n",
    "plt.xlabel('Days distance')\n",
    "plt.ylabel('Registration date')"
   ]
  }
 ],
 "metadata": {
  "kernelspec": {
   "display_name": "Python 3 (ipykernel)",
   "language": "python",
   "name": "python3"
  },
  "language_info": {
   "codemirror_mode": {
    "name": "ipython",
    "version": 3
   },
   "file_extension": ".py",
   "mimetype": "text/x-python",
   "name": "python",
   "nbconvert_exporter": "python",
   "pygments_lexer": "ipython3",
   "version": "3.9.7"
  }
 },
 "nbformat": 4,
 "nbformat_minor": 5
}
