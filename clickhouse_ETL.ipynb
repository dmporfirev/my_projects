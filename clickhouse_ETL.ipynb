{
 "cells": [
  {
   "cell_type": "code",
   "execution_count": 1,
   "id": "b6e2a368",
   "metadata": {},
   "outputs": [],
   "source": [
    "import pandas as pd\n",
    "import pandahouse as ph"
   ]
  },
  {
   "cell_type": "code",
   "execution_count": 2,
   "id": "d145e499",
   "metadata": {},
   "outputs": [],
   "source": [
    "connection_default = dict(database='default',\n",
    "                  host='https://clickhouse.lab.karpov.courses',\n",
    "                  user='student',\n",
    "                  password='dpo_python_2020')"
   ]
  },
  {
   "cell_type": "markdown",
   "id": "2627ac29",
   "metadata": {},
   "source": [
    "### Задача 1"
   ]
  },
  {
   "cell_type": "markdown",
   "id": "c028836b",
   "metadata": {},
   "source": [
    "Образовательные курсы состоят из различных уроков, каждый из которых состоит из нескольких маленьких заданий. Каждое такое маленькое задание называется \"горошиной\".\n",
    "\n",
    "Назовём очень усердным учеником того пользователя, который хотя бы раз за текущий месяц правильно решил 20 горошин."
   ]
  },
  {
   "cell_type": "markdown",
   "id": "4e3576a3",
   "metadata": {},
   "source": [
    "Необходимо написать оптимальный запрос, который даст информацию о количестве очень усердных студентов.\n",
    "\n",
    "NB! Под усердным студентом мы понимаем студента, который правильно решил 20 задач за текущий месяц."
   ]
  },
  {
   "cell_type": "code",
   "execution_count": 3,
   "id": "92c07a38",
   "metadata": {},
   "outputs": [],
   "source": [
    "# Посмотрим таблицу"
   ]
  },
  {
   "cell_type": "code",
   "execution_count": 4,
   "id": "dd42ff7b",
   "metadata": {},
   "outputs": [],
   "source": [
    "query_1 = \"\"\" \n",
    "SELECT\n",
    "    st_id,\n",
    "    toStartOfDay(timest) AS day,\n",
    "    correct,\n",
    "    subject\n",
    "FROM default.peas\n",
    "\"\"\""
   ]
  },
  {
   "cell_type": "code",
   "execution_count": 5,
   "id": "98c159b5",
   "metadata": {},
   "outputs": [
    {
     "data": {
      "text/html": [
       "<div>\n",
       "<style scoped>\n",
       "    .dataframe tbody tr th:only-of-type {\n",
       "        vertical-align: middle;\n",
       "    }\n",
       "\n",
       "    .dataframe tbody tr th {\n",
       "        vertical-align: top;\n",
       "    }\n",
       "\n",
       "    .dataframe thead th {\n",
       "        text-align: right;\n",
       "    }\n",
       "</style>\n",
       "<table border=\"1\" class=\"dataframe\">\n",
       "  <thead>\n",
       "    <tr style=\"text-align: right;\">\n",
       "      <th></th>\n",
       "      <th>st_id</th>\n",
       "      <th>day</th>\n",
       "      <th>correct</th>\n",
       "      <th>subject</th>\n",
       "    </tr>\n",
       "  </thead>\n",
       "  <tbody>\n",
       "    <tr>\n",
       "      <th>0</th>\n",
       "      <td>100379</td>\n",
       "      <td>2021-10-30</td>\n",
       "      <td>1</td>\n",
       "      <td>Theory of probability</td>\n",
       "    </tr>\n",
       "    <tr>\n",
       "      <th>1</th>\n",
       "      <td>100379</td>\n",
       "      <td>2021-10-30</td>\n",
       "      <td>0</td>\n",
       "      <td>Vizualization</td>\n",
       "    </tr>\n",
       "    <tr>\n",
       "      <th>2</th>\n",
       "      <td>100379</td>\n",
       "      <td>2021-10-30</td>\n",
       "      <td>1</td>\n",
       "      <td>Theory of probability</td>\n",
       "    </tr>\n",
       "    <tr>\n",
       "      <th>3</th>\n",
       "      <td>100379</td>\n",
       "      <td>2021-10-30</td>\n",
       "      <td>1</td>\n",
       "      <td>Vizualization</td>\n",
       "    </tr>\n",
       "    <tr>\n",
       "      <th>4</th>\n",
       "      <td>100379</td>\n",
       "      <td>2021-10-30</td>\n",
       "      <td>1</td>\n",
       "      <td>Theory of probability</td>\n",
       "    </tr>\n",
       "  </tbody>\n",
       "</table>\n",
       "</div>"
      ],
      "text/plain": [
       "    st_id        day  correct                subject\n",
       "0  100379 2021-10-30        1  Theory of probability\n",
       "1  100379 2021-10-30        0          Vizualization\n",
       "2  100379 2021-10-30        1  Theory of probability\n",
       "3  100379 2021-10-30        1          Vizualization\n",
       "4  100379 2021-10-30        1  Theory of probability"
      ]
     },
     "execution_count": 5,
     "metadata": {},
     "output_type": "execute_result"
    }
   ],
   "source": [
    "df = ph.read_clickhouse(query = query_1, connection = connection_default)\n",
    "df.head()"
   ]
  },
  {
   "cell_type": "code",
   "execution_count": 6,
   "id": "8e2ef415",
   "metadata": {},
   "outputs": [],
   "source": [
    "# какой временной интервал в?"
   ]
  },
  {
   "cell_type": "code",
   "execution_count": 7,
   "id": "53209924",
   "metadata": {},
   "outputs": [],
   "source": [
    "query_2 = \"\"\"\n",
    "SELECT DISTINCT toStartOfDay(timest) AS time\n",
    "FROM default.peas \n",
    "\"\"\""
   ]
  },
  {
   "cell_type": "code",
   "execution_count": 8,
   "id": "1b521275",
   "metadata": {},
   "outputs": [
    {
     "data": {
      "text/html": [
       "<div>\n",
       "<style scoped>\n",
       "    .dataframe tbody tr th:only-of-type {\n",
       "        vertical-align: middle;\n",
       "    }\n",
       "\n",
       "    .dataframe tbody tr th {\n",
       "        vertical-align: top;\n",
       "    }\n",
       "\n",
       "    .dataframe thead th {\n",
       "        text-align: right;\n",
       "    }\n",
       "</style>\n",
       "<table border=\"1\" class=\"dataframe\">\n",
       "  <thead>\n",
       "    <tr style=\"text-align: right;\">\n",
       "      <th></th>\n",
       "      <th>time</th>\n",
       "    </tr>\n",
       "  </thead>\n",
       "  <tbody>\n",
       "    <tr>\n",
       "      <th>0</th>\n",
       "      <td>2021-10-30</td>\n",
       "    </tr>\n",
       "    <tr>\n",
       "      <th>1</th>\n",
       "      <td>2021-10-31</td>\n",
       "    </tr>\n",
       "  </tbody>\n",
       "</table>\n",
       "</div>"
      ],
      "text/plain": [
       "        time\n",
       "0 2021-10-30\n",
       "1 2021-10-31"
      ]
     },
     "execution_count": 8,
     "metadata": {},
     "output_type": "execute_result"
    }
   ],
   "source": [
    "time = ph.read_clickhouse(query = query_2, connection = connection_default)\n",
    "time.head()"
   ]
  },
  {
   "cell_type": "code",
   "execution_count": 9,
   "id": "83eb31a9",
   "metadata": {},
   "outputs": [],
   "source": [
    "# информация за дня - значит берем всю информацию"
   ]
  },
  {
   "cell_type": "code",
   "execution_count": 10,
   "id": "0889bb53",
   "metadata": {},
   "outputs": [],
   "source": [
    "query_3 = \"\"\"\n",
    "SELECT COUNT(count_gor) AS count_20\n",
    "FROM ( \n",
    "SELECT \n",
    "    st_id,\n",
    "    COUNT( correct) AS count_gor\n",
    "FROM default.peas\n",
    "WHERE correct = 1\n",
    "GROUP BY st_id\n",
    "HAVING count_gor > 19\n",
    "    )\n",
    "\"\"\""
   ]
  },
  {
   "cell_type": "code",
   "execution_count": 11,
   "id": "d78f0326",
   "metadata": {},
   "outputs": [
    {
     "data": {
      "text/html": [
       "<div>\n",
       "<style scoped>\n",
       "    .dataframe tbody tr th:only-of-type {\n",
       "        vertical-align: middle;\n",
       "    }\n",
       "\n",
       "    .dataframe tbody tr th {\n",
       "        vertical-align: top;\n",
       "    }\n",
       "\n",
       "    .dataframe thead th {\n",
       "        text-align: right;\n",
       "    }\n",
       "</style>\n",
       "<table border=\"1\" class=\"dataframe\">\n",
       "  <thead>\n",
       "    <tr style=\"text-align: right;\">\n",
       "      <th></th>\n",
       "      <th>count_20</th>\n",
       "    </tr>\n",
       "  </thead>\n",
       "  <tbody>\n",
       "    <tr>\n",
       "      <th>0</th>\n",
       "      <td>136</td>\n",
       "    </tr>\n",
       "  </tbody>\n",
       "</table>\n",
       "</div>"
      ],
      "text/plain": [
       "   count_20\n",
       "0       136"
      ]
     },
     "execution_count": 11,
     "metadata": {},
     "output_type": "execute_result"
    }
   ],
   "source": [
    "count_20 = ph.read_clickhouse(query = query_3, connection = connection_default)\n",
    "count_20"
   ]
  },
  {
   "cell_type": "markdown",
   "id": "30e7074b",
   "metadata": {},
   "source": [
    "### Задача 2"
   ]
  },
  {
   "cell_type": "markdown",
   "id": "12b51fbb",
   "metadata": {},
   "source": [
    "Образовательная платформа предлагает пройти студентам курсы по модели trial: студент может решить бесплатно лишь 30 горошин в день. Для неограниченного количества заданий в определенной дисциплине студенту необходимо приобрести полный доступ. Команда провела эксперимент, где был протестирован новый экран оплаты."
   ]
  },
  {
   "cell_type": "markdown",
   "id": "d86a696f",
   "metadata": {},
   "source": [
    "Даны таблицы: default.peas (см. выше), default.studs и default.final_project_check"
   ]
  },
  {
   "cell_type": "markdown",
   "id": "00a1b1b3",
   "metadata": {},
   "source": [
    "Необходимо в одном запросе выгрузить следующую информацию о группах пользователей:\n",
    "\n",
    "1. ARPU \n",
    "2. ARPAU \n",
    "3. CR в покупку \n",
    "4. СR активного пользователя в покупку \n",
    "5. CR пользователя из активности по математике (subject = ’math’) в покупку курса по математике\n",
    "\n",
    "ARPU считается относительно всех пользователей, попавших в группы.\n",
    "\n",
    "Активным считается пользователь, за все время решивший больше 10 задач правильно в любых дисциплинах.\n",
    "\n",
    "Активным по математике считается пользователь, за все время решивший 2 или больше задач правильно по математике."
   ]
  },
  {
   "cell_type": "code",
   "execution_count": 12,
   "id": "3c314332",
   "metadata": {},
   "outputs": [],
   "source": [
    "# Посмотрим таблицу default_studs"
   ]
  },
  {
   "cell_type": "code",
   "execution_count": 13,
   "id": "e707224c",
   "metadata": {},
   "outputs": [],
   "source": [
    "query_2_1 = \"\"\" \n",
    "SELECT *\n",
    "FROM default.studs\n",
    "\"\"\""
   ]
  },
  {
   "cell_type": "code",
   "execution_count": 14,
   "id": "058b5014",
   "metadata": {},
   "outputs": [
    {
     "data": {
      "text/html": [
       "<div>\n",
       "<style scoped>\n",
       "    .dataframe tbody tr th:only-of-type {\n",
       "        vertical-align: middle;\n",
       "    }\n",
       "\n",
       "    .dataframe tbody tr th {\n",
       "        vertical-align: top;\n",
       "    }\n",
       "\n",
       "    .dataframe thead th {\n",
       "        text-align: right;\n",
       "    }\n",
       "</style>\n",
       "<table border=\"1\" class=\"dataframe\">\n",
       "  <thead>\n",
       "    <tr style=\"text-align: right;\">\n",
       "      <th></th>\n",
       "      <th>st_id</th>\n",
       "      <th>test_grp</th>\n",
       "    </tr>\n",
       "  </thead>\n",
       "  <tbody>\n",
       "    <tr>\n",
       "      <th>0</th>\n",
       "      <td>100379</td>\n",
       "      <td>pilot</td>\n",
       "    </tr>\n",
       "    <tr>\n",
       "      <th>1</th>\n",
       "      <td>101432</td>\n",
       "      <td>control</td>\n",
       "    </tr>\n",
       "    <tr>\n",
       "      <th>2</th>\n",
       "      <td>104818</td>\n",
       "      <td>pilot</td>\n",
       "    </tr>\n",
       "    <tr>\n",
       "      <th>3</th>\n",
       "      <td>104885</td>\n",
       "      <td>pilot</td>\n",
       "    </tr>\n",
       "    <tr>\n",
       "      <th>4</th>\n",
       "      <td>104966</td>\n",
       "      <td>pilot</td>\n",
       "    </tr>\n",
       "  </tbody>\n",
       "</table>\n",
       "</div>"
      ],
      "text/plain": [
       "    st_id test_grp\n",
       "0  100379    pilot\n",
       "1  101432  control\n",
       "2  104818    pilot\n",
       "3  104885    pilot\n",
       "4  104966    pilot"
      ]
     },
     "execution_count": 14,
     "metadata": {},
     "output_type": "execute_result"
    }
   ],
   "source": [
    "default_studs = ph.read_clickhouse(query = query_2_1, connection = connection_default)\n",
    "default_studs.head()"
   ]
  },
  {
   "cell_type": "code",
   "execution_count": 15,
   "id": "f76c9b53",
   "metadata": {},
   "outputs": [],
   "source": [
    "query_2_2 = \"\"\" \n",
    "SELECT\n",
    "    st_id,\n",
    "    toStartOfDay(sale_time) AS day,\n",
    "    money,\n",
    "    subject\n",
    "FROM default.final_project_check\n",
    "\"\"\""
   ]
  },
  {
   "cell_type": "code",
   "execution_count": 16,
   "id": "e3a5901f",
   "metadata": {},
   "outputs": [
    {
     "data": {
      "text/html": [
       "<div>\n",
       "<style scoped>\n",
       "    .dataframe tbody tr th:only-of-type {\n",
       "        vertical-align: middle;\n",
       "    }\n",
       "\n",
       "    .dataframe tbody tr th {\n",
       "        vertical-align: top;\n",
       "    }\n",
       "\n",
       "    .dataframe thead th {\n",
       "        text-align: right;\n",
       "    }\n",
       "</style>\n",
       "<table border=\"1\" class=\"dataframe\">\n",
       "  <thead>\n",
       "    <tr style=\"text-align: right;\">\n",
       "      <th></th>\n",
       "      <th>st_id</th>\n",
       "      <th>day</th>\n",
       "      <th>money</th>\n",
       "      <th>subject</th>\n",
       "    </tr>\n",
       "  </thead>\n",
       "  <tbody>\n",
       "    <tr>\n",
       "      <th>0</th>\n",
       "      <td>101432</td>\n",
       "      <td>2021-10-31</td>\n",
       "      <td>85000</td>\n",
       "      <td>Math</td>\n",
       "    </tr>\n",
       "    <tr>\n",
       "      <th>1</th>\n",
       "      <td>101432</td>\n",
       "      <td>2021-10-31</td>\n",
       "      <td>65000</td>\n",
       "      <td>Vizualization</td>\n",
       "    </tr>\n",
       "    <tr>\n",
       "      <th>2</th>\n",
       "      <td>104885</td>\n",
       "      <td>2021-10-30</td>\n",
       "      <td>65000</td>\n",
       "      <td>Vizualization</td>\n",
       "    </tr>\n",
       "    <tr>\n",
       "      <th>3</th>\n",
       "      <td>104885</td>\n",
       "      <td>2021-10-30</td>\n",
       "      <td>75000</td>\n",
       "      <td>Statistics</td>\n",
       "    </tr>\n",
       "    <tr>\n",
       "      <th>4</th>\n",
       "      <td>106464</td>\n",
       "      <td>2021-10-31</td>\n",
       "      <td>85000</td>\n",
       "      <td>Math</td>\n",
       "    </tr>\n",
       "  </tbody>\n",
       "</table>\n",
       "</div>"
      ],
      "text/plain": [
       "    st_id        day  money        subject\n",
       "0  101432 2021-10-31  85000           Math\n",
       "1  101432 2021-10-31  65000  Vizualization\n",
       "2  104885 2021-10-30  65000  Vizualization\n",
       "3  104885 2021-10-30  75000     Statistics\n",
       "4  106464 2021-10-31  85000           Math"
      ]
     },
     "execution_count": 16,
     "metadata": {},
     "output_type": "execute_result"
    }
   ],
   "source": [
    "default_final = ph.read_clickhouse(query = query_2_2, connection = connection_default)\n",
    "default_final.head()"
   ]
  },
  {
   "cell_type": "code",
   "execution_count": 17,
   "id": "7ae3a101",
   "metadata": {},
   "outputs": [],
   "source": [
    "#arpu доход со всех пользователей/ на количество всех пользователей"
   ]
  },
  {
   "cell_type": "code",
   "execution_count": 18,
   "id": "35b61a00",
   "metadata": {},
   "outputs": [],
   "source": [
    "# ARPAU (Average Revenue Per Active User) - средний платеж на всех активных пользователей. \n",
    "# количесто активных пользователей/ на сумму покупок активных пользователей"
   ]
  },
  {
   "cell_type": "code",
   "execution_count": 19,
   "id": "bce72073",
   "metadata": {},
   "outputs": [],
   "source": [
    "# CR в покупку - количетсво купивших/ на общее количество"
   ]
  },
  {
   "cell_type": "code",
   "execution_count": 20,
   "id": "5c9caaaf",
   "metadata": {},
   "outputs": [],
   "source": [
    "# CR активного пользователя в покупку - количество купивших с 10+ задач/ на общее количество c 10+ задач"
   ]
  },
  {
   "cell_type": "code",
   "execution_count": 21,
   "id": "1525997a",
   "metadata": {},
   "outputs": [],
   "source": [
    "# CR пользователя из активности по математике (subject = ’math’) в покупку курса по математике -\n",
    "# количество решивших 2+ задача по математике и кувивших math / на количество решивши 2+ задач"
   ]
  },
  {
   "cell_type": "code",
   "execution_count": 22,
   "id": "e7ee9aae",
   "metadata": {},
   "outputs": [
    {
     "data": {
      "text/html": [
       "<div>\n",
       "<style scoped>\n",
       "    .dataframe tbody tr th:only-of-type {\n",
       "        vertical-align: middle;\n",
       "    }\n",
       "\n",
       "    .dataframe tbody tr th {\n",
       "        vertical-align: top;\n",
       "    }\n",
       "\n",
       "    .dataframe thead th {\n",
       "        text-align: right;\n",
       "    }\n",
       "</style>\n",
       "<table border=\"1\" class=\"dataframe\">\n",
       "  <thead>\n",
       "    <tr style=\"text-align: right;\">\n",
       "      <th></th>\n",
       "      <th>s.test_grp</th>\n",
       "      <th>arpu</th>\n",
       "      <th>arpau</th>\n",
       "      <th>CR_purch</th>\n",
       "      <th>CR_purch_act</th>\n",
       "      <th>CR_math</th>\n",
       "    </tr>\n",
       "  </thead>\n",
       "  <tbody>\n",
       "    <tr>\n",
       "      <th>0</th>\n",
       "      <td>control</td>\n",
       "      <td>4540.983607</td>\n",
       "      <td>10393.700787</td>\n",
       "      <td>4.918033</td>\n",
       "      <td>11.023622</td>\n",
       "      <td>6.122449</td>\n",
       "    </tr>\n",
       "    <tr>\n",
       "      <th>1</th>\n",
       "      <td>pilot</td>\n",
       "      <td>11508.474576</td>\n",
       "      <td>29739.583333</td>\n",
       "      <td>10.847458</td>\n",
       "      <td>26.041667</td>\n",
       "      <td>9.523810</td>\n",
       "    </tr>\n",
       "  </tbody>\n",
       "</table>\n",
       "</div>"
      ],
      "text/plain": [
       "  s.test_grp          arpu         arpau   CR_purch  CR_purch_act   CR_math\n",
       "0    control   4540.983607  10393.700787   4.918033     11.023622  6.122449\n",
       "1      pilot  11508.474576  29739.583333  10.847458     26.041667  9.523810"
      ]
     },
     "execution_count": 22,
     "metadata": {},
     "output_type": "execute_result"
    }
   ],
   "source": [
    "query_2_3 = \"\"\"\n",
    "SELECT \n",
    "    s.test_grp,\n",
    "    SUM(money)/uniqExact(s.st_id)  AS arpu,\n",
    "    sumIf(money, sum_gor > 10)/uniqIf(s.st_id, p.sum_gor > 10) AS arpau,\n",
    "    100*uniqIf(s.st_id, money > 0)/uniqExact(s.st_id) AS CR_purch,\n",
    "    100*uniqIf(s.st_id, money > 0 AND sum_gor > 10)/uniqIf(s.st_id, sum_gor > 10) AS CR_purch_act,\n",
    "    100*uniqIf(s.st_id, subject = 'Math' AND sum_math >= 2)/uniqIf(s.st_id,sum_math >= 2) AS CR_math\n",
    "FROM\n",
    "    default.studs AS s\n",
    "    LEFT JOIN\n",
    "    default.final_project_check AS f\n",
    "    ON s.st_id = f.st_id\n",
    "    LEFT JOIN\n",
    "    (\n",
    "    SELECT \n",
    "        st_id,\n",
    "        SUM(correct) AS sum_gor,\n",
    "        sumIf(correct, subject = 'Math') AS sum_math\n",
    "    FROM default.peas\n",
    "    GROUP BY st_id\n",
    "    ) AS p\n",
    "    ON s.st_id = p.st_id\n",
    "GROUP BY test_grp\n",
    "    \n",
    "\"\"\"\n",
    "metric = ph.read_clickhouse(query = query_2_3, connection = connection_default)\n",
    "metric.head()"
   ]
  },
  {
   "cell_type": "code",
   "execution_count": 23,
   "id": "52ddd47f",
   "metadata": {},
   "outputs": [],
   "source": [
    "# попробуем сделать без комбинаторов агрегатных функций из clickhouse"
   ]
  },
  {
   "cell_type": "markdown",
   "id": "0eb7e2ec",
   "metadata": {},
   "source": [
    "Какие данные нам нужны:\n",
    "1. Сумма покупок\n",
    "2. Количество пользователей\n",
    "3. Сумма покупок пользователей сделавших более 10 уроков\n",
    "4. Количество пользователей сделавших более 10 уроков\n",
    "5. Количество пользователей сделавших покупку\n",
    "6. Количество пользователей сделавших покупку и сделавших более 10 уроков\n",
    "7. Количество пользователей купивших математику и сделавших 2 и более урока по математике\n",
    "8. Количество пользователей сделавших 2 и более урока по математике"
   ]
  },
  {
   "cell_type": "code",
   "execution_count": 24,
   "id": "b5c44cf6",
   "metadata": {},
   "outputs": [
    {
     "data": {
      "text/html": [
       "<div>\n",
       "<style scoped>\n",
       "    .dataframe tbody tr th:only-of-type {\n",
       "        vertical-align: middle;\n",
       "    }\n",
       "\n",
       "    .dataframe tbody tr th {\n",
       "        vertical-align: top;\n",
       "    }\n",
       "\n",
       "    .dataframe thead th {\n",
       "        text-align: right;\n",
       "    }\n",
       "</style>\n",
       "<table border=\"1\" class=\"dataframe\">\n",
       "  <thead>\n",
       "    <tr style=\"text-align: right;\">\n",
       "      <th></th>\n",
       "      <th>st.test_grp</th>\n",
       "      <th>arpu</th>\n",
       "      <th>arpau</th>\n",
       "      <th>CR_purch</th>\n",
       "      <th>CR_purch_act</th>\n",
       "      <th>CR_math</th>\n",
       "    </tr>\n",
       "  </thead>\n",
       "  <tbody>\n",
       "    <tr>\n",
       "      <th>0</th>\n",
       "      <td>control</td>\n",
       "      <td>4540.983607</td>\n",
       "      <td>10393.700787</td>\n",
       "      <td>0.049180</td>\n",
       "      <td>11.023622</td>\n",
       "      <td>6.122449</td>\n",
       "    </tr>\n",
       "    <tr>\n",
       "      <th>1</th>\n",
       "      <td>pilot</td>\n",
       "      <td>11508.474576</td>\n",
       "      <td>29739.583333</td>\n",
       "      <td>0.108475</td>\n",
       "      <td>26.041667</td>\n",
       "      <td>9.523810</td>\n",
       "    </tr>\n",
       "  </tbody>\n",
       "</table>\n",
       "</div>"
      ],
      "text/plain": [
       "  st.test_grp          arpu         arpau  CR_purch  CR_purch_act   CR_math\n",
       "0     control   4540.983607  10393.700787  0.049180     11.023622  6.122449\n",
       "1       pilot  11508.474576  29739.583333  0.108475     26.041667  9.523810"
      ]
     },
     "execution_count": 24,
     "metadata": {},
     "output_type": "execute_result"
    }
   ],
   "source": [
    "query_2_7 = \"\"\"\n",
    "SELECT \n",
    "    st.test_grp,\n",
    "    SUM(f.money_id)/uniqExact(st.st_id) AS arpu,\n",
    "    SUM(CASE WHEN sum_gor > 10 then f.money_id END)/SUM(CASE WHEN sum_gor > 10 then 1 END) AS arpau,\n",
    "    SUM(CASE WHEN f.money_id > 0 then 1 end)/COUNT(DISTINCT st.st_id) AS CR_purch,\n",
    "    SUM(CASE WHEN f.money_id > 0 AND sum_gor > 10 THEN 1 END)/\n",
    "    SUM(CASE WHEN sum_gor > 10 THEN 1 END)*100 AS CR_purch_act,\n",
    "    SUM(CASE WHEN math > 0 AND sum_math >= 2 THEN 1 END)/\n",
    "    SUM(CASE WHEN sum_math >= 2 THEN 1 END)*100 AS CR_math\n",
    "    \n",
    "    \n",
    "FROM\n",
    "    default.studs AS st\n",
    "    LEFT JOIN\n",
    "    (\n",
    "    SELECT \n",
    "        st_id,\n",
    "        SUM(correct) AS sum_gor,\n",
    "        SUM(CASE WHEN subject = 'Math' AND correct = 1 THEN 1 END) AS sum_math\n",
    "    FROM default.peas\n",
    "    GROUP BY st_id\n",
    "    ) AS s_m\n",
    "    ON st.st_id = s_m.st_id\n",
    "    LEFT JOIN\n",
    "    (\n",
    "    SELECT \n",
    "        st_id, \n",
    "        SUM(money) AS money_id,\n",
    "        SUM(CASE WHEN subject = 'Math' THEN 1 END) AS math\n",
    "    FROM default.final_project_check\n",
    "    GROUP BY st_id\n",
    "    ) AS f\n",
    "    ON st.st_id = f.st_id\n",
    "GROUP BY st.test_grp\n",
    "    \"\"\"\n",
    "answer = ph.read_clickhouse(query = query_2_7, connection = connection_default)\n",
    "answer.head()"
   ]
  },
  {
   "cell_type": "code",
   "execution_count": 25,
   "id": "8c9cf736",
   "metadata": {},
   "outputs": [],
   "source": [
    "# сделаем через WITH"
   ]
  },
  {
   "cell_type": "code",
   "execution_count": 26,
   "id": "2b395032",
   "metadata": {},
   "outputs": [
    {
     "data": {
      "text/html": [
       "<div>\n",
       "<style scoped>\n",
       "    .dataframe tbody tr th:only-of-type {\n",
       "        vertical-align: middle;\n",
       "    }\n",
       "\n",
       "    .dataframe tbody tr th {\n",
       "        vertical-align: top;\n",
       "    }\n",
       "\n",
       "    .dataframe thead th {\n",
       "        text-align: right;\n",
       "    }\n",
       "</style>\n",
       "<table border=\"1\" class=\"dataframe\">\n",
       "  <thead>\n",
       "    <tr style=\"text-align: right;\">\n",
       "      <th></th>\n",
       "      <th>st.test_grp</th>\n",
       "      <th>arpu</th>\n",
       "      <th>arpau</th>\n",
       "      <th>CR_purch</th>\n",
       "      <th>CR_purch_act</th>\n",
       "      <th>CR_math</th>\n",
       "    </tr>\n",
       "  </thead>\n",
       "  <tbody>\n",
       "    <tr>\n",
       "      <th>0</th>\n",
       "      <td>control</td>\n",
       "      <td>4540.983607</td>\n",
       "      <td>10393.700787</td>\n",
       "      <td>0.049180</td>\n",
       "      <td>11.023622</td>\n",
       "      <td>6.122449</td>\n",
       "    </tr>\n",
       "    <tr>\n",
       "      <th>1</th>\n",
       "      <td>pilot</td>\n",
       "      <td>11508.474576</td>\n",
       "      <td>29739.583333</td>\n",
       "      <td>0.108475</td>\n",
       "      <td>26.041667</td>\n",
       "      <td>9.523810</td>\n",
       "    </tr>\n",
       "  </tbody>\n",
       "</table>\n",
       "</div>"
      ],
      "text/plain": [
       "  st.test_grp          arpu         arpau  CR_purch  CR_purch_act   CR_math\n",
       "0     control   4540.983607  10393.700787  0.049180     11.023622  6.122449\n",
       "1       pilot  11508.474576  29739.583333  0.108475     26.041667  9.523810"
      ]
     },
     "execution_count": 26,
     "metadata": {},
     "output_type": "execute_result"
    }
   ],
   "source": [
    "query_2_8 = \"\"\"\n",
    "WITH \n",
    "    peas AS (\n",
    "        SELECT \n",
    "            st_id,\n",
    "            SUM(correct) AS sum_gor,\n",
    "            SUM(CASE WHEN subject = 'Math' AND correct = 1 THEN 1 END) AS sum_math\n",
    "        FROM default.peas\n",
    "        GROUP BY st_id),\n",
    "    \n",
    "    final AS (\n",
    "        SELECT \n",
    "            st_id, \n",
    "            SUM(money) AS money_id,\n",
    "            SUM(CASE WHEN subject = 'Math' THEN 1 END) AS math\n",
    "        FROM default.final_project_check\n",
    "        GROUP BY st_id)\n",
    "    \n",
    "\n",
    "SELECT \n",
    "    st.test_grp,\n",
    "    SUM(f.money_id)/uniqExact(st.st_id) AS arpu,\n",
    "    SUM(CASE WHEN sum_gor > 10 then f.money_id END)/SUM(CASE WHEN sum_gor > 10 then 1 END) AS arpau,\n",
    "    SUM(CASE WHEN f.money_id > 0 then 1 end)/COUNT(DISTINCT st.st_id) AS CR_purch,\n",
    "    SUM(CASE WHEN f.money_id > 0 AND sum_gor > 10 THEN 1 END)/\n",
    "    SUM(CASE WHEN sum_gor > 10 THEN 1 END)*100 AS CR_purch_act,\n",
    "    SUM(CASE WHEN math > 0 AND sum_math >= 2 THEN 1 END)/\n",
    "    SUM(CASE WHEN sum_math >= 2 THEN 1 END)*100 AS CR_math\n",
    "    \n",
    "    \n",
    "FROM\n",
    "    default.studs AS st\n",
    "    LEFT JOIN\n",
    "    peas AS p\n",
    "    ON st.st_id = p.st_id\n",
    "    LEFT JOIN\n",
    "    final as f\n",
    "    ON st.st_id = f.st_id\n",
    "GROUP BY \n",
    "    st.test_grp\n",
    "    \"\"\"\n",
    "answer_with = ph.read_clickhouse(query = query_2_8, connection = connection_default)\n",
    "answer_with.head()"
   ]
  }
 ],
 "metadata": {
  "kernelspec": {
   "display_name": "Python 3 (ipykernel)",
   "language": "python",
   "name": "python3"
  },
  "language_info": {
   "codemirror_mode": {
    "name": "ipython",
    "version": 3
   },
   "file_extension": ".py",
   "mimetype": "text/x-python",
   "name": "python",
   "nbconvert_exporter": "python",
   "pygments_lexer": "ipython3",
   "version": "3.9.7"
  }
 },
 "nbformat": 4,
 "nbformat_minor": 5
}
